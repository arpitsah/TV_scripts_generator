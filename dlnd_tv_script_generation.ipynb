{
 "cells": [
  {
   "cell_type": "markdown",
   "metadata": {},
   "source": [
    "# TV Script Generation\n",
    "In this project, you'll generate your own [Simpsons](https://en.wikipedia.org/wiki/The_Simpsons) TV scripts using RNNs.  You'll be using part of the [Simpsons dataset](https://www.kaggle.com/wcukierski/the-simpsons-by-the-data) of scripts from 27 seasons.  The Neural Network you'll build will generate a new TV script for a scene at [Moe's Tavern](https://simpsonswiki.com/wiki/Moe's_Tavern).\n",
    "## Get the Data\n",
    "The data is already provided for you.  You'll be using a subset of the original dataset.  It consists of only the scenes in Moe's Tavern.  This doesn't include other versions of the tavern, like \"Moe's Cavern\", \"Flaming Moe's\", \"Uncle Moe's Family Feed-Bag\", etc.."
   ]
  },
  {
   "cell_type": "code",
   "execution_count": 1,
   "metadata": {},
   "outputs": [],
   "source": [
    "\"\"\"\n",
    "DON'T MODIFY ANYTHING IN THIS CELL\n",
    "\"\"\"\n",
    "import helper\n",
    "\n",
    "data_dir = './data/simpsons/moes_tavern_lines.txt'\n",
    "text = helper.load_data(data_dir)\n",
    "# Ignore notice, since we don't use it for analysing the data\n",
    "text = text[81:]"
   ]
  },
  {
   "cell_type": "code",
   "execution_count": 2,
   "metadata": {},
   "outputs": [
    {
     "data": {
      "text/plain": [
       "305189"
      ]
     },
     "execution_count": 2,
     "metadata": {},
     "output_type": "execute_result"
    }
   ],
   "source": [
    "len(text)"
   ]
  },
  {
   "cell_type": "code",
   "execution_count": null,
   "metadata": {},
   "outputs": [],
   "source": []
  },
  {
   "cell_type": "markdown",
   "metadata": {},
   "source": [
    "## Explore the Data\n",
    "Play around with `view_sentence_range` to view different parts of the data."
   ]
  },
  {
   "cell_type": "code",
   "execution_count": 4,
   "metadata": {},
   "outputs": [
    {
     "name": "stdout",
     "output_type": "stream",
     "text": [
      "Dataset Stats\n",
      "Roughly the number of unique words: 11492\n",
      "Number of scenes: 262\n",
      "Average number of sentences in each scene: 15.248091603053435\n",
      "Number of lines: 4257\n",
      "Average number of words in each line: 11.50434578341555\n",
      "\n",
      "The sentences 0 to 10:\n",
      "Moe_Szyslak: (INTO PHONE) Moe's Tavern. Where the elite meet to drink.\n",
      "Bart_Simpson: Eh, yeah, hello, is Mike there? Last name, Rotch.\n",
      "Moe_Szyslak: (INTO PHONE) Hold on, I'll check. (TO BARFLIES) Mike Rotch. Mike Rotch. Hey, has anybody seen Mike Rotch, lately?\n",
      "Moe_Szyslak: (INTO PHONE) Listen you little puke. One of these days I'm gonna catch you, and I'm gonna carve my name on your back with an ice pick.\n",
      "Moe_Szyslak: What's the matter Homer? You're not your normal effervescent self.\n",
      "Homer_Simpson: I got my problems, Moe. Give me another one.\n",
      "Moe_Szyslak: Homer, hey, you should not drink to forget your problems.\n",
      "Barney_Gumble: Yeah, you should only drink to enhance your social skills.\n",
      "\n",
      "\n"
     ]
    }
   ],
   "source": [
    "view_sentence_range = (0, 10)\n",
    "\n",
    "\"\"\"\n",
    "DON'T MODIFY ANYTHING IN THIS CELL\n",
    "\"\"\"\n",
    "import numpy as np\n",
    "\n",
    "print('Dataset Stats')\n",
    "print('Roughly the number of unique words: {}'.format(len({word: None for word in text.split()})))\n",
    "scenes = text.split('\\n\\n')\n",
    "print('Number of scenes: {}'.format(len(scenes)))\n",
    "sentence_count_scene = [scene.count('\\n') for scene in scenes]\n",
    "print('Average number of sentences in each scene: {}'.format(np.average(sentence_count_scene)))\n",
    "\n",
    "sentences = [sentence for scene in scenes for sentence in scene.split('\\n')]\n",
    "print('Number of lines: {}'.format(len(sentences)))\n",
    "word_count_sentence = [len(sentence.split()) for sentence in sentences]\n",
    "print('Average number of words in each line: {}'.format(np.average(word_count_sentence)))\n",
    "\n",
    "print()\n",
    "print('The sentences {} to {}:'.format(*view_sentence_range))\n",
    "print('\\n'.join(text.split('\\n')[view_sentence_range[0]:view_sentence_range[1]]))"
   ]
  },
  {
   "cell_type": "code",
   "execution_count": 4,
   "metadata": {},
   "outputs": [
    {
     "data": {
      "text/plain": [
       "10"
      ]
     },
     "execution_count": 4,
     "metadata": {},
     "output_type": "execute_result"
    }
   ],
   "source": [
    "view_sentence_range[1]"
   ]
  },
  {
   "cell_type": "markdown",
   "metadata": {},
   "source": [
    "## Implement Preprocessing Functions\n",
    "The first thing to do to any dataset is preprocessing.  Implement the following preprocessing functions below:\n",
    "- Lookup Table\n",
    "- Tokenize Punctuation\n",
    "\n",
    "### Lookup Table\n",
    "To create a word embedding, you first need to transform the words to ids.  In this function, create two dictionaries:\n",
    "- Dictionary to go from the words to an id, we'll call `vocab_to_int`\n",
    "- Dictionary to go from the id to word, we'll call `int_to_vocab`\n",
    "\n",
    "Return these dictionaries in the following tuple `(vocab_to_int, int_to_vocab)`"
   ]
  },
  {
   "cell_type": "code",
   "execution_count": 6,
   "metadata": {},
   "outputs": [
    {
     "name": "stdout",
     "output_type": "stream",
     "text": [
      "Counter({'moe_szyslak': 5, 'mike': 4, 'rotch': 4, 'you': 4, 'your': 4, 'to': 3, 'drink': 3, 'the': 2, 'yeah': 2, 'name': 2, 'on': 2, 'hey': 2, 'one': 2, \"i'm\": 2, 'gonna': 2, 'my': 2, 'homer': 2, 'not': 2, 'problems': 2, 'should': 2, \"moe's\": 1, 'tavern': 1, 'where': 1, 'elite': 1, 'meet': 1, 'bart_simpson': 1, 'eh': 1, 'hello': 1, 'is': 1, 'there': 1, 'last': 1, 'hold': 1, \"i'll\": 1, 'check': 1, 'has': 1, 'anybody': 1, 'seen': 1, 'lately': 1, 'listen': 1, 'little': 1, 'puke': 1, 'of': 1, 'these': 1, 'days': 1, 'catch': 1, 'and': 1, 'carve': 1, 'back': 1, 'with': 1, 'an': 1, 'ice': 1, 'pick': 1, 'whats': 1, 'matter': 1, \"you're\": 1, 'normal': 1, 'effervescent': 1, 'self': 1, 'homer_simpson': 1, 'i': 1, 'got': 1, 'moe': 1, 'give': 1, 'me': 1, 'another': 1, 'forget': 1, 'barney_gumble': 1, 'only': 1, 'enhance': 1, 'social': 1, 'skills': 1})\n",
      "['moe_szyslak', 'mike', 'rotch', 'you', 'your', 'to', 'drink', 'the', 'yeah', 'name', 'on', 'hey', 'one', \"i'm\", 'gonna', 'my', 'homer', 'not', 'problems', 'should', \"moe's\", 'tavern', 'where', 'elite', 'meet', 'bart_simpson', 'eh', 'hello', 'is', 'there', 'last', 'hold', \"i'll\", 'check', 'has', 'anybody', 'seen', 'lately', 'listen', 'little', 'puke', 'of', 'these', 'days', 'catch', 'and', 'carve', 'back', 'with', 'an', 'ice', 'pick', 'whats', 'matter', \"you're\", 'normal', 'effervescent', 'self', 'homer_simpson', 'i', 'got', 'moe', 'give', 'me', 'another', 'forget', 'barney_gumble', 'only', 'enhance', 'social', 'skills']\n",
      "Tests Passed\n"
     ]
    }
   ],
   "source": [
    "import numpy as np\n",
    "import problem_unittests as tests\n",
    "from collections import Counter\n",
    "\n",
    "def create_lookup_tables(text):\n",
    "    \"\"\"\n",
    "    Create lookup tables for vocabulary\n",
    "    :param text: The text of tv scripts split into words\n",
    "    :return: A tuple of dicts (vocab_to_int, int_to_vocab)\n",
    "    \"\"\"\n",
    "    # TODO: Implement Function\n",
    "    word_counts = Counter(text)\n",
    "    #print(word_counts)\n",
    "    sorted_vocab = sorted(word_counts, key=word_counts.get, reverse=True)\n",
    "    #print(sorted_vocab)\n",
    "    int_to_vocab = {ii: word for ii, word in enumerate(sorted_vocab)}\n",
    "    vocab_to_int = {word: ii for ii, word in int_to_vocab.items()}\n",
    "    \n",
    "    return vocab_to_int, int_to_vocab\n",
    "\"\"\"\n",
    "DON'T MODIFY ANYTHING IN THIS CELL THAT IS BELOW THIS LINE\n",
    "\"\"\"\n",
    "tests.test_create_lookup_tables(create_lookup_tables)"
   ]
  },
  {
   "cell_type": "code",
   "execution_count": null,
   "metadata": {},
   "outputs": [],
   "source": []
  },
  {
   "cell_type": "markdown",
   "metadata": {},
   "source": [
    "### Tokenize Punctuation\n",
    "We'll be splitting the script into a word array using spaces as delimiters.  However, punctuations like periods and exclamation marks make it hard for the neural network to distinguish between the word \"bye\" and \"bye!\".\n",
    "\n",
    "Implement the function `token_lookup` to return a dict that will be used to tokenize symbols like \"!\" into \"||Exclamation_Mark||\".  Create a dictionary for the following symbols where the symbol is the key and value is the token:\n",
    "- Period ( . )\n",
    "- Comma ( , )\n",
    "- Quotation Mark ( \" )\n",
    "- Semicolon ( ; )\n",
    "- Exclamation mark ( ! )\n",
    "- Question mark ( ? )\n",
    "- Left Parentheses ( ( )\n",
    "- Right Parentheses ( ) )\n",
    "- Dash ( -- )\n",
    "- Return ( \\n )\n",
    "\n",
    "This dictionary will be used to token the symbols and add the delimiter (space) around it.  This separates the symbols as it's own word, making it easier for the neural network to predict on the next word. Make sure you don't use a token that could be confused as a word. Instead of using the token \"dash\", try using something like \"||dash||\"."
   ]
  },
  {
   "cell_type": "code",
   "execution_count": 8,
   "metadata": {},
   "outputs": [
    {
     "name": "stdout",
     "output_type": "stream",
     "text": [
      "Tests Passed\n"
     ]
    }
   ],
   "source": [
    "def token_lookup():\n",
    "    \"\"\"\n",
    "    Generate a dict to turn punctuation into a token.\n",
    "    :return: Tokenize dictionary where the key is the punctuation and the value is the token\n",
    "    \"\"\"\n",
    "    # TODO: Implement Function\n",
    "    lookup={\n",
    "        '.':'||period||',\n",
    "        ',':'||comma||',\n",
    "        '\"':'||quotation||',\n",
    "        ';':'||semicolon||',\n",
    "        '!':'||exclamation||',\n",
    "        '?':'||question||',\n",
    "        '(':'||left_paranthesis||',\n",
    "        ')':'||right_paranthesis||',\n",
    "        '--':'||dash||',\n",
    "        '\\n':'||return||'\n",
    "    }\n",
    "    return lookup\n",
    "\n",
    "\"\"\"\n",
    "DON'T MODIFY ANYTHING IN THIS CELL THAT IS BELOW THIS LINE\n",
    "\"\"\"\n",
    "tests.test_tokenize(token_lookup)"
   ]
  },
  {
   "cell_type": "markdown",
   "metadata": {},
   "source": [
    "## Preprocess all the data and save it\n",
    "Running the code cell below will preprocess all the data and save it to file."
   ]
  },
  {
   "cell_type": "code",
   "execution_count": 9,
   "metadata": {},
   "outputs": [
    {
     "name": "stdout",
     "output_type": "stream",
     "text": [
      "Counter({'||period||': 6024, '||return||': 4517, '||comma||': 3574, '||left_paranthesis||': 1550, '||right_paranthesis||': 1549, 'the': 1302, 'i': 1275, 'you': 1251, '||exclamation||': 1242, 'moe_szyslak:': 1180, '||question||': 1100, 'a': 1059, 'homer_simpson:': 975, 'to': 938, 'and': 631, 'of': 488, 'my': 474, 'it': 465, 'that': 441, 'in': 432, '||quotation||': 418, 'me': 412, 'is': 376, 'this': 373, \"i'm\": 334, 'for': 327, 'your': 324, 'homer': 307, 'on': 289, 'hey': 289, 'moe': 273, 'oh': 272, 'no': 261, 'lenny_leonard:': 247, 'what': 246, 'with': 235, 'yeah': 233, 'all': 231, 'just': 218, 'like': 214, 'but': 213, 'barney_gumble:': 207, 'so': 205, 'be': 204, 'here': 196, 'carl_carlson:': 194, \"don't\": 193, 'have': 192, 'up': 188, \"it's\": 188, 'well': 186, 'out': 185, 'do': 180, 'was': 179, 'got': 176, 'are': 175, 'get': 175, 'we': 172, 'uh': 168, \"that's\": 168, 'one': 164, \"you're\": 158, 'not': 156, 'now': 156, 'can': 155, 'know': 155, '||dash||': 151, 'at': 145, 'right': 144, '/': 135, 'how': 132, 'if': 125, 'back': 119, 'marge_simpson:': 117, 'about': 115, 'he': 112, 'from': 112, 'go': 110, 'gonna': 107, 'there': 105, 'they': 105, 'beer': 100, 'good': 98, 'who': 97, 'an': 94, 'man': 93, 'okay': 91, 'little': 90, 'his': 90, 'as': 89, 'some': 88, \"can't\": 87, 'then': 87, 'never': 85, \"i'll\": 84, 'think': 84, 'come': 84, 'could': 83, 'him': 81, \"i've\": 81, 'see': 80, 'want': 80, 'really': 80, 'look': 80, 'too': 79, 'guys': 78, 'been': 78, 'when': 77, 'make': 77, 'why': 76, 'ya': 75, 'bar': 75, 'her': 74, 'did': 73, 'time': 72, 'say': 72, 'ah': 71, 'or': 71, 'gotta': 71, 'marge': 71, 'take': 70, 'into': 68, 'love': 68, 'down': 68, 'more': 67, 'our': 65, 'am': 64, 'off': 64, 'guy': 63, 'sure': 62, 'barney': 60, 'two': 60, \"there's\": 59, 'thing': 58, 'lisa_simpson:': 57, 'would': 57, \"we're\": 56, 'where': 55, \"he's\": 55, 'had': 55, 'big': 55, 'tell': 55, 'let': 55, 'need': 55, 'money': 54, 'drink': 53, 'bart_simpson:': 53, \"what's\": 53, 'sorry': 53, 'over': 53, 'us': 53, 'something': 53, 'only': 51, 'ever': 51, 'by': 51, 'day': 50, 'will': 50, 'way': 50, 'wait': 49, 'she': 48, 'chief_wiggum:': 48, 'give': 47, 'even': 47, 'huh': 46, 'new': 46, \"i'd\": 46, 'god': 46, \"didn't\": 45, \"ain't\": 45, 'those': 45, 'great': 44, 'people': 44, 'phone': 42, \"moe's\": 42, 'eh': 42, 'has': 42, 'life': 42, 'much': 42, 'maybe': 42, 'lenny': 42, 'were': 42, 'than': 41, 'going': 41, 'mean': 41, 'place': 40, 'these': 39, 'should': 39, 'mr': 39, 'around': 39, \"you've\": 39, 'better': 39, 'wanna': 39, 'still': 39, 'help': 38, 'friend': 38, 'old': 38, 'home': 38, \"'em\": 38, 'name': 37, 'please': 37, 'night': 37, 'before': 37, 'noise': 37, 'last': 36, 'whoa': 36, 'tv': 36, 'aw': 36, 'seymour_skinner:': 36, 'boy': 35, 'face': 35, 'any': 35, 'made': 35, 'hello': 34, 'call': 34, 'thanks': 34, 'duff': 34, 'three': 34, 'drunk': 34, 'put': 34, \"'cause\": 34, 'listen': 33, 'their': 33, 'looking': 33, 'car': 33, 'bad': 33, 'again': 33, 'first': 32, 'very': 32, \"let's\": 32, 'best': 32, 'does': 31, 'wow': 31, 'yes': 31, 'another': 30, 'looks': 30, 'every': 30, 'ooh': 30, 'while': 30, 'them': 30, 'kent_brockman:': 30, 'said': 30, 'work': 29, 'wife': 29, 'other': 29, 'guess': 29, 'apu_nahasapeemapetilon:': 29, 'dad': 28, 'sweet': 28, \"won't\": 28, 'play': 28, 'feel': 28, 'tonight': 28, 'years': 28, 'singing': 28, 'springfield': 28, 'thought': 27, 'sobs': 27, 'everybody': 27, 'find': 27, 'voice': 27, \"they're\": 27, 'after': 27, 'dr': 27, 'things': 26, 'buy': 26, 'kids': 26, 'might': 26, 'check': 25, 'nice': 25, 'keep': 25, 'happy': 25, 'minute': 25, 'girl': 25, 'since': 25, 'head': 25, 'because': 25, 'shut': 25, 'show': 25, 'beat': 25, 'world': 25, 'sighs': 24, 'use': 24, 'bart': 24, \"who's\": 24, 'lisa': 24, 'sings': 24, 'chuckle': 24, 'friends': 24, 'always': 24, \"isn't\": 23, \"you'll\": 23, 'stupid': 23, 'kid': 23, 'c': 23, 'someone': 23, 'krusty_the_clown:': 23, 'ow': 23, 'which': 23, 'carl': 23, 'seen': 22, 'lot': 22, 'remember': 22, 'hundred': 22, 'anything': 22, 'laugh': 22, \"here's\": 22, 'talk': 22, 'job': 21, 'chuckles': 21, 'next': 21, 'glass': 21, 'through': 21, 'hell': 21, 'thank': 21, 'simpson': 21, 'laughs': 21, 'matter': 20, 'pretty': 20, 'five': 20, 'lost': 20, 'house': 20, 'says': 20, 'away': 20, 'hear': 20, 'long': 20, 'outta': 20, 'kind': 20, \"nothin'\": 20, 'hope': 20, 'woman': 20, 'happened': 20, 'believe': 20, 'tavern': 19, 'nervous': 19, 'once': 19, 'four': 19, 'family': 19, 'turn': 19, \"c'mon\": 19, '_montgomery_burns:': 19, 'waylon_smithers:': 19, 'book': 19, 'comes': 19, 'real': 19, 'wish': 19, \"homer's\": 19, 'stop': 19, 'ned_flanders:': 19, 'fat': 19, 'actually': 18, 'business': 18, 'myself': 18, 'idea': 18, 'ask': 18, 'game': 18, 'grampa_simpson:': 18, \"goin'\": 18, 'wants': 18, 'wrong': 18, \"doin'\": 18, 'used': 17, 'loud': 17, 'today': 17, 'party': 17, 'enough': 17, 'nobody': 17, 'burns': 17, \"we've\": 17, 'done': 17, 'problem': 17, 'town': 17, \"comin'\": 17, 'getting': 17, 'many': 17, \"wouldn't\": 17, \"she's\": 17, 'duffman:': 17, 'must': 17, 'everything': 17, 'hold': 16, 'doing': 16, 'free': 16, 'watch': 16, 'sounds': 16, 'try': 16, 'reading': 16, 'dollars': 16, 'na': 16, 'um': 16, 'bucks': 16, 'maggie': 16, 'took': 16, 'true': 16, 'thinking': 16, 'nah': 16, 'gee': 16, 'woo': 16, 'sound': 16, 'sell': 15, 'excuse': 15, 'makes': 15, 'everyone': 15, 'daughter': 15, 'secret': 15, 'stuff': 15, \"where's\": 15, 'chief': 15, 'gimme': 15, 'care': 15, 'wanted': 15, 'leave': 15, 'baby': 15, 'pay': 15, 'under': 15, 'most': 15, 'pants': 15, 'yourself': 15, 'beautiful': 15, 'canyonero': 15, 'being': 15, 'edna': 15, 'kill': 15, 'kemi:': 15, 'pick': 14, 'own': 14, 'mouth': 14, 'pal': 14, 'tough': 14, 'tipsy': 14, 'quickly': 14, 'left': 14, 'worry': 14, 'smithers': 14, 'went': 14, 'knew': 14, 'points': 14, 'save': 14, 'dead': 14, \"you'd\": 14, 'hurt': 14, 'dinner': 14, 'sad': 14, 'school': 13, 'tomorrow': 13, 'till': 13, 'hoo': 13, 'drinking': 13, 'hate': 13, 'sign': 13, 'fine': 13, 'hi': 13, 'quit': 13, 'feeling': 13, 'win': 13, 'heard': 13, 'dog': 13, 'die': 13, 'camera': 13, 'told': 13, 'excited': 13, 'skinner': 13, 'funny': 13, 'gave': 13, 'break': 13, 'eyes': 13, 'came': 13, 'ladies': 13, 'saw': 13, 'gets': 13, 'booze': 13, 'forget': 12, \"couldn't\": 12, 'alcohol': 12, 'easy': 12, 'flaming': 12, 'without': 12, 'fire': 12, 'million': 12, \"aren't\": 12, 'calling': 12, 'eat': 12, 'sir': 12, 'loves': 12, 'barflies:': 12, 'twenty': 12, 'hand': 12, 'seven': 12, 'nuts': 12, 'super': 12, 'krusty': 12, 'clean': 12, 'gone': 12, 'gasp': 12, 'loser': 12, 'date': 12, 'mad': 12, 'hands': 12, 'anyone': 12, 'jacques:': 12, 'cash': 12, 'kinda': 12, 'bring': 12, 'fight': 12, 'room': 12, 'kirk_van_houten:': 12, 'drive': 12, 'surprised': 12, 'burn': 12, 'mom': 12, 'noises': 12, 'small': 12, 'read': 12, 'artie_ziff:': 12, 'meet': 11, 'problems': 11, 'door': 11, 'happen': 11, \"wasn't\": 11, 'high': 11, 'behind': 11, 'cut': 11, 'called': 11, \"lookin'\": 11, \"haven't\": 11, 'course': 11, 'anyway': 11, \"talkin'\": 11, 'low': 11, \"we'll\": 11, 'trouble': 11, \"doesn't\": 11, 'coming': 11, 'sadly': 11, 'each': 11, 'six': 11, 'seymour': 11, 'gentlemen': 11, 'geez': 11, 'turns': 11, \"y'know\": 11, \"somethin'\": 11, 'chance': 11, 'tape': 11, 'already': 11, \"drinkin'\": 11, 'bartender': 11, 'professor_jonathan_frink:': 11, 'upset': 11, 'dear': 11, 'self': 10, \"it'll\": 10, 'end': 10, 'ugly': 10, 'machine': 10, 'eye': 10, 'larry:': 10, 'works': 10, 'fun': 10, 'disgusted': 10, 'hot': 10, 'bottle': 10, 'realizing': 10, 'sing': 10, 'song': 10, 'wiggum': 10, 'hours': 10, 'start': 10, 'moan': 10, 'outside': 10, 'mmmm': 10, 'sigh': 10, 'throat': 10, 'steal': 10, 'uh-oh': 10, 'heart': 10, 'close': 10, \"gettin'\": 10, 'blame': 10, 'trying': 10, 'change': 10, 'war': 10, 'dump': 10, 'whatever': 10, 'snake_jailbird:': 10, 'stay': 10, 'learn': 10, 'live': 10, 'stand': 10, 'lady': 10, 'keys': 10, 'least': 10, 'm': 10, 'spend': 10, 'crazy': 10, 'whole': 10, 'straight': 10, 'quiet': 10, 'talking': 10, ':': 10, 'watching': 10, 'worried': 10, 'worse': 10, 'the_rich_texan:': 10, 'bar_rag:': 10, 'barflies': 9, 'lousy': 9, 'butt': 9, 'less': 9, 'ten': 9, 'late': 9, 'learned': 9, 'drinks': 9, 'probably': 9, 'such': 9, 'stick': 9, 'perfect': 9, 'greatest': 9, 'shocked': 9, 'private': 9, 'playing': 9, 'may': 9, 'blue': 9, 'anymore': 9, 'goodbye': 9, 'bowl': 9, \"'bout\": 9, 'special': 9, 'poor': 9, 'light': 9, 'joe': 9, 'second': 9, 'thinks': 9, 'year': 9, 'girls': 9, 'morning': 9, 'gasps': 9, \"shouldn't\": 9, 'pull': 9, 'thousand': 9, 'soon': 9, 'times': 9, 'ma': 9, 'apu': 9, 'police': 9, 'crowd:': 9, 'person': 9, 'far': 9, 'alive': 9, 'married': 9, 'marriage': 9, 'air': 9, 'heh': 9, 'bit': 9, 'turned': 9, 'young': 9, 'mother': 9, 'either': 9, 'front': 9, 'else': 9, 'whip': 9, 'point': 9, 'annoyed': 9, 'tsk': 9, 'delete': 9, 'anybody': 8, 'store': 8, 'kick': 8, 'cool': 8, 'moron': 8, 'minutes': 8, 'buddy': 8, 'open': 8, 'picture': 8, 'goes': 8, 'uh-huh': 8, 'couple': 8, 'found': 8, 'blood': 8, 'boys': 8, 'letter': 8, 'nothing': 8, 'lucky': 8, 'smell': 8, 'feet': 8, 'taking': 8, 'both': 8, 'turning': 8, 'eight': 8, 'miss': 8, 'walk': 8, 'join': 8, 'president': 8, 'ticket': 8, 'later': 8, \"how'd\": 8, 'king': 8, 'knows': 8, 'lemme': 8, 'jacques': 8, 'ass': 8, 'throw': 8, 'serious': 8, 'box': 8, 'shot': 8, 'mayor_joe_quimby:': 8, 'beers': 8, 'barn': 8, 'tab': 8, 'exactly': 8, 'boxing': 8, 'yet': 8, 'nods': 8, 'duffman': 8, 'card': 8, 'christmas': 8, 'angry': 8, 'agnes_skinner:': 8, 'american': 8, 'arm': 8, 'rev': 8, 'pig': 8, 'shotgun': 8, 'mind': 8, 'alone': 8, 'instead': 8, 'fifty': 8, 'patty_bouvier:': 8, 'youse': 8, 'goodnight': 8, 'days': 7, 'somebody': 7, 'proudly': 7, 'kiss': 7, 'top': 7, 'number': 7, 'full': 7, 'dry': 7, 'food': 7, 'collette:': 7, 'warmly': 7, 'ahh': 7, 'plant': 7, 'friendly': 7, 'english': 7, 'saying': 7, 'mrs': 7, 'paint': 7, 'hide': 7, 'afraid': 7, 'accident': 7, 'black': 7, 'using': 7, 's': 7, 'deal': 7, 'ready': 7, 'amazed': 7, 'rummy': 7, 'dance': 7, 'eggs': 7, 'walking': 7, 'nine': 7, 'welcome': 7, 'o': 7, 'damn': 7, \"he'll\": 7, 'together': 7, '||semicolon||': 7, 'fellas': 7, 'alright': 7, 'send': 7, 'wire': 7, 'etc': 7, 'forever': 7, 'plus': 7, 'seems': 7, 'advice': 7, 'ned': 7, 'butts': 7, 'huge': 7, 'story': 7, 'ball': 7, 'himself': 7, 'favorite': 7, 'intrigued': 7, 'happier': 7, 'making': 7, 'table': 7, 'hang': 7, 'broke': 7, 'sotto': 7, 'crap': 7, 'move': 7, 'finally': 7, 'lucius:': 7, 'though': 7, 'return': 7, 'word': 7, 'ha': 7, 'hmm': 7, 'sitting': 7, 'fast': 7, 'weird': 7, 'scared': 7, 'grampa': 7, 'son': 7, 'news': 7, 'cold': 7, 'terrible': 7, 'smile': 7, 'words': 7, \"makin'\": 7, 'run': 7, 'screw': 7, 'city': 7, 'renee:': 7, 'pour': 7, 'round': 7, 'channel': 7, 'telling': 7, 'losers': 7, 'japanese': 7, 'tap': 7, 'glove': 7, 'la': 7, 'inside': 7, 'seat': 7, 'human': 7, \"ol'\": 7, 'comic_book_guy:': 7, 'moans': 7, \"kiddin'\": 7, 'glad': 7, 'horrible': 7, 'homie': 7, 'peanuts': 7, 'young_marge:': 7, 'selma_bouvier:': 7, 'street': 7, 'means': 7, 'narrator:': 7, 'warm_female_voice:': 7, 'ice': 6, 'normal': 6, 'belch': 6, 'dunno': 6, 'honest': 6, 'gumbel': 6, 'milk': 6, 'smells': 6, 'laughing': 6, 'music': 6, 'tip': 6, 'seconds': 6, 'early': 6, 'half': 6, 'slow': 6, 'forgot': 6, 'invented': 6, 'harv:': 6, 'fill': 6, 'eating': 6, 'thirty': 6, 'power': 6, 'company': 6, 'bet': 6, 'hair': 6, 'sent': 6, 'denver': 6, 'ones': 6, 'football_announcer:': 6, 'class': 6, 'won': 6, 'star': 6, 'state': 6, 'uncle': 6, 'stool': 6, 'sick': 6, 'along': 6, 'takes': 6, 'holding': 6, 'lying': 6, 'tinkle': 6, 'gives': 6, 'desperate': 6, 'holds': 6, '_julius_hibbert:': 6, 'except': 6, 'honey': 6, 'principal': 6, 'nigel_bakerbutcher:': 6, 'group': 6, 'joey': 6, 'worst': 6, 'flanders': 6, 'hit': 6, 'al': 6, 'romantic': 6, 'birthday': 6, 'shall': 6, 'pass': 6, 'men': 6, 'admit': 6, 'dangerous': 6, 'brought': 6, 'charge': 6, 'hard': 6, 'write': 6, 'fall': 6, 'bitter': 6, 'lives': 6, 'touched': 6, 'impressed': 6, 'sex': 6, 'strong': 6, 'sips': 6, 'fat_tony:': 6, 'tony': 6, 'set': 6, \"we'd\": 6, 'heaven': 6, 'same': 6, 'giving': 6, 'health': 6, 'kent': 6, 'truth': 6, 'bag': 6, 'hank_williams_jr': 6, 'crack': 6, 'treasure': 6, 'plan': 6, 'rat': 6, \"sayin'\": 6, \"that'll\": 6, 'szyslak': 6, 'mister': 6, 'week': 6, 'lowers': 6, 'loved': 6, 'supposed': 6, 'tune': 6, 'slap': 6, 'across': 6, 'plastic': 6, 'dumb': 6, 'baseball': 6, 'quick': 6, 'became': 6, 'jukebox': 6, 'gold': 6, 'manjula_nahasapeemapetilon:': 6, 'water': 6, 'safe': 6, 'health_inspector:': 6, 'numbers': 6, 'maya:': 6, 'bow': 6, 'lou:': 6, 'walther_hotenhoffer:': 6, 'omigod': 6, 'princess': 6, 'young_homer:': 6, 'mike': 5, 'catch': 5, \"how's\": 5, \"he'd\": 5, 'speech': 5, 'little_man:': 5, 'closed': 5, 'wallet': 5, 'wrote': 5, 'grand': 5, 'troll': 5, 'invited': 5, 'government': 5, 'joint': 5, 'club': 5, 'cutting': 5, 'service': 5, 'quietly': 5, 'movie': 5, 'doubt': 5, 'accent': 5, 'nein': 5, 'speaking': 5, 'bee': 5, 'pop': 5, 'treat': 5, 'wonderful': 5, 'games': 5, 'fellow': 5, 'cheer': 5, 'yea': 5, 'coaster': 5, 'sunday': 5, 'luck': 5, 'jack': 5, 'cop': 5, 'dallas': 5, 'short': 5, 'shirt': 5, 'lord': 5, 'asked': 5, 'offended': 5, 'wha': 5, \"smokin'_joe_frazier:\": 5, 'cleaned': 5, 'piece': 5, 'felt': 5, \"lisa's\": 5, 'clown': 5, 'announcer:': 5, 'testing': 5, 'shaking': 5, 'glasses': 5, \"callin'\": 5, 'pipe': 5, 'red': 5, 'cost': 5, 'wall': 5, 'center': 5, 'all:': 5, 'represent': 5, 'ago': 5, 'chanting': 5, 'ad': 5, 'handsome': 5, 'sharps': 5, 'named': 5, 'names': 5, 'swear': 5, 'hospital': 5, 'children': 5, 'rest': 5, 'strap': 5, 'fingers': 5, 'suddenly': 5, 'man:': 5, 'puzzled': 5, 'brilliant': 5, 'soul': 5, 'saved': 5, 'pool': 5, 'local': 5, 'daddy': 5, 'dank': 5, 'ashamed': 5, 'side': 5, 'customers': 5, 'disappointed': 5, 'hated': 5, 'horrified': 5, 'tongue': 5, 'window': 5, 'until': 5, 'truck': 5, 'selma': 5, 'owe': 5, 'dude': 5, 'wonder': 5, \"tellin'\": 5, 'punch': 5, 'jeez': 5, 'yep': 5, 'empty': 5, 'biggest': 5, 'tired': 5, 'drederick': 5, 'against': 5, 'changing': 5, 'evening': 5, 'clears': 5, 'favor': 5, 'hanging': 5, 'gay': 5, 'deer': 5, 'designated': 5, 'writing': 5, 'beloved': 5, 'wine': 5, 'suit': 5, 'confused': 5, 'french': 5, 'having': 5, 'during': 5, 'clear': 5, 'sober': 5, 'longer': 5, 'chug': 5, 'jar': 5, 'brockman': 5, 'absolutely': 5, \"drivin'\": 5, 'wheel': 5, 'driving': 5, 'part': 5, 'park': 5, 'i-i': 5, 'unless': 5, 'hopeful': 5, 'stunned': 5, 'also': 5, \"world's\": 5, 'running': 5, 'broad': 5, 'filthy': 5, 'dame': 5, 'boring': 5, 'totally': 5, 'none': 5, 'surgery': 5, 'survive': 5, \"tryin'\": 5, 'mayor': 5, \"workin'\": 5, 'isotopes': 5, 'lose': 5, 'detective_homer_simpson:': 5, 'exasperated': 5, \"guy's\": 5, 'act': 5, 'needs': 5, 'given': 5, 'counting': 5, 'caught': 5, 'cow': 5, 'college': 5, 'p': 5, 'fish': 5, 'women': 5, 'third': 5, 'mine': 5, 'lessons': 5, 'x': 5, 'few': 5, 'thumb': 5, 'dying': 5, 'stories': 5, 'speak': 5, 'beach': 5, 'bed': 5, 'artie': 5, 'billy_the_kid:': 5, 'bank': 5, 'jerks': 5, 'proud': 5, \"one's\": 5, \"sittin'\": 5, 'sauce': 5, 'suicide': 5, 'duh': 5, 'edna_krabappel-flanders:': 5, 'sob': 5, 'rope': 5, \"i'm-so-stupid\": 5, 'america': 5, 'mouse': 5, 'pity': 5, 'nineteen': 5, 'african': 5, 'nuclear': 5, 'calm': 5, '_zander:': 5, 'tree': 5, 'lloyd:': 5, '_hooper:': 5, 'glen:': 5, 'bender:': 5, 'adult_bart:': 5, 'tv_wife:': 5, 'tv_husband:': 5, 'rotch': 4, 'cares': 4, 'sits': 4, 'follow': 4, 'bars': 4, 'chocolate': 4, 'usually': 4, 'closing': 4, 'pulled': 4, 'hurry': 4, 'fifteen': 4, 'gin': 4, 'hits': 4, 'spot': 4, 'smiling': 4, \"everyone's\": 4, 'feels': 4, 'pitcher': 4, 'amazing': 4, 'offer': 4, 'minimum': 4, 'restaurant': 4, 'dollar': 4, 'ingredient': 4, 'career': 4, 'market': 4, 'stock': 4, 'hans:': 4, \"o'problem\": 4, 'calls': 4, 'embarrassed': 4, \"today's\": 4, 'nose': 4, 'domestic': 4, 'pointed': 4, 'weekly': 4, 'sarcastic': 4, 'belches': 4, 'forty': 4, 'ruined': 4, 'ourselves': 4, 'original': 4, 'situation': 4, 'almost': 4, 'field': 4, 'buffalo': 4, 'pit': 4, 'pickled': 4, 'couch': 4, 'heavyweight': 4, 'championship': 4, 'whee': 4, 'father': 4, 'beauty': 4, 'amanda': 4, 'huggenkiss': 4, 'ivana': 4, 'plow': 4, 'teenage_barney:': 4, 'hero': 4, 'starts': 4, 'answer': 4, 'enjoy': 4, 'yesterday': 4, 'fridge': 4, 'agent': 4, 'island': 4, 'sly': 4, 'adeleine': 4, 'scream': 4, 'question': 4, 'arrest': 4, \"what'll\": 4, 'knock': 4, 'figured': 4, 'stillwater:': 4, 'respect': 4, 'fbi': 4, 'hm': 4, 'teach': 4, 'professional': 4, 'snake': 4, 'flower': 4, 'clothes': 4, 'polite': 4, 'tail': 4, 'liver': 4, 'legs': 4, 'understand': 4, 'pulls': 4, 'line': 4, 'woman:': 4, 'meeting': 4, 'hugh:': 4, 'rather': 4, 'pub': 4, 'wear': 4, 'loaded': 4, 'sense': 4, 'different': 4, 'movies': 4, 'magic': 4, 'deep': 4, \"they've\": 4, 'ahead': 4, 'breath': 4, 'boat': 4, 'working': 4, 'kidding': 4, 'burp': 4, 'blow': 4, \"livin'\": 4, 'choice': 4, 'test': 4, 'opportunity': 4, 'rich': 4, 'brain': 4, 'train': 4, 'yard': 4, 'hungry': 4, 'match': 4, 'body': 4, 'tatum': 4, 'sit': 4, 'dramatic': 4, \"buyin'\": 4, 'bill': 4, 'twelve': 4, 'gas': 4, 'quite': 4, 'finger': 4, 'lie': 4, 'south': 4, 'fix': 4, 'whiny': 4, \"o'clock\": 4, 'drivers': 4, 'drug': 4, 'upbeat': 4, 'sold': 4, 'betty:': 4, 'explaining': 4, 'sexy': 4, 'dang': 4, 'started': 4, 'egg': 4, 'mug': 4, 'months': 4, 'chick': 4, 'threw': 4, 'stirring': 4, 'husband': 4, 'illegal': 4, 'cover': 4, 'folks': 4, \"watchin'\": 4, 'case': 4, 'sports': 4, 'smooth': 4, 'computer': 4, 'selling': 4, 'ride': 4, 'renee': 4, 'flowers': 4, 'girlfriend': 4, 'distraught': 4, 'pain': 4, 'sobbing': 4, 'raises': 4, 'arms': 4, 'stagy': 4, 'procedure': 4, 'able': 4, 'lips': 4, 'especially': 4, 'fan': 4, \"who'll\": 4, 'dennis_conroy:': 4, 'bottom': 4, 'road': 4, 'bye': 4, 'wally:': 4, 'flips': 4, 'character': 4, 'partner': 4, 'guns': 4, \"valentine's\": 4, 'amid': 4, 'yellow': 4, 'radishes': 4, 'u': 4, \"bein'\": 4, 'bald': 4, 'castle': 4, 'busy': 4, 're:': 4, 'seem': 4, 'jerk': 4, 'sincere': 4, 'precious': 4, 'burt': 4, 'garbage': 4, 'died': 4, \"dad's\": 4, 'whisper': 4, 'lotta': 4, 'secrets': 4, 'whaddaya': 4, 'sees': 4, 'pickle': 4, 'rob': 4, 'coat': 4, 'trip': 4, 'ooo': 4, 'band': 4, 'neck': 4, 'tom': 4, 'gotten': 4, 'buttons': 4, 'eleven': 4, 'à': 4, 'cries': 4, 'awkward': 4, 'video': 4, 'billboard': 4, 'david_byrne:': 4, 'france': 4, 'sheepish': 4, 'address': 4, 'monster': 4, 'meaningful': 4, 'furious': 4, 'new_health_inspector:': 4, 'pipes': 4, 'needed': 4, 'moment': 4, 'ominous': 4, 'declan_desmond:': 4, 'sister': 4, 'milhouse_van_houten:': 4, 'forget-me-shot': 4, 'finding': 4, 'shows': 4, 'bees': 4, 'vance': 4, 'correct': 4, 'pleased': 4, 'cable': 4, 'babies': 4, 'clearly': 4, 'yap': 4, 'hoping': 4, 'thoughtful': 4, 'grim': 4, 'frustrated': 4, 'burps': 4, 'therapy': 4, 'foibles': 4, 'books': 4, 'twins': 4, 'rag': 4, 'keeps': 4, 'dan_gillick:': 4, 'ken:': 4, \"carl's\": 4, 'senator': 4, 'senators': 4, \"moe's_thoughts:\": 4, 'teenage_bart:': 4, 'eddie:': 4, 'lately': 3, 'puke': 3, 'struggling': 3, 'crummy': 3, 'tells': 3, 'spit': 3, \"'til\": 3, 'unison': 3, 'thoughts': 3, 'finished': 3, 'concerned': 3, 'burning': 3, 'hiya': 3, 'junior': 3, 'cigarette': 3, 'sucked': 3, 'harv': 3, 'cough': 3, 'its': 3, 'delicious': 3, 'noticing': 3, 'above': 3, 'expect': 3, 'accurate': 3, 'tips': 3, 'pardon': 3, 'idiot': 3, 'covering': 3, 'frankly': 3, 'kept': 3, 'k': 3, 'twenty-five': 3, 'become': 3, 'german': 3, 'fritz:': 3, 'buying': 3, 'brains': 3, 'crank': 3, \"bart's\": 3, 'lots': 3, \"they'll\": 3, 'cheap': 3, 'hug': 3, 'sniffs': 3, 'bowling': 3, 'gift': 3, 'bret:': 3, 'guest': 3, 'whose': 3, 'shares': 3, 'odd': 3, 'hates': 3, 'whatcha': 3, 'touchdown': 3, 'fork': 3, 'keeping': 3, 'careful': 3, 'prime': 3, 'palmerston': 3, 'elder': 3, 'pfft': 3, 'lottery': 3, 'sadistic_barfly:': 3, 'cents': 3, 'customer': 3, 'step': 3, 'holiday': 3, 'religion': 3, 'born': 3, 'tv_father:': 3, 'toss': 3, 'jack_larson:': 3, 'pageant': 3, 'age': 3, 'endorse': 3, 'puff': 3, \"where'd\": 3, 'stopped': 3, 'ruin': 3, 'sec': 3, 'shove': 3, 'mistake': 3, 'slip': 3, 'pathetic': 3, 'har': 3, 'ring': 3, 'checks': 3, 'pointing': 3, 'aside': 3, 'ordered': 3, 'dressed': 3, 'bus': 3, 'gal': 3, 'afternoon': 3, 'kwik-e-mart': 3, 'coney': 3, 'single': 3, 'darts': 3, \"havin'\": 3, 'pause': 3, '_babcock:': 3, 'higher': 3, 'reads': 3, 'sexual': 3, 'moments': 3, 'alley': 3, 'fault': 3, 'hmmm': 3, 'roll': 3, 'form': 3, 'register': 3, 'prank': 3, 'coffee': 3, 'label': 3, 'innocent': 3, 'double': 3, 'hurts': 3, 'loan': 3, 'leans': 3, 'fool': 3, 'covers': 3, 'crawl': 3, 'following': 3, 'celebrities': 3, 'consider': 3, 'imagine': 3, 'moved': 3, 'fumes': 3, 'oil': 3, 'exhaust': 3, 'gag': 3, 'stole': 3, 'killed': 3, 'understanding': 3, 'raising': 3, 'natural': 3, 'stools': 3, 'texas': 3, 'rid': 3, 'barney-shaped_form:': 3, 'snaps': 3, 'bright': 3, 'beginning': 3, 'cute': 3, 'evil': 3, '&': 3, 'exit': 3, 'midnight': 3, 'compliment': 3, \"stinkin'\": 3, 'glum': 3, 'salad': 3, 'complete': 3, \"c'mere\": 3, 'knocked': 3, 'bob': 3, 'fact': 3, 'cannot': 3, 'incredulous': 3, 'fans': 3, 'saturday': 3, 'parking': 3, 'general': 3, 'trust': 3, \"could've\": 3, 'stayed': 3, 'shape': 3, 'taken': 3, \"gentleman's\": 3, \"barney's\": 3, 'mafia': 3, 'crime': 3, 'indignant': 3, 'entire': 3, 'grow': 3, 'modern': 3, 'diet': 3, 'shoot': 3, 'enemy': 3, 'accept': 3, 'enemies': 3, 'list': 3, 'invite': 3, 'lonely': 3, 'singers:': 3, 'toward': 3, 'defensive': 3, 'walks': 3, 'snort': 3, 'mechanical': 3, 'suppose': 3, 'sometime': 3, 'fancy': 3, 'kissing': 3, 'per': 3, 'traffic': 3, 'peter': 3, 'pained': 3, 'extra': 3, 'cheers': 3, 'driver': 3, 'program': 3, 'inspector': 3, 'heads': 3, 'recommend': 3, 'severe': 3, 'checking': 3, 'showing': 3, 'fever': 3, 'spending': 3, 'switch': 3, 'casual': 3, 'rough': 3, 'pissed': 3, 'scene': 3, 'church': 3, 'threatening': 3, 'turkey': 3, 'scam': 3, 'jesus': 3, 'spinning': 3, 'pats': 3, \"seein'\": 3, 'toilet': 3, 'der': 3, 'crowd': 3, 'boo': 3, 'wide': 3, 'toasting': 3, 'order': 3, 'bunch': 3, 'pays': 3, 'law': 3, 'wasting': 3, 'corpses': 3, 'sleep': 3, 'screams': 3, 'aww': 3, 'seeing': 3, 'military': 3, 'hunter': 3, 'reminds': 3, 'panicky': 3, 'ridiculous': 3, 'campaign': 3, 'public': 3, \"they'd\": 3, 'focus': 3, 'knowing': 3, 'jolly': 3, 'upon': 3, 'edison': 3, 'played': 3, 'middle': 3, 'worked': 3, 'james': 3, 'hole': 3, 'corner': 3, 'summer': 3, 'operation': 3, 'comfortable': 3, 'inspection': 3, 'season': 3, 'grunt': 3, 'wooooo': 3, 'history': 3, 'team': 3, 'grabbing': 3, 'root': 3, 'spanish': 3, 'weeks': 3, 'coach:': 3, \"wife's\": 3, 'leg': 3, 'grabs': 3, 'peace': 3, 'toys': 3, 'changed': 3, 'international': 3, 'who-o-oa': 3, 'hour': 3, 'men:': 3, \"men's\": 3, 'hilarious': 3, 'frink': 3, 'paying': 3, 'searching': 3, 'embarrassing': 3, 'past': 3, 'challenge': 3, 'tears': 3, 'cocktail': 3, 'stadium': 3, 'finest': 3, 'license': 3, 'ho': 3, 'dynamite': 3, 'rub': 3, 'grunts': 3, 'chinese': 3, 'uncomfortable': 3, 'helicopter': 3, 'sweetly': 3, 'fly': 3, 'suck': 3, 'film': 3, 'fireball': 3, 'mudflap': 3, \"ridin'\": 3, 'teeth': 3, 'closer': 3, 'happily': 3, '_timothy_lovejoy:': 3, 'chest': 3, 'popular': 3, 'directions': 3, 'bought': 3, 'tried': 3, 'wearing': 3, 'delighted': 3, 'button': 3, 'future': 3, 'drunks': 3, 'serve': 3, 'spoken': 3, 'thankful': 3, 'looked': 3, 'ancient': 3, 'losing': 3, 'lindsay_naegle:': 3, 'teenage': 3, 'ohmygod': 3, 'uneasy': 3, \"i-i'm\": 3, 'terrified': 3, 'scum': 3, 'afford': 3, 'anniversary': 3, 'feed': 3, 'starting': 3, \"robbin'\": 3, 'banks': 3, 'fair': 3, 'backwards': 3, 'rats': 3, 'staying': 3, 'death': 3, 'andy': 3, 'mock': 3, 'flatly': 3, 'sisters': 3, 'subject': 3, 'likes': 3, 'peach': 3, 'miserable': 3, 'jump': 3, 'dive': 3, 'bless': 3, 'attention': 3, 'paris': 3, 'cards': 3, 'ziffcorp': 3, 'sec_agent_#1:': 3, 'fraud': 3, 'perhaps': 3, 'ground': 3, 'jail': 3, 'ran': 3, \"kids'\": 3, 'gary_chalmers:': 3, 'dancing': 3, 'wiener': 3, 'vomit': 3, 'bike': 3, 'floor': 3, 'glen': 3, 'breaking': 3, 'british': 3, 'letters': 3, 'clone': 3, 'tradition': 3, 'push': 3, 'vegas': 3, 'system': 3, 'bar-boy': 3, 'foot': 3, 'motel': 3, 'awful': 3, 'child': 3, 'yee-haw': 3, 'workers': 3, 'then:': 3, 'clientele': 3, 'army': 3, 'milhouse': 3, 'greystash': 3, 'dirt': 3, 'doors': 3, 'size': 3, 'reason': 3, 'feelings': 3, 'mel': 3, 'bite': 3, 'powerful': 3, 'wipe': 3, 'image': 3, 'pockets': 3, 'share': 3, 'jamaican': 3, 'l': 3, \"lenny's\": 3, 'midge': 3, 'gently': 3, 'unlike': 3, 'meant': 3, 'sniffles': 3, 'election': 3, 'al_gore:': 3, 'nobel': 3, 'sadder': 3, 'yo': 3, 'unlucky': 3, 'somewhere': 3, 'met': 3, 'relax': 3, 'anguished': 3, 'talk-sings': 3, 'tastes': 3, 'kang:': 3, \"year's\": 3, 'bitterly': 3, 'woo-hoo': 3, 'cameras': 3, 'nards': 3, 'gary:': 3, 'fourth': 3, 'scotch': 3, 'drop': 3, 'weak': 3, 'opening': 3, '_kissingher:': 3, 'text': 3, 'f': 3, 'hall': 3, 'wayne:': 3, 'nation': 3, 'kermit': 3, 'belly': 3, 'despite': 3, 'r': 3, 'theater': 3, 'twenty-two': 3, 'sixty-nine': 3, 'source': 3, 'brother': 3, 'book_club_member:': 3, 'literature': 3, 'troy:': 3, 'pocket': 3, 'marvin': 3, 'carve': 2, 'effervescent': 2, 'social': 2, 'vote': 2, 'corkscrew': 2, 'folk': 2, 'neat': 2, 'tick': 2, 'effects': 2, 'trick': 2, 'judge': 2, 'mumbling': 2, 'closes': 2, 'smoothly': 2, 'gum': 2, 'satisfaction': 2, 'payments': 2, 'distributor': 2, 'spent': 2, 'tester': 2, 'gums': 2, \"bartender's\": 2, 'brightening': 2, 'homers': 2, 'syrup': 2, 'knife': 2, 'doll': 2, 'charm': 2, 'lighting': 2, \"tester's\": 2, 'busted': 2, 'barkeep': 2, 'bartenders': 2, 'barf': 2, 'measurements': 2, 'benefits': 2, 'prefer': 2, 'hired': 2, \"shan't\": 2, 'regret': 2, 'genius': 2, 'mcstagger': 2, 'successful': 2, 'sale': 2, 'yours': 2, 'compliments': 2, 'aerosmith': 2, 'refund': 2, 'henry': 2, 'reserve': 2, 'swill': 2, 'ech': 2, 'interested': 2, 'owner': 2, 'confident': 2, '100': 2, 'awwww': 2, 'bucket': 2, 'conspiratorial': 2, 'teddy': 2, 'bear': 2, 'beneath': 2, 'seek': 2, 'bears': 2, 'blend': 2, 'greedy': 2, 'sector': 2, 'recently': 2, 'shaken': 2, 'recall': 2, 'inspire': 2, 'peanut': 2, 'slyly': 2, 'pleasure': 2, 'thirteen': 2, 'studio': 2, 'apartment': 2, 'listening': 2, 'deeply': 2, 'victory': 2, 'bread': 2, 'bets': 2, 'troy': 2, 'troy_mcclure:': 2, 'bret': 2, 'handle': 2, 'retired': 2, 'comedy': 2, \"buffalo's\": 2, 'excellent': 2, 'riding': 2, 'whistles': 2, 'dan': 2, 'wins': 2, 'aggravated': 2, 'teams': 2, 'cowboys': 2, 'clock': 2, 'cars': 2, \"maggie's\": 2, 'handing': 2, 'minister': 2, 'wade_boggs:': 2, 'jumps': 2, 'poking': 2, \"showin'\": 2, 'gals': 2, 'fudd': 2, 'miles': 2, 'finishing': 2, 'dryer': 2, 'feast': 2, 'snake-handler': 2, 'prove': 2, 'laramie': 2, 'cigarettes': 2, 'prohibit': 2, 'smoke': 2, 'product': 2, '250': 2, 'animals': 2, '_powers:': 2, 'standards': 2, 'b': 2, 'sausage': 2, 'ah-ha': 2, 'sooner': 2, 'linda': 2, 'project': 2, 'snow': 2, \"fallin'\": 2, 'prayer': 2, 'wave': 2, 'yoo': 2, 'cheery': 2, 'sack': 2, 'chilly': 2, 'willy': 2, 'appear': 2, 'remembered': 2, 'snap': 2, 't-shirt': 2, 'plum': 2, 'deserve': 2, 'civic': 2, 'ragtime': 2, 'isle': 2, 'babe': 2, 'village': 2, 'tenor:': 2, 'paid': 2, 'lib': 2, 'remains': 2, 'witty': 2, 'served': 2, 'cops': 2, 'andalay': 2, 'sometimes': 2, 'based': 2, 'realize': 2, 'insightful': 2, 'code': 2, 'cueball': 2, 'clinton': 2, 'tang': 2, \"it'd\": 2, 'nasa': 2, 'astronaut': 2, 'shrugging': 2, 'rap': 2, 'advantage': 2, 'generous': 2, 'pin': 2, 'cola': 2, 'forbidden': 2, 'present': 2, 'entirely': 2, 'bold': 2, 'teacher': 2, 'sugar': 2, 'pleading': 2, 'pulling': 2, 'ohh': 2, 'greetings': 2, 'giggles': 2, 'advance': 2, 'gosh': 2, 'bash': 2, 'poet': 2, 'alcoholic': 2, 'large': 2, 'pouring': 2, 'honored': 2, 'virtual': 2, 'inflated': 2, 'self-esteem': 2, 'male_inspector:': 2, 'detecting': 2, 'rage': 2, 'reasons': 2, 'writers': 2, 'alfalfa': 2, 'murmur': 2, 'hollywood': 2, 'restaurants': 2, 'pressure': 2, 'inspired': 2, 'memories': 2, 'blew': 2, 'pad': 2, 'stinks': 2, 'ahhh': 2, 'rolling': 2, 'wondering': 2, 'ringing': 2, 'ye': 2, 'jebediah': 2, 'cutie': 2, 'bums': 2, 'angel': 2, 'blood-thirsty': 2, 'pirate': 2, 'jubilant': 2, 'waylon': 2, 'delivery': 2, 'forward': 2, 'darkest': 2, 'calculate': 2, 'results': 2, 'billion': 2, 'space': 2, 'considering': 2, 'freeze': 2, 'reasonable': 2, 'ha-ha': 2, 'themselves': 2, 'raise': 2, 'oof': 2, 'belt': 2, 'steak': 2, 'meal': 2, 'awe': 2, 'percent': 2, 'manage': 2, 'realized': 2, \"hadn't\": 2, 'boxer': 2, 'gorgeous': 2, \"meanin'\": 2, 'lucius': 2, 'famous': 2, 'don': 2, 'manager': 2, 'somehow': 2, 'row': 2, 'politics': 2, 'agreement': 2, 'fighting': 2, 'sandwich': 2, 'punches': 2, 'energy': 2, 'hobo': 2, 'nudge': 2, 'awed': 2, 'managing': 2, 'champ': 2, 'release': 2, 'weary': 2, 'rounds': 2, 'freak': 2, 'remembering': 2, 'fondly': 2, 'worth': 2, 'lover': 2, 'radio': 2, 'borrow': 2, 'granted': 2, 'helped': 2, 'built': 2, 'solid': 2, 'routine': 2, 'mate': 2, 'chum': 2, 'acquaintance': 2, 'quality': 2, 'fox_mulder:': 2, 'began': 2, 'discussing': 2, 'scully': 2, 'penny': 2, \"money's\": 2, 'asking': 2, 'mob': 2, 'steel': 2, 'broadway': 2, 'sodas': 2, 'neither': 2, 'christopher': 2, 'shooting': 2, 'bags': 2, 'hunting': 2, \"patrick's\": 2, 'kicked': 2, 'written': 2, 'crossed': 2, 'morose': 2, 'bam': 2, 'yelling': 2, 'love-matic': 2, 'peppy': 2, 'passed': 2, 'floated': 2, 'sweeter': 2, 'buried': 2, 'naked': 2, 'dismissive': 2, 'karaoke': 2, 'near': 2, 'expert': 2, 'spread': 2, 'germs': 2, 'cent': 2, 'caused': 2, 'pope': 2, 'reach': 2, 'draw': 2, 'costume': 2, 'labels': 2, 'straining': 2, 'conditioner': 2, 'sweetheart': 2, 'margarita': 2, 'planning': 2, 'vacation': 2, 'chase': 2, 'blues': 2, 'manjula': 2, \"countin'\": 2, 'freedom': 2, 'reaching': 2, 'bubbles': 2, 'ways': 2, \"ma'am\": 2, 'devastated': 2, 'grave': 2, 'mic': 2, 'products': 2, 'price': 2, 'cake': 2, 'churchill': 2, 'purse': 2, 'businessman_#1:': 2, 'firmly': 2, 'utility': 2, 'creeps': 2, 'roomy': 2, 'european': 2, 'plenty': 2, 'yogurt': 2, 'porn': 2, 'thoughtfully': 2, 'seats': 2, 'highway': 2, 'commission': 2, 'yards': 2, 'pride': 2, 'beam': 2, 'mail': 2, 'bride': 2, 'fabulous': 2, 'due': 2, 'roses': 2, 'kidney': 2, 'dropped': 2, 'dearest': 2, 'warily': 2, 'placing': 2, \"town's\": 2, 'charity': 2, 'railroad': 2, 'coward': 2, 'medicine': 2, 'sudden': 2, 'attack': 2, 'yell': 2, 'forgive': 2, 'puts': 2, 'joined': 2, 'joining': 2, 'although': 2, \"pope's\": 2, 'ironed': 2, 'blown': 2, 'involved': 2, 'agent_johnson:': 2, 'involving': 2, 'bush': 2, 'charlie': 2, 'lazy': 2, 'message': 2, 'seriously': 2, 'mop': 2, 'stands': 2, 'ocean': 2, 'bathing': 2, 'increasingly': 2, 'organ': 2, 'jockey': 2, 'grumpy': 2, 'crying': 2, \"springfield's\": 2, 'bigger': 2, 'cotton': 2, 'balls': 2, '6': 2, 'promised': 2, 'vodka': 2, 'gentleman:': 2, 'celebrity': 2, 'bubble': 2, 'brave': 2, 'deadly': 2, 'correcting': 2, 'scare': 2, 'eyeball': 2, 'catching': 2, 'mess': 2, 'bathroom': 2, 'all-star': 2, \"'topes\": 2, 'excitement': 2, 'inspiring': 2, \"game's\": 2, 'pitch': 2, 'director': 2, 'rumaki': 2, 'sports_announcer:': 2, 'pointless': 2, 'conference': 2, \"team's\": 2, 'atlanta': 2, 'falcons': 2, 'mmm': 2, 'foil': 2, 'yup': 2, 'beating': 2, 'simp-sonnnn': 2, 'acting': 2, 'gang': 2, 'choking': 2, 'murmurs': 2, 'yourselves': 2, 'easier': 2, 'curious': 2, 'matter-of-fact': 2, 'kyoto': 2, 'sea': 2, 'fritz': 2, 'drawing': 2, 'justice': 2, 'patterns': 2, 'lights': 2, 'hawking:': 2, \"hangin'\": 2, 'putting': 2, 'tentative': 2, 'umm': 2, 'heavyset': 2, 'insulted': 2, 'tommy': 2, 'honor': 2, 'duel': 2, 'fevered': 2, 'between': 2, 'thesaurus': 2, 'danish': 2, 'joking': 2, 'laws': 2, 'held': 2, 'knees': 2, 'throwing': 2, 'seas': 2, 'eyesore': 2, 'jeff': 2, 'ugliest': 2, 'white': 2, 'gargoyle': 2, 'brow': 2, 'pleasant': 2, 'mount': 2, 'carlson': 2, 'harder': 2, 'nearly': 2, 'wash': 2, 'beats': 2, 'tax': 2, 'trusted': 2, 'poem': 2, 'planet': 2, 'professor': 2, 'disgrace': 2, 'stationery': 2, 'flying': 2, 'tanked-up': 2, 'certain': 2, \"bar's\": 2, 'queer': 2, 'guide': 2, 'calmly': 2, 'befouled': 2, 'broom': 2, 'explain': 2, 'unfortunately': 2, 'reynolds': 2, 'jerry': 2, 'solo': 2, 'lowering': 2, 'sinister': 2, 'onions': 2, 'talked': 2, 'frosty': 2, 'voice:': 2, 'helen': 2, 'bible': 2, 'medical': 2, \"chewin'\": 2, 'shock': 2, 'satisfied': 2, 'effigy': 2, 'jobs': 2, 'mention': 2, 'smart': 2, 'dee-fense': 2, 'twice': 2, 'schnapps': 2, 'comic': 2, 'klingon': 2, 'mm': 2, 'corporation': 2, 'fresh': 2, 'loss': 2, 'smurfs': 2, 'wake': 2, 'disapproving': 2, 'informant': 2, 'goods': 2, 'smugglers': 2, 'voice_on_transmitter:': 2, 'answering': 2, 'mcbain': 2, \"father's\": 2, 'taps': 2, 'jets': 2, 'eventually': 2, 'morlocks': 2, 'liar': 2, \"weren't\": 2, 'naturally': 2, 'shaggy': 2, 'gun': 2, 'passion': 2, 'bartending': 2, 'painting': 2, 'expression': 2, 'contest': 2, 'potato': 2, 'ayyy': 2, 'tabooger': 2, 'ollie': 2, 'deliberate': 2, 'century': 2, 'formico:': 2, 'formico': 2, 'thanksgiving': 2, 'tofu': 2, 'curds': 2, 'ambrosia': 2, 'terrific': 2, 'cookies': 2, 'admiring': 2, 'anywhere': 2, 'eighty-seven': 2, 'palm': 2, 'actors': 2, 'brewed': 2, 'hop': 2, 'juice': 2, 'agree': 2, 'grandiose': 2, 'boyfriend': 2, 'spy': 2, 'superior': 2, 'rainier_wolfcastle:': 2, 'authorized': 2, 'impatient': 2, 'bottles': 2, 'salt': 2, 'windex': 2, 'koi': 2, 'pond': 2, 'drown': 2, 'surprise': 2, 'wang': 2, 'dating': 2, 'sat': 2, 'drank': 2, 'i-i-i': 2, 'force': 2, 'badges': 2, 'admitting': 2, 'pian-ee': 2, 'shoo': 2, 'grab': 2, \"'im\": 2, 'dough': 2, 'emotional': 2, 'color': 2, 'skin': 2, 'alphabet': 2, 'smug': 2, 'louder': 2, 'fuss': 2, '1895': 2, 'soap': 2, 'aging': 2, 'whenever': 2, 'denser': 2, 'disco': 2, 'complaining': 2, 'magazine': 2, 'young_moe:': 2, 'memory': 2, 'amount': 2, 'appointment': 2, 'bird': 2, 'decide': 2, 'lush': 2, 'cruel': 2, 'david': 2, 'wishes': 2, 'cream': 2, \"cat's\": 2, 'nope': 2, 'boozy': 2, 'dessert': 2, 'crumble': 2, 'cooler': 2, 'delivery_boy:': 2, 'bastard': 2, 'mona_simpson:': 2, 'stevie': 2, 'woozy': 2, 'gifts': 2, 'diamond': 2, 'woman_bystander:': 2, 'ziff': 2, 'fold': 2, 'achem': 2, 'd': 2, 'securities': 2, 'exchange': 2, 'sec_agent_#2:': 2, 'investor': 2, 'confidence': 2, 'nerve': 2, 'prison': 2, 'standing': 2, 'bedroom': 2, 'value': 2, 'shakespeare': 2, 'watered-down': 2, 'underpants': 2, 'needy': 2, 'kindly': 2, 'funds': 2, 'lap': 2, \"what're\": 2, 'bugging': 2, 'seemed': 2, 'wedding': 2, 'missed': 2, 'shoulder': 2, 'department': 2, 'violations': 2, 'roof': 2, 'shutting': 2, \"'tis\": 2, 'shrugs': 2, \"beer's\": 2, 'changes': 2, 'conversation': 2, 'hotline': 2, 'dials': 2, 'allowed': 2, 'sleeps': 2, 'quotes': 2, 'therefore': 2, 'regulars': 2, 'skirt': 2, 'prepared': 2, 'trapped': 2, 'rule': 2, 'pint': 2, 'judge_snyder:': 2, 'ale': 2, 'suds': 2, 'cat': 2, 'moe-clone:': 2, 'attitude': 2, 'weirder': 2, 'jerky': 2, 'record': 2, 'bourbon': 2, 'ginger': 2, 'sissy': 2, 'wrestling': 2, 'forehead': 2, 'barely': 2, 'flag': 2, 'attempting': 2, \"takin'\": 2, 'camp': 2, 'cheat': 2, 'haw': 2, \"payin'\": 2, 'known': 2, 'bridge': 2, 'museum': 2, 'coins': 2, 'jailbird': 2, 'wangs': 2, 'photo': 2, 'shoots': 2, 'louie:': 2, 'reporter:': 2, 'irish': 2, \"drawin'\": 2, 'marmaduke': 2, \"waitin'\": 2, 'fragile': 2, 'wolfe': 2, 'wordloaf': 2, 'festival': 2, 'fictional': 2, \"what'sa\": 2, 'fausto': 2, 'action': 2, 'pretending': 2, 'abandon': 2, 'airport': 2, 'mortgage': 2, \"ladies'\": 2, 'dames': 2, 'appealing': 2, 'patient': 2, 'weirded-out': 2, 'fanciest': 2, 'towed': 2, 'eighty-one': 2, 'joke': 2, 'grandmother': 2, 'bully': 2, 'mixed': 2, 'stir': 2, 'positive': 2, 'slight': 2, 'latin': 2, 'complaint': 2, 'obvious': 2, 'thighs': 2, 'internet': 2, 'media': 2, 'disappeared': 2, 'candidate': 2, 'dennis_kucinich:': 2, 'lurleen': 2, 'lurleen_lumpkin:': 2, 'rock': 2, \"someone's\": 2, 'hangs': 2, 'sneaky': 2, 'winnings': 2, 'krabappel': 2, 'difficult': 2, 'discuss': 2, 'compared': 2, 'decent': 2, 'doreen': 2, 'doreen:': 2, \"marge's\": 2, 'available': 2, 'bashir': 2, 'arab_man:': 2, 'dress': 2, 'grimly': 2, 'lock': 2, 'combine': 2, 'queen': 2, 'multiple': 2, 'prize': 2, 'alfred': 2, 'shower': 2, 'tiny': 2, 'slice': 2, 'playful': 2, \"wonderin'\": 2, 'defeated': 2, 'maya': 2, 'whether': 2, 'awww': 2, 'rhyme': 2, 'un-sults': 2, 'courage': 2, 'reviews': 2, 'hibbert': 2, 'banquo': 2, 'thought_bubble_homer:': 2, 'tries': 2, 'wing': 2, 'helllp': 2, 'lovely': 2, 'cozy': 2, 'begins': 2, 'torn': 2, 'warn': 2, 'possibly': 2, 'stranger:': 2, 'gator:': 2, 'corporate': 2, 'industry': 2, 'awesome': 2, 'decency': 2, 'extremely': 2, 'saint': 2, 'type': 2, 'is:': 2, 'partly': 2, 'golf': 2, 'ball-sized': 2, 'hail': 2, 'continuing': 2, 'electronic': 2, 'zero': 2, 'tale': 2, 'restroom': 2, 'rules': 2, 'sitar': 2, 'smallest': 2, 'sympathetic': 2, 'slightly': 2, 'soup': 2, 'padre': 2, 'lloyd': 2, 'candy': 2, 'scary': 2, 'beep': 2, 'fox': 2, 'strategy': 2, 'answers': 2, 'grienke': 2, 'sport': 2, 'doug:': 2, 'sabermetrics': 2, \"others'\": 2, 'fixed': 2, 'assistant': 2, 'admiration': 2, 'self-made': 2, 'suspect': 2, 'proposing': 2, 'plans': 2, 'hitler': 2, 'dungeon': 2, 'stern': 2, 'waltz': 2, 'suspicious': 2, 'roz:': 2, 'relieved': 2, 'suing': 2, 'therapist': 2, 'skeptical': 2, 'boneheaded': 2, 'relationship': 2, 'twin': 2, 'dreamed': 2, 'joey_kramer:': 2, 'kramer': 2, 'neighbor': 2, 'completing': 2, \"other's\": 2, 'wayne': 2, 'stealings': 2, 'monkey': 2, 'crew': 2, \"children's\": 2, 'underbridge': 2, 'academy': 2, 'neil_gaiman:': 2, 'square': 2, 'vulnerable': 2, 'copy': 2, 'trolls': 2, 'vampires': 2, \"hasn't\": 2, 'lenny:': 2, 'carl:': 2, 'carll': 2, 'website': 2, 'safer': 2, 'bedbugs': 2, 'duty': 2, 'intense': 2, 'friendship': 2, \"crawlin'\": 2, 'maman': 2, 'failed': 2, 'lise:': 2, 'marguerite:': 2, 'cheese': 2, 'degradation': 2, 'violin': 2, 'heading': 2, 'raccoons': 2, 'filled': 2, 'rolled': 2, 'trench': 2, 'frog': 2, 'poker': 2, 'cowardly': 2, 'outlook': 2, 'motorcycle': 2, 'ripcord': 2, 'reached': 2, 'so-called': 2, '7-year-old_brockman:': 2, 'muttering': 2, 'plywood': 2, 'hats': 2, 'civilization': 2, 'anarchy': 2, 'w': 2, \"readin'\": 2, 'chicks': 2, 'wooden': 2, 'deacon': 2, 'priest': 2, 'important': 2, 'vacuum': 2, 'cleaner': 2, 'tie': 2, 'belong': 2, 'dreams': 2, 'elephants': 2, 'brothers': 2, 'wings': 2, 'spied': 2, 'bump': 2, 'reliable': 2, 'superhero': 2, 'pigs': 2, 'refresh': 2, 'express': 2, 'mall': 2, 'santa': 2, 'page': 2, 'brassiest': 2, 'nickels': 2, 'laney_fontaine:': 2, 'craphole': 2, 'smile:': 2, 'baritone': 2, 'africa': 2, 'snorts': 2, 'wa': 2, 'scrape': 2, 'nigeria': 2, 'level': 2, 'nigerian': 2, 'princesses': 2, 'familiar': 2, 'yawns': 2, 'stuck': 2, 'scooter': 2, 'aged_moe:': 2, 'teenage_homer:': 2, 'grade': 2, \"homer's_brain:\": 2, 'punk': 2, 'someday': 2, 'boxing_announcer:': 2, \"monroe's\": 2, 'thru': 2, 'koholic': 2, \"dyin'\": 2, 'tv_announcer:': 2, 'patty': 2, 'elite': 1, 'enhance': 1, 'skills': 1, 'politician': 1, \"neighbor's\": 1, 'right-handed': 1, 'corkscrews': 1, 'homer_': 1, \"cont'd:\": 1, 'led': 1, 'richer': 1, 'county': 1, 'faces': 1, 'profiling': 1, 'paper': 1, \"depressin'\": 1, 'crisis': 1, 'pictured': 1, 'underwear': 1, 'jury': 1, 'lawyer': 1, 'pretzel': 1, 'patrons:': 1, 'foam': 1, 'spare': 1, 'stiffening': 1, 'trenchant': 1, 'disappointing': 1, 'jer': 1, 'grudgingly': 1, 'reed': 1, 'whoo': 1, 'instrument': 1, 'sunk': 1, 'patrons': 1, 'figure': 1, 'healthier': 1, 'increased': 1, 'togetherness': 1, 'poison': 1, 'purveyor': 1, 'mind-numbing': 1, 'intoxicants': 1, 'unfamiliar': 1, 'tonic': 1, 'mix': 1, 'bowie': 1, 'nickel': 1, 'coughs': 1, 'phlegm': 1, 'looser': 1, 'sneeze': 1, 'guard': 1, 'chuckling': 1, 'crowded': 1, 'cracked': 1, 'accepting': 1, 'stamps': 1, 'combination': 1, 'patron_#1:': 1, 'patron_#2:': 1, 'store-bought': 1, 'drollery': 1, 'application': 1, 'ons': 1, 'salary': 1, 'wage': 1, 'meaningfully': 1, 'fringe': 1, 'unforgettable': 1, 'weekend': 1, 'vacations': 1, 'someplace': 1, 'moxie': 1, 'methinks': 1, 'bannister': 1, \"mcstagger's\": 1, 'emporium': 1, 'composite': 1, 'logos': 1, 'mozzarella': 1, 'proposition': 1, 'chain': 1, 'recipe': 1, 'dice': 1, 'sweat': 1, 'dies': 1, 'delivery_man:': 1, 'cases': 1, 'hooked': 1, 'waitress': 1, 'pursue': 1, 'hundreds': 1, 'thousands': 1, 'cuz': 1, \"duff's\": 1, 'information': 1, 'motto': 1, 'full-time': 1, 'swine': 1, 'germany': 1, 'east': 1, 'west': 1, 'cleveland': 1, 'browns': 1, 'monkeyshines': 1, 'kinds': 1, 'resist': 1, 'musses': 1, 'today/': 1, 'marvelous': 1, 'play/': 1, 'trees': 1, 'sees/': 1, 'please/': 1, 'picnic': 1, 'pip': 1, 'mirthless': 1, 'damned': 1, 'reptile': 1, 'saucy': 1, 'sieben-gruben': 1, '7g': 1, 'terminated': 1, 'example': 1, 'sing-song': 1, 'heavens': 1, 'stamp': 1, 'slays': 1, 'terror': 1, 'determined': 1, 'freshened': 1, 'hourly': 1, 'provide': 1, 'coyly': 1, 'h': 1, 'justify': 1, 'england': 1, 'modest': 1, 'malibu': 1, 'stacey': 1, 'kitchen': 1, 'prints': 1, 'feminist': 1, 'newsletter': 1, 'daaaaad': 1, 'grumbling': 1, 'usual': 1, 'wad': 1, 'bills': 1, 'thirty-five': 1, 'sagely': 1, 'sweaty': 1, 'son-of-a': 1, \"ma's\": 1, 'norway': 1, 'brunch': 1, 'spectacular': 1, 'baloney': 1, 'gotcha': 1, 'eminence': 1, 'bookie': 1, \"bettin'\": 1, 'football': 1, 'forty-five': 1, 'pre-game': 1, 'actor': 1, 'mcclure': 1, 'sitcom': 1, 'premiering': 1, 'coincidentally': 1, \"show's\": 1, 'criminal': 1, 'fell': 1, 'script': 1, 'recent': 1, 'irs': 1, 'sealed': 1, \"drexel's\": 1, 'kickoff': 1, 'kicks': 1, 'position': 1, 'gambler': 1, 'score': 1, 'fourteen:': 1, 'duff_announcer:': 1, 'half-back': 1, 'beer-dorf': 1, 'ticks': 1, 'scores': 1, \"fans'll\": 1, 'looting': 1, 'lone': 1, 'handoff': 1, 'twenty-nine': 1, 'scratching': 1, 'chin': 1, 'stinky': 1, 'sniffing': 1, \"england's\": 1, 'boggs': 1, 'scornfully': 1, 'exploiter': 1, 'ignorant': 1, \"jackpot's\": 1, 'spitting': 1, 'boozehound': 1, \"singin'\": 1, 'young_barfly:': 1, 'moonnnnnnnn': 1, 'quarter': 1, 'hillbillies': 1, 'blind': 1, \"smokin'\": 1, 'cummerbund': 1, 'tight': 1, 'furniture': 1, 'frazier': 1, 'washer': 1, 'religious': 1, 'maximum': 1, 'occupancy': 1, 'slick': 1, 'kneeling': 1, 'unattractive': 1, 'wheeeee': 1, 'cutest': 1, 'larson': 1, 'sponsoring': 1, 'regulations': 1, 'advertising': 1, 'smokes': 1, 'carolina': 1, 'crowned': 1, 'host': 1, 'maitre': 1, \"d'\": 1, 'glee': 1, 'heartily': 1, 'event': 1, 'tv_daughter:': 1, 'smoker': 1, 'enter': 1, 'blimp': 1, 'scientists': 1, \"bo's\": 1, 'cavern': 1, 'mobile': 1, 'starving': 1, 'dogs': 1, 'rusty': 1, 'dull': 1, 'spilled': 1, 'ashtray': 1, 'slurps': 1, 'captain:': 1, 'freed': 1, 'iranian': 1, 'hostages': 1, \"sat's\": 1, 'wishing': 1, 'diaper': 1, 'ronstadt': 1, 'linda_ronstadt:': 1, 'kl5-4796': 1, '/mr': 1, 'boozer': 1, 'intelligent': 1, 'lachrymose': 1, 'dyspeptic': 1, 'ebullient': 1, 'harvard': 1, 'silent': 1, 'admirer': 1, 'snide': 1, 'moesy': 1, 'worthless': 1, 'rub-a-dub': 1, 'anthony_kiedis:': 1, 'thirty-thousand': 1, 'audience': 1, 'restless': 1, 'chili': 1, 'peppers': 1, 'klown': 1, 'flea:': 1, 'gig': 1, 'problemo': 1, \"wallet's\": 1, 'stares': 1, 'miss_lois_pennycandy:': 1, 'ruby-studded': 1, 'johnny_carson:': 1, 'undies': 1, '50%': 1, 'sales': 1, 'sweetest': 1, 'entertainer': 1, 'crowds': 1, 'wild': 1, 'farewell': 1, 'shop': 1, 'theatrical': 1, 'distaste': 1, 'officer': 1, 'replace': 1, 'nahasapeemapetilon': 1, 'fit': 1, 'marquee': 1, 'luv': 1, 'du': 1, 'beaumarchais': 1, 'dishonor': 1, 'ancestors': 1, 'applicant': 1, 'killarney': 1, 'mither': 1, 'sang': 1, 'tones': 1, 'soft': 1, 'swe-ee-ee-ee-eet': 1, 'my-y-y-y-y-y': 1, 'hanh': 1, 'sounded': 1, 'kako:': 1, 'floating': 1, 'perfume': 1, \"man's\": 1, 'hat': 1, 'phasing': 1, 'schabadoo': 1, 'attracted': 1, 'reciting': 1, 'infatuation': 1, 'physical': 1, 'attraction': 1, 'common': 1, 'napkins': 1, 'vigilante': 1, 'handshake': 1, 'eightball': 1, 'twelveball': 1, 'aboard': 1, 'nooo': 1, 'file': 1, 'fiiiiile': 1, 'necessary': 1, 'astronauts': 1, 'introduce': 1, 'evils': 1, 'unfair': 1, 'wobble': 1, 'caholic': 1, 'pee': 1, 'freely': 1, 'crotch': 1, 'ivanna': 1, 'fondest': 1, 'desire': 1, 'invisible': 1, 'donut': 1, 'sacrilicious': 1, 'indecipherable': 1, 'goo': 1, 'ideal': 1, 'thoughtless': 1, 'remain': 1, 'nameless': 1, 'spite': 1, 'clips': 1, 'awfully': 1, 'flustered': 1, \"ball's\": 1, 'slender': 1, 'feminine': 1, 'tapered': 1, 'lighter': 1, 'delicate': 1, 'brunswick': 1, 'bowled': 1, 'shifty': 1, 'eyed': 1, 'genuinely': 1, 'enthused': 1, 'patting': 1, 'flames': 1, \"burnin'\": 1, 'soaked': 1, \"messin'\": 1, 'banned': 1, 'sugar-me-do': 1, 'caricature': 1, 'mt': 1, 'lushmore': 1, 'juke': 1, 'raining': 1, 'oww': 1, 'jokes': 1, 'incognito': 1, 'gr-aargh': 1, 'exact': 1, 'equal': 1, 'astonishment': 1, 'puffy': 1, 'however': 1, 'confidentially': 1, 'collateral': 1, 'shark': 1, 'finance': 1, 'sledge-hammer': 1, 'othello': 1, 'drinker': 1, 'sensible': 1, 'presently': 1, 'beast': 1, 'savagely': 1, 'tender': 1, 'scout': 1, 'arrested:': 1, 'heather': 1, 'locklear': 1, 'fortensky': 1, 'hugh': 1, 'cuff': 1, 'links': 1, 'traditions': 1, 'enthusiasm': 1, 'other_player:': 1, \"fightin'\": 1, 'dizzy': 1, 'nauseous': 1, 'female_inspector:': 1, 'toxins': 1, 'pumping': 1, 'steely-eyed': 1, 'ahhhh': 1, 'rascals': 1, 'smelly': 1, 'shtick': 1, 'faceful': 1, 'soot': 1, 'william': 1, 'faulkner': 1, 'aggie': 1, 'director:': 1, 'stagehand:': 1, 'luckily': 1, 'orphan': 1, 'owned': 1, 'assent': 1, 'wealthy': 1, 'merchants': 1, 'forgiven': 1, 'prices': 1, 'flailing': 1, 'agh': 1, 'little_hibbert_girl:': 1, 'mmm-hmm': 1, 'cheesecake': 1, 'depository': 1, 'all-american': 1, 'cooking': 1, 'chairman': 1, 'wok': 1, 'relaxing': 1, 'madman': 1, 'cooker': 1, 'feedbag': 1, \"fryer's\": 1, 'navy': 1, 'flash-fry': 1, 'whining': 1, \"g'on\": 1, 'extinguishers': 1, 'cheering': 1, \"aren'tcha\": 1, '50-60': 1, 'mistakes': 1, 'mistresses': 1, 'quimby_#2:': 1, 'quimbys:': 1, 'bell': 1, 'support': 1, 'prejudice': 1, 'hero-phobia': 1, 'sickens': 1, 'jubilation': 1, 'committee': 1, 'vicious': 1, 'distract': 1, 'safely': 1, 'choices:': 1, 'barney-guarding': 1, 'contemplated': 1, 'truck_driver:': 1, 'dracula': 1, 'marry': 1, 'jovial': 1, 'sickly': 1, 'ura': 1, 'snotball': 1, '70': 1, 'voyager': 1, 'craft': 1, \"tab's\": 1, '14': 1, 'alls': 1, 'halfway': 1, 'muscle': 1, \"wino's\": 1, 'muffled': 1, 'inches': 1, 'bullet-proof': 1, 'student': 1, 'aggravazes': 1, 'immiggants': 1, 'bothered': 1, 'language': 1, 'sentimonies': 1, \"jimbo's_dad:\": 1, \"dolph's_dad:\": 1, 'throws': 1, 'ugh': 1, \"kearney's_dad:\": 1, \"somethin's\": 1, \"fun's\": 1, 'two-drink': 1, 'punishment': 1, 'three-man': 1, \"poundin'\": 1, \"kid's\": 1, 'beatings': 1, 'spirit': 1, 'prizefighters': 1, 'perking': 1, 'boxers': 1, 'lobster': 1, 'dressing': 1, 'limits': 1, 'arise': 1, 'clincher': 1, 'sixty': 1, 'wantcha': 1, 'faith': 1, '1979': 1, 'office': 1, 'presentable': 1, 'gruesome': 1, 'democrats': 1, 'causes': 1, 'damage': 1, 'boxcar': 1, 'brawled': 1, 'boxcars': 1, 'fighter': 1, 'mitts': 1, 'barbed': 1, 'stinger': 1, 'drawn': 1, \"tramp's\": 1, 'stops': 1, 'punching': 1, \"'cept\": 1, 'bindle': 1, \"now's\": 1, 'delightful': 1, 'glitterati': 1, 'highest': 1, 'priority': 1, 'temporarily': 1, 'incarcerated': 1, 'pushing': 1, 'stairs': 1, 'impending': 1, 'strategizing': 1, 'glorious': 1, 'shores': 1, 'fistiana': 1, 'comeback': 1, \"donatin'\": 1, 'stalwart': 1, 'pugilist': 1, 'fights': 1, 'sustain': 1, 'verticality': 1, \"tatum'll\": 1, 'fustigate': 1, 'fustigation': 1, 'choice:': 1, 'faded': 1, 'tar-paper': 1, 'naively': 1, 'champion': 1, 'evasive': 1, 'charged': 1, 'landfill': 1, 'burg': 1, 'pussycat': 1, 'doll-baby': 1, 'starla': 1, 'starla:': 1, 'wigs': 1, \"starla's\": 1, 'temp': 1, 'k-zug': 1, \"'kay-zugg'\": 1, '530': 1, 'launch': 1, 'demo': 1, 'housework': 1, 'self-centered': 1, 'though:': 1, 'thawing': 1, 'station': 1, 'sink': 1, 'broken:': 1, 'foundation': 1, 'helpful': 1, 'crony': 1, 'sam:': 1, 'sympathizer': 1, 'bumblebee_man:': 1, 'compadre': 1, 'kearney_zzyzwicz:': 1, 'associate': 1, 'contemporary': 1, 'well-wisher': 1, 'specific': 1, 'harm': 1, 'friday': 1, 'düff': 1, 'doof': 1, 'sweden': 1, 'skoal': 1, 'nasty': 1, 'refreshing': 1, 'breathalyzer': 1, 'recreate': 1, 'alien': 1, 'wittgenstein': 1, 'backgammon': 1, 'dana_scully:': 1, 'felony': 1, 'packets': 1, 'mustard': 1, \"fine-lookin'\": 1, 'remorseful': 1, 'anyhow': 1, 'agents': 1, 'mulder': 1, 'edgy': 1, \"s'cuse\": 1, 'dimly': 1, 'generously': 1, 'raking': 1, 'nervously': 1, 'syndicate': 1, 'ambrose': 1, 'burnside': 1, 'stonewall': 1, 'jackson': 1, 'mill': 1, \"industry's\": 1, 'aerospace': 1, 'railroads': 1, 'knowingly': 1, 'hoped': 1, \"bart'd\": 1, 'mystery': 1, \"swishifyin'\": 1, 'effect': 1, \"mtv's\": 1, 'lessee': 1, \"shootin'\": 1, \"man'd\": 1, 'wars': 1, 'warren': 1, 'grandkids': 1, 'considers': 1, 'st': 1, 'metal': 1, 'busiest': 1, 'cheapskates': 1, 'ireland': 1, 'menacing': 1, 'yew': 1, 'bathtub': 1, 'mint': 1, 'julep': 1, 'jane': 1, 'fonda': 1, 'daniel': 1, 'schorr': 1, 'anderson': 1, 'richard': 1, \"nixon's\": 1, 'expecting': 1, 'chauffeur': 1, 'lift': 1, \"washin'\": 1, 'desperately': 1, 'belly-aching': 1, 'wh': 1, 'abe': 1, 'dea-d-d-dead': 1, 'stooges': 1, 'shopping': 1, 'cans': 1, 'wise': 1, 'socratic': 1, 'swelling': 1, 'mushy': 1, 'hearts': 1, 'pinball': 1, 'western': 1, 'dishrag': 1, 'crab': 1, 'talkers': 1, 'jewish': 1, 'catch-phrase': 1, 'grrrreetings': 1, 'darn': 1, \"tootin'\": 1, 'fink': 1, 'ping-pong': 1, 'plug': 1, \"usin'\": 1, \"phone's\": 1, 'four-drink': 1, 'test-': 1, 'test-lady': 1, \"g'ahead\": 1, 'clammy': 1, 'lovelorn': 1, 'you-need-man': 1, 'moe-near-now': 1, 'go-near-': 1, 'endorsement': 1, 'breakfast': 1, 'rush': 1, \"'evening\": 1, \"'morning\": 1, 'chauffeur:': 1, '91': 1, 'accidents': 1, 'choose': 1, 'whoever': 1, 'stays': 1, 'noooooooooo': 1, 'pantsless': 1, 'duffed': 1, 'creates': 1, 'awareness': 1, 'bottomless': 1, 'cheerleaders:': 1, 'and:': 1, 'perfunctory': 1, 'brusque': 1, 'ehhh': 1, 'swell': 1, 'wholeheartedly': 1, 'supports': 1, 'shaky': 1, 'lecture': 1, 'villanova': 1, 'streetcorner': 1, 'anger': 1, 'ought': 1, 'parasol': 1, 'congratulations': 1, 'cockroach': 1, 'displeased': 1, 'man_at_bar:': 1, \"scammin'\": 1, 'easter': 1, 'giant': 1, 'rumor': 1, 'depression': 1, 'depressant': 1, 'sight-unseen': 1, 'twenty-four': 1, 'chipper': 1, 'dirge-like': 1, 'blooded': 1, 'bachelorhood': 1, 'jasper_beardly:': 1, 'hot-rod': 1, 'souped': 1, 'gear-head': 1, 'six-barrel': 1, 'hollye': 1, 'carb': 1, 'betcha': 1, 'edelbrock': 1, 'intakes': 1, 'meyerhof': 1, 'lifters': 1, 'dignity': 1, 'breakdown': 1, 'society': 1, 'dateline:': 1, 'burglary': 1, 'creature': 1, 'intoxicated': 1, 'marjorie': 1, 'heart-broken': 1, 'sweater': 1, 'cajun': 1, 'sneering': 1, 'choke': 1, 'enthusiastically': 1, 'stomach': 1, 'bushes': 1, 'tapping': 1, 'further': 1, 'zinged': 1, 'spews': 1, 'orifice': 1, 'indifference': 1, 'clapping': 1, \"hawkin'\": 1, 'vincent': 1, \"floatin'\": 1, 'horrors': 1, 'unfresh': 1, 'winston': 1, 'wienerschnitzel': 1, 'madison': 1, 'avenue': 1, 'robbers': 1, 'various': 1, 'impeach': 1, 'crooks': 1, 'allowance': 1, 'cats': 1, '$42': 1, 'bury': 1, 'businessman_#2:': 1, 'boston': 1, 'suits': 1, 'vehicle': 1, 'oooo': 1, 'ignoring': 1, 'followed': 1, 'begging': 1, 'combines': 1, 'handling': 1, 'rugged': 1, 'driveability': 1, 'sturdy': 1, '4x4': 1, \"ya'\": 1, 'cadillac': 1, 'automobiles': 1, 'beefs': 1, 'fat-free': 1, 'th-th-th-the': 1, 'groan': 1, 'jay:': 1, 'shoulda': 1, 'shill': 1, 'indifferent': 1, '35': 1, 'hammer': 1, 'country-fried': 1, 'endorsed': 1, 'federal': 1, 'ruled': 1, 'unsafe': 1, 'chorus:': 1, 'lanes': 1, 'sixty-five': 1, 'tons': 1, 'unexplained': 1, 'fires': 1, 'courts': 1, 'blinds': 1, 'squirrel': 1, 'squashing': 1, \"smackin'\": 1, 'canyoner-oooo': 1, 'hyahh': 1, 'blissful': 1, 'hiding': 1, 'rash': 1, 'whatchacallit': 1, 'homesick': 1, 'diving': 1, 'tourist': 1, 'pennies': 1, 'micronesian': 1, 'swamp': 1, 'mirror': 1, 'puke-pail': 1, \"fendin'\": 1, 'starlets': 1, 'pointy': 1, 'ugliness': 1, 'dozen': 1, 'ram': 1, 'players': 1, 'maxed': 1, 'tenuous': 1, 'pinchpenny': 1, 'besides': 1, 'tabs': 1, 'ungrateful': 1, 'ingrates': 1, \"renee's\": 1, 'insured': 1, 'wreck': 1, 'awkwardly': 1, 'insist': 1, 'model': 1, 'represents': 1, 'olive': 1, \"car's\": 1, 'toy': 1, 'waterfront': 1, \"department's\": 1, 'moonlight': 1, 'cruise': 1, 'righ': 1, 'alibi': 1, 'tracks': 1, '10:15': 1, 'wham': 1, 'insurance': 1, 'clams': 1, 'troubles': 1, 'betrayed': 1, 'low-life': 1, 'y-you': 1, 'hmf': 1, 'locked': 1, 'clearing': 1, 'graveyard': 1, 'we-we-we': 1, 'brandy': 1, 'fwooof': 1, 'hawaii': 1, 'yelp': 1, 'murderously': 1, 'oh-ho': 1, \"g'night\": 1, 'mommy': 1, 'sincerely': 1, 'tearfully': 1, 'beady': 1, \"homer'll\": 1, 'naval': 1, 'strictly': 1, 'forbids': 1, 'hah': 1, 'thorn': 1, 'grants': 1, 'wondered': 1, \"that'd\": 1, 'heatherton': 1, 'tempting': 1, 'agent_miller:': 1, 'flashing': 1, 'badge': 1, 'united': 1, 'states': 1, 'wiping': 1, 'signal': 1, 'activity': 1, 'cause': 1, 'commit': 1, 'crimes': 1, 'fired': 1, 'moonshine': 1, 'basement': 1, 'telemarketing': 1, 'uhhhh': 1, 'george': 1, 'seething': 1, 'charlie:': 1, 'militia': 1, 'sorts': 1, 'officials': 1, 'drag': 1, 'high-definition': 1, 'conspiracy': 1, 'musta': 1, 'ratted': 1, 'transmission': 1, 'disaster': 1, 'wishful': 1, 'elect': 1, 'vengeful': 1, 'slogan': 1, 'appeals': 1, 'slobs': 1, 'triumphantly': 1, 'u2:': 1, 'sanitation': 1, 'blokes': 1, 'courteous': 1, 'easygoing': 1, 'the_edge:': 1, 'overflowing': 1, 'bono:': 1, 'arse': 1, 'knocks': 1, 'omit': 1, 'detail': 1, 'spellbinding': 1, 'thomas': 1, 'dictating': 1, 'fluoroscope': 1, 'repeating': 1, 'telegraph': 1, 'breathless': 1, 'firm': 1, 'believer': 1, 'fletcherism': 1, 'heliotrope': 1, 'alva': 1, 'wore': 1, 'pajamas': 1, 'rubs': 1, 'temples': 1, 'menlo': 1, 'tasimeter': 1, 'ore': 1, 'separator': 1, 'watt': 1, 'steam': 1, 'engine': 1, 'unusually': 1, 'focused': 1, 'squeal': 1, 'waste': 1, \"somebody's\": 1, 'gus': 1, 'yoink': 1, 'peeved': 1, 'citizens': 1, 'murdered': 1, 'watered': 1, 'highball': 1, 'derisive': 1, 'grocery': 1, 'absorbent': 1, 'youuu': 1, 'ointment': 1, 'aisle': 1, 'coy': 1, 'kim_basinger:': 1, 'alec_baldwin:': 1, 'ron_howard:': 1, 'statesmanlike': 1, 'doctor': 1, 'polenta': 1, 'life-threatening': 1, 'donor': 1, 'sucker': 1, 'lists': 1, 'spine': 1, 'vestigial': 1, 'plaintive': 1, 'buttocks': 1, 'harvesting': 1, 'eyeing': 1, 'hostile': 1, \"'round\": 1, 'y': 1, 'dime': 1, 'quimby': 1, 'puke-holes': 1, 'reserved': 1, 'cronies': 1, 'düffenbraus': 1, 'semi-imported': 1, 'guzzles': 1, 'generosity': 1, 'greatly': 1, 'appreciated': 1, 'stagey': 1, 'roach': 1, 'hubub': 1, 'sniper': 1, 'blessing': 1, 'disguise': 1, 'ruuuule': 1, 'die-hard': 1, 'winded': 1, \"brockman's\": 1, 'microphone': 1, 'woooooo': 1, 'ga': 1, 'ninth': 1, 'outs': 1, 'j': 1, \"'s\": 1, 'jumping': 1, 'technical': 1, 'stan': 1, 'kadlubowski': 1, 'injury': 1, \"football's\": 1, 'champs': 1, 'harrowing': 1, 'enjoys': 1, 'scornful': 1, 'bronco': 1, 'nagurski': 1, 'reconsidering': 1, 'coupon': 1, 'travel': 1, 'agency': 1, 'charter': 1, 'dreamily': 1, 'quarterback': 1, 'wally': 1, 'it:': 1, 'count': 1, 'broncos': 1, 'hillary': 1, 'adventure': 1, 'assassination': 1, 'scarf': 1, 'lance': 1, 'supervising': 1, 'bumbling': 1, 'sidekick': 1, 'infiltrate': 1, 'idiots': 1, 'destroyed': 1, 'shipment': 1, 'indeedy': 1, 'insulin': 1, 'haplessly': 1, \"spaghetti-o's\": 1, 'dum-dum': 1, 'unintelligent': 1, 'shutup': 1, 'diminish': 1, 'bid': 1, 'encore': 1, 'encores': 1, 'reactions': 1, 'clap': 1, 'erasers': 1, 'sideshow_mel:': 1, 'barbara': 1, 'arts': 1, 'stalking': 1, 'bumped': 1, 'sympathy': 1, 'guiltily': 1, 'maude': 1, 'shriners': 1, 'old_jewish_man:': 1, 'traitor': 1, 'astrid': 1, 'dealer': 1, 'gunter': 1, 'cecil': 1, 'hampstead-on-cecil-cecil': 1, 'eurotrash': 1, 'gunter:': 1, 'adrift': 1, 'decadent': 1, 'luxury': 1, 'meaningless': 1, 'located': 1, 'cecil_terwilliger:': 1, 'hotel': 1, 'practice': 1, 'affectations': 1, 'bon': 1, 'soir': 1, 'feld': 1, 'priceless': 1, 'sketch': 1, 'certificate': 1, 'authenticity': 1, 'sketching': 1, 'twelve-step': 1, 'novelty': 1, 'item': 1, 'chosen': 1, 'squadron': 1, '8': 1, 'monday': 1, 'municipal': 1, 'fortress': 1, 'vengeance': 1, 'studied': 1, 'fastest': 1, 'theory': 1, 'donut-shaped': 1, 'universe': 1, 'intriguing': 1, 'computer_voice_2:': 1, 'larry': 1, 'flynt': 1, 'stink': 1, \"hell's\": 1, 'jazz': 1, 'regretted': 1, 'helpless': 1, 'frescas': 1, 'hushed': 1, \"bladder's\": 1, 'urine': 1, 'demand': 1, 'slaps': 1, 'extreme': 1, 'slapped': 1, \"duelin'\": 1, 'shack': 1, \"b-52's:\": 1, 'sat-is-fac-tion': 1, 'feat': 1, 'forgotten': 1, 'depressed': 1, 'shred': 1, 'shreda': 1, 'rivalry': 1, 'spreads': 1, 'wildfever': 1, 'th': 1, 'writer:': 1, 'preparation': 1, 'additional-seating-capacity': 1, 'ivy-covered': 1, 'founded': 1, 'kegs': 1, 'imported-sounding': 1, 'tuborg': 1, 'kings': 1, 'accounta': 1, 'sun': 1, 'sky': 1, 'sail': 1, 'waters': 1, 'theme': 1, 'tyson/secretariat': 1, 'wildest': 1, 'calendars': 1, 'liquor': 1, 'examines': 1, 'expired': 1, '1973': 1, 'rhode': 1, 'signed': 1, 'updated': 1, 'poster': 1, 'moe-lennium': 1, 'sticker': 1, 'viva': 1, 'relative': 1, 'stickers': 1, 'uglier': 1, 'pigtown': 1, 'cauliflower': 1, 'ear': 1, 'lizard': 1, 'caveman': 1, 'snout': 1, 'emphasis': 1, 'maher': 1, 'crapmore': 1, 'kisser': 1, 'spotting': 1, 'windowshade': 1, 'grope': 1, 'softer': 1, 'complicated': 1, 'maintenance': 1, \"neat's-foot\": 1, 'hooters': 1, 'wraps': 1, 'crushed': 1, 'hike': 1, 'mabel': 1, 'voted': 1, 'chastity': 1, 'bono': 1, 'influence': 1, 'glummy': 1, 'shindig': 1, 'videotaped': 1, 'slot': 1, 'package': 1, 'tha': 1, 'occasion': 1, 'older': 1, 'flew': 1, 'upsetting': 1, 'stage': 1, 'talkative': 1, 'coherent': 1, 'yourse': 1, 'soaking': 1, 'shag': 1, 'disgracefully': 1, 'presents': 1, 'without:': 1, 'morning-after': 1, 'boozebag': 1, 'whirlybird': 1, 'b-day': 1, 'punkin': 1, 'tanking': 1, \"handwriting's\": 1, 'afloat': 1, 'santeria': 1, 'breaks': 1, 'straighten': 1, 'finish': 1, 'suspiciously': 1, 'world-class': 1, 'alcoholism': 1, 'raging': 1, 'barney-type': 1, 'bad-mouth': 1, 'catty': 1, 'consulting': 1, 'amends': 1, 'disgraceful': 1, 'behavior': 1, 'barstools': 1, 'closet': 1, 'drop-off': 1, 'bulletin': 1, 'broken': 1, 'trapping': 1, 'youngsters': 1, 'trucks': 1, 'unavailable': 1, 'blaze': 1, 'burt_reynolds:': 1, 'feisty': 1, 'supreme': 1, 'court': 1, 'birth': 1, 'competing': 1, 'cross-country': 1, 'race': 1, 'flown': 1, 'heroism': 1, 'charges': 1, 'binoculars': 1, 'grieving': 1, 'slab': 1, 'tear': 1, 'reluctantly': 1, 'clenched': 1, 'resigned': 1, 'according': 1, 'uses': 1, 'appearance-altering': 1, 'cosmetics': 1, 'warned': 1, 'tall': 1, 'clandestine': 1, 'disturbing': 1, 'pulitzer': 1, 'guinea': 1, 'chew': 1, 'telephone': 1, 'experiments': 1, 'ears': 1, 'winces': 1, 'hmmmm': 1, 'dawning': 1, 'appalled': 1, 'fire_inspector:': 1, 'brainiac': 1, 'distinct': 1, 'strain': 1, 'anti-intellectualism': 1, 'einstein': 1, 'appendectomy': 1, 'lipo': 1, 'sampler': 1, 'dramatically': 1, 'crayon': 1, 'art': 1, 'carney': 1, 'flourish': 1, 'crayola': 1, 'oblongata': 1, 'deeper': 1, 'pusillanimous': 1, 'pilsner-pusher': 1, 'inanely': 1, 'extended': 1, 'warranty': 1, 'sacajawea': 1, 'manatee': 1, 'cranberry': 1, 'aah': 1, 'painted': 1, 'choices': 1, 'scanning': 1, \"soakin's\": 1, 'nectar': 1, 'nitwit': 1, \"knockin'\": 1, 'badmouths': 1, \"o'\": 1, 'mindless': 1, 'droning': 1, 'befriend': 1, \"raggin'\": 1, 'conditioners': 1, 'loneliness': 1, 'guttural': 1, 'heartless': 1, 'owns': 1, 'family-owned': 1, 'eye-gouger': 1, 'brine': 1, 'massive': 1, 'occasional': 1, 'total': 1, 'rip-off': 1, 'gangrene': 1, 'cup': 1, \"coffee'll\": 1, 'waking-up': 1, 'instantly': 1, \"nick's\": 1, 'rude': 1, 'hitchhike': 1, 'emergency': 1, 'dollface': 1, 'nash': 1, 'bridges': 1, 'illegally': 1, 'smuggled': 1, '2nd_voice_on_transmitter:': 1, '3rd_voice:': 1, 'presses': 1, 'snitch': 1, 'lotsa': 1, 'mission': 1, 'fireworks': 1, 'incriminating': 1, 'recorder': 1, 'hootie': 1, 'blowfish': 1, 'cheaper': 1, 'blank': 1, 'wells': 1, 'aer': 1, 'lingus': 1, 'leprechaun': 1, 'cursed': 1, \"heat's\": 1, 'dejected': 1, 'slugger': 1, 'italian': 1, \"spyin'\": 1, 'assumed': 1, 'stupidest': 1, 'valley': 1, 'series': 1, 'quitcher': 1, 'bellyaching': 1, 'dumb-asses': 1, 'yak': 1, \"d'ya\": 1, 'shesh': 1, 'smiled': 1, 'nailed': 1, 'jigger': 1, 'illustrates': 1, 'swigmore': 1, 'fills': 1, 'alma': 1, 'mater': 1, 'rekindle': 1, 'urban': 1, \"tinklin'\": 1, 'chips': 1, \"when's\": 1, 'natured': 1, 'splattered': 1, 'fonzie': 1, 'hemorrhage-amundo': 1, 'yello': 1, 'booger': 1, 'dirty': 1, 'teen': 1, 'hardhat': 1, 'wrecking': 1, 'giggle': 1, 'fainted': 1, 'prettied': 1, 'renew': 1, 'zeal': 1, 'twentieth': 1, 'dean': 1, 'design': 1, 'certified': 1, 'contractors': 1, 'pages': 1, 'hippies': 1, 'rem': 1, 'apology': 1, 'eco-fraud': 1, 'reluctant': 1, 'rainforest': 1, 'peter_buck:': 1, 'michael': 1, 'supplying': 1, 'mike_mills:': 1, 'gluten': 1, 'ate': 1, 'michael_stipe:': 1, 'mmmmm': 1, 'alternative': 1, 'rockers': 1, 'gabriel': 1, 'mortal': 1, 'equivalent': 1, 'gabriel:': 1, 'temper': 1, 'deliberately': 1, 'girl-bart': 1, 'loathe': 1, 'knives': 1, \"lady's\": 1, \"'n'\": 1, 'creme': 1, 'martini': 1, 'amber_dempsey:': 1, 'annoying': 1, 'night-crawlers': 1, 'bragging': 1, 'mole': 1, 'wowww': 1, 'amber': 1, 'proves': 1, 'buffet': 1, 'clothespins': 1, 'attach': 1, 'clothespins:': 1, 'swallowed': 1, 'inserted': 1, 'clipped': 1, 'sixteen': 1, 'magnanimous': 1, \"clancy's\": 1, 'op': 1, 'lovers': 1, 'newsweek': 1, 'failure': 1, 'thrust': 1, 'trivia': 1, 'lifetime': 1, 'supply': 1, 'chug-monkeys': 1, 'beverage': 1, 'hops': 1, 'grains': 1, 'grain': 1, \"time's\": 1, 'reading:': 1, 'woulda': 1, 'arrange': 1, 'escort': 1, 'orgasmville': 1, 'enlightened': 1, 'television': 1, 'producers': 1, 'booking': 1, 'mid-seventies': 1, 'alky': 1, \"round's\": 1, 'payday': 1, 'rented': 1, 'swings': 1, \"battin'\": 1, 'cage': 1, 'perverted': 1, 'winner': 1, 'sprawl': 1, 'hockey-fight': 1, 'settled': 1, \"what'd\": 1, 'lookalike:': 1, 'chuck': 1, 'exited': 1, 'trunk': 1, 'rainier': 1, 'wolfcastle': 1, 'ab': 1, 'roller': 1, 'backward': 1, 'leftover': 1, 'lookalike': 1, 'lookalikes': 1, 'macaulay': 1, 'culkin': 1, 'killing': 1, 'alpha-crow': 1, 'enveloped': 1, 'crow': 1, 'crowbar': 1, 'sloppy': 1, 'wacky': 1, 'tobacky': 1, 'spacey': 1, 'intervention': 1, 'poisoning': 1, 'excuses': 1, 'funeral': 1, 'interrupting': 1, 'forty-seven': 1, 'here-here-here': 1, 'pepper': 1, 'shaker': 1, 'dash': 1, 'dinks': 1, 'squishee': 1, 'canoodling': 1, 'junkyard': 1, 'rabbits': 1, 'soothing': 1, 'promise': 1, 'tropical': 1, 'windelle': 1, 'muhammad': 1, 'ali': 1, 'anti-lock': 1, 'brakes': 1, 'johnny': 1, 'mathis': 1, 'versus': 1, 'pepsi': 1, 'meditative': 1, 'lily-pond': 1, 'fry': 1, 'squirrels': 1, 'super-genius': 1, 'certainly': 1, 'lenford': 1, 'celebration': 1, 'pasta': 1, 'mini-beret': 1, \"this'll\": 1, 'speed': 1, 'nos': 1, 'killer': 1, 'stab': 1, 'simon': 1, 'up-bup-bup': 1, \"pickin'\": 1, 'homer_doubles:': 1, 'len-ny': 1, 'piano': 1, 'cell-ee': 1, 'cattle': 1, \"rustlin'\": 1, \"calf's\": 1, 'sneak': 1, 'snatch': 1, 'ghouls': 1, 'grammy': 1, 'judges': 1, 'perfected': 1, 'device': 1, 'flayvin': 1, 'space-time': 1, 'continuum': 1, \"wait'll\": 1, 'wasted': 1, 'plotz': 1, 'absentminded': 1, 'polishing': 1, 'diapers': 1, 'yuh-huh': 1, 'alter': 1, 'consciousness': 1, 'glitz': 1, 'glamour': 1, 'beligerent': 1, 'liable': 1, 'taunting': 1, 'accelerating': 1, 'snapping': 1, 'cab_driver:': 1, 'newest': 1, 'supermodel': 1, 'longest': 1, 'spit-backs': 1, \"tonight's\": 1, 'cock': 1, 'scoffs': 1, 'tokens': 1, 'reality': 1, 'gimmick': 1, 'lincoln': 1, 'kennedy': 1, 'mckinley': 1, 'simple': 1, 'slit': 1, 'quick-like': 1, 'sideshow_bob:': 1, 'haikus': 1, 'skinheads': 1, 'concentrate': 1, 'detective': 1, 'unbelievable': 1, 'digging': 1, 'intimacy': 1, 'cobbling': 1, 'shoes': 1, 'schizophrenia': 1, 'hiring': 1, 'swan': 1, 'delts': 1, 'clench': 1, 'bulked': 1, 'managed': 1, 'femininity': 1, 'fierce': 1, 'glyco-load': 1, 'ripping': 1, 'gel': 1, 'frightened': 1, 'sacrifice': 1, 'period': 1, 'delicately': 1, 'yammering': 1, 'pile': 1, 'disco_stu:': 1, 'stu': 1, 'ducked': 1, 'slim': 1, 'bupkus': 1, 'perplexed': 1, 'rump': 1, 'payback': 1, 'revenge': 1, 'subscriptions': 1, 'brick': 1, 'cerebral': 1, 'booze-bags': 1, 'victorious': 1, 'gallon': 1, 'icelandic': 1, 'boyhood': 1, 'anti-crime': 1, 'dealie': 1, 'streetlights': 1, 'strongly': 1, 'pro': 1, 'con': 1, \"i'unno\": 1, 'superdad': 1, 'crystal': 1, 'cheaped': 1, 'shelf': 1, 'paramedic:': 1, 'ingested': 1, 'defiantly': 1, 'ihop': 1, 'burger': 1, 'absentmindedly': 1, \"doctor's\": 1, 'neanderthal': 1, 'taylor': 1, 'ing': 1, 'voters': 1, 'november': 1, 'practically': 1, 'everywhere': 1, 'resenting': 1, 'appreciate': 1, 'shout': 1, 'f-l-a-n-r-d-s': 1, 'flame': 1, 'researching': 1, 'indigenous': 1, 'overhearing': 1, 'delightfully': 1, 'byrne': 1, 'singer': 1, 'artist': 1, 'composer': 1, 'wrestle': 1, 'el': 1, 'diablo': 1, 'philip': 1, 'rewound': 1, 'produce': 1, 'rolls': 1, 'kahlua': 1, 'fleabag': 1, 'unsanitary': 1, \"wearin'\": 1, 'walked': 1, 'dark': 1, 'dreary': 1, 'drunkening': 1, 'hangover': 1, 'barber': 1, 'frat': 1, 'julienne': 1, 'potatoes': 1, 'groin': 1, 'shortcomings': 1, 'banquet': 1, 'poulet': 1, 'au': 1, 'vin': 1, 'avec': 1, 'champignons': 1, 'kisses': 1, 'botanical': 1, 'gardens': 1, 'blossoming': 1, 'sumatran': 1, 'occurs': 1, 'customers-slash-only': 1, 'replaced': 1, \"mopin'\": 1, 'alarm': 1, 'tummies': 1, 'elves:': 1, 'cakes': 1, 'pets': 1, 'brotherhood': 1, \"i'd'a\": 1, 'pizza': 1, \"y'money's\": 1, 'counter': 1, 'leonard': 1, 'competitive': 1, 'macgregor': 1, 'musketeers': 1, 'accusing': 1, 'lungs': 1, 'devils:': 1, 'apulina': 1, 'including': 1, 'bouquet': 1, 'earrings': 1, 'hilton': 1, \"city's\": 1, 'society_matron:': 1, 'remote': 1, 'sharity': 1, 'aristotle:': 1, 'weep': 1, 'mamma': 1, 'flush-town': 1, 'population': 1, 'nonchalant': 1, 'ninety-eight': 1, 'outstanding': 1, 'flush': 1, 'jacks': 1, 'multi-national': 1, 'manipulation': 1, 'macho': 1, 'undermine': 1, 'affects': 1, 'majority': 1, 'shareholder': 1, 'inherent': 1, 'legal': 1, 'liability': 1, 'malfeasance': 1, 'result': 1, 'deny': 1, 'showed': 1, 'louse': 1, 'jogging': 1, 'intruding': 1, 'sending': 1, 'swooning': 1, 'odor': 1, 'eaters': 1, 'beanbag': 1, 'temple': 1, 'doom': 1, 'gentle': 1, 'nightmares': 1, 'orders': 1, 'contemptuous': 1, 'chateau': 1, 'latour': 1, 'eighteen': 1, 'eighty-six': 1, 'initially': 1, \"collector's\": 1, 'bidet': 1, 'ladder': 1, 'fountain': 1, 'in-in-in': 1, 'chipped': 1, 'nail': 1, 'sticking': 1, 'poke': 1, 'bachelor': 1, 'peaked': 1, 'and/or': 1, 'buddies': 1, 'chug-a-lug': 1, 'a-lug': 1, 'disposal': 1, 'boisterous': 1, 'exciting': 1, 'photographer': 1, 'van': 1, 'notch': 1, 'wiggle': 1, 'friction': 1, 'killjoy': 1, 'wussy': 1, 'grinch': 1, 'consoling': 1, 'picked': 1, 'zoomed': 1, 'junebug': 1, 'windshield': 1, \"secret's\": 1, 'bail': 1, \"bringin'\": 1, 'easily': 1, 'sobriety': 1, 'urge': 1, 'sponsor': 1, 'white_rabbit:': 1, 'lorre': 1, 'warmth': 1, 'penmanship': 1, 'sucks': 1, 'anyhoo': 1, 'cyrano': 1, 'americans': 1, 'permanent': 1, 'visas': 1, 'dutch': 1, \"leavin'\": 1, \"president's\": 1, 'rebuttal': 1, 'mull': 1, 'mugs': 1, \"thinkin'\": 1, 'symphonies': 1, 'fuhgetaboutit': 1, 'filth': 1, 'oughta': 1, 'hideous': 1, 'frankie': 1, 'fella': 1, 'dads': 1, 'malted': 1, 'tooth': 1, 'blinded': 1, \"soundin'\": 1, 'thorough': 1, 'winks': 1, 'infestation': 1, 'sanitary': 1, 'utensils': 1, 'hygienically': 1, 'stored': 1, 'parked': 1, 'hydrant': 1, 'exhale': 1, 'whaddya': 1, 'hunky': 1, 'dory': 1, 'rife': 1, 'starters': 1, 'predecessor': 1, 'trash': 1, 'wednesday': 1, 'chicken': 1, 'skins': 1, 'dispenser': 1, 'john': 1, 'danny': 1, 'mountain': 1, \"summer's\": 1, 'falling': 1, 'bide': 1, 'tribute': 1, 'e': 1, 'acceptance': 1, 'hafta': 1, 'reopen': 1, 'crestfallen': 1, 'nor': 1, 'pen': 1, 'parrot': 1, 'brief': 1, 'contact': 1, 'blocked': 1, 'protecting': 1, 'investment': 1, 'cigars': 1, 'microwave': 1, 'beans': 1, 'stupidly': 1, 'jerk-ass': 1, 'doy': 1, 'cheerier': 1, 'darkness': 1, 'tactful': 1, 'remodel': 1, \"changin'\": 1, 'susie-q': 1, 'face-macer': 1, 'guff': 1, 'grub': 1, 'proper': 1, 'old-time': 1, 'whaaa': 1, 'britannia': 1, 'meatpies': 1, 'lager': 1, 'classy': 1, 'asses': 1, 'so-ng': 1, 'arm-pittish': 1, \"renovatin'\": 1, 'drapes': 1, \"idea's\": 1, 'lindsay': 1, 'naegle': 1, 'mis-statement': 1, 'allow': 1, 'credit': 1, 'bumpy-like': 1, 'counterfeit': 1, 'moe-clone': 1, 'socialize': 1, 'e-z': 1, 'oopsie': 1, \"enjoyin'\": 1, 'adult': 1, 'tickets': 1, \"santa's\": 1, 'sleigh-horses': 1, 'sells': 1, 'impress': 1, \"liftin'\": 1, 'dumbbell': 1, 'forty-nine': 1, 'ninety-nine': 1, \"lefty's\": 1, 'victim': 1, 'hustle': 1, \"breakin'\": 1, 'nerd': 1, 'sugar-free': 1, 'flat': 1, 'buds': 1, 'goldarnit': 1, 'life-partner': 1, 'whup': 1, 'yee-ha': 1, 'gol-dangit': 1, \"dimwit's\": 1, 'kazoo': 1, 'head-gunk': 1, 'hears': 1, 'cocking': 1, 'texan': 1, 're-al': 1, 'moe-heads': 1, 'polls': 1, 'negative': 1, 'ads': 1, 'hurting': 1, 'homeless': 1, 'bum:': 1, 'annual': 1, 'w-a-3-q-i-zed': 1, 'mason': 1, 'arrived': 1, \"rentin'\": 1, 'las': 1, 'nevada': 1, 'stingy': 1, 'rat-like': 1, 'sued': 1, 'settlement': 1, 'partially': 1, 'risqué': 1, 'plane': 1, 'soul-crushing': 1, 'blackjack': 1, 'nelson_muntz:': 1, 'nelson': 1, 'pair': 1, 'paints': 1, 'noggin': 1, 'meanwhile': 1, \"yieldin'\": 1, 'moe_recording:': 1, 'ew': 1, 'considering:': 1, \"table's\": 1, 'wobbly': 1, 'jam': 1, 'ford': 1, 'captain': 1, 'kirk': 1, 'five-fifteen': 1, 'eternity': 1, 'fortune': 1, 'fica': 1, 'helping': 1, 'steamed': 1, 'cappuccino': 1, '-ry': 1, 'otherwise': 1, 'neighbors': 1, 'wife-swapping': 1, 'strolled': 1, 'donation': 1, 'lewis': 1, 'notorious': 1, 'idealistic': 1, 'law-abiding': 1, 'archaeologist': 1, 'excavating': 1, 'mayan': 1, 'pyramid': 1, 'unearth': 1, 'pre-columbian': 1, 'donate': 1, 'statues': 1, 'handed': 1, 'dilemma': 1, 'edner': 1, \"playin'\": 1, 'coin': 1, 'poorer': 1, 'worldly': 1, 'possessions': 1, \"'ceptin'\": 1, 'nucular': 1, 'obsessive-compulsive': 1, 'powered': 1, 'non-american': 1, \"tv's\": 1, 'misfire': 1, 'prolonged': 1, 'playoff': 1, \"hobo's\": 1, 'owes': 1, 'fist': 1, \"puttin'\": 1, 'screws': 1, \"tony's\": 1, 'all-all-all': 1, 'stars': 1, 'firing': 1, 'pure': 1, 'polish': 1, 'heck': 1, \"challengin'\": 1, 'sudoku': 1, 'puzzle': 1, 'numeral': 1, 'repeated': 1, 'column': 1, 'salvation': 1, 'cocks': 1, 'stripes': 1, 'repay': 1, 'colonel:': 1, 'fishing': 1, \"listenin'\": 1, 'bursts': 1, 'published': 1, 'author': 1, 'earlier': 1, 'newly-published': 1, 'snail': 1, 'trail': 1, 'name:': 1, 'bonfire': 1, 'vanities': 1, 'coined': 1, 'phrase': 1, 'radical': 1, 'chic': 1, \"squeezin'\": 1, \"'roids\": 1, 'vermont': 1, 'thrilled': 1, \"wouldn't-a\": 1, 'outlive': 1, 'wizard': 1, 'upn': 1, 'assert': 1, 'herself': 1, 'backbone': 1, 'notices': 1, 'unlocked': 1, 'beeps': 1, 'declan': 1, 'fruit': 1, 'oddest': 1, 'thing:': 1, 'affection': 1, 'knuckle-dragging': 1, 'sub-monkeys': 1, \"sippin'\": 1, 'cuckoo': 1, 'de-scramble': 1, 'scrutinizing': 1, 'shoe': 1, 'inserts': 1, \"writin'\": 1, 'creepy': 1, 'kills': 1, 'title:': 1, 'pontiff': 1, 'gargoyles': 1, 'good-looking': 1, 'open-casket': 1, 'material': 1, 'sour': 1, 'paparazzo': 1, 'joy': 1, 'robin': 1, 'williams': 1, 'bits': 1, 'co-sign': 1, 'photos': 1, 'turlet': 1, 'attractive_woman_#1:': 1, 'attractive_woman_#2:': 1, 'trade': 1, 'bras': 1, 'panties': 1, 'volunteer': 1, 'assume': 1, 'dentist': 1, 'mary': 1, \"school's\": 1, 'bake': 1, \"betsy'll\": 1, 'runs': 1, 'depending': 1, 'strips': 1, 'eggshell': 1, 'malabar': 1, 'ivory': 1, 'mediterranean': 1, 'ecru': 1, 'tow': 1, 'lobster-politans': 1, 'smelling': 1, 'one-hour': 1, 'zone': 1, 'correction': 1, 'lobster-based': 1, 'designer': 1, 'laughter': 1, 'unhook': 1, 'moving': 1, 'tow-talitarian': 1, 'totalitarians': 1, 'stalin': 1, 'forced': 1, 'labor': 1, 'insensitive': 1, 'winch': 1, 'enforced': 1, 'fatty': 1, 'ralph': 1, 'ralphie': 1, 'tow-joes': 1, 'territorial': 1, \"family's\": 1, 'remembers': 1, 'process': 1, 'splash': 1, 'jaegermeister': 1, 'add': 1, 'sloe': 1, 'triple-sec': 1, 'quadruple-sec': 1, 'gunk': 1, \"dog's\": 1, 'absolut': 1, 'stripe': 1, 'aquafresh': 1, 'funniest': 1, 'venom': 1, 'louisiana': 1, 'loboto-moth': 1, 'sweetie': 1, 'pregnancy': 1, 'presto:': 1, 'ultimate': 1, 'bleacher': 1, 'menace': 1, 'swig': 1, 'wipes': 1, 'entering': 1, 'forget-me-drinks': 1, 'rickles': 1, 'arabs': 1, 'gibson': 1, 'mexicans': 1, 'grammys': 1, 'hispanic_crowd:': 1, 'jeers': 1, 'sternly': 1, 'disturbance': 1, 'filed': 1, 'infor': 1, 'ripper': 1, 'doppler': 1, \"queen's\": 1, 'surgeonnn': 1, 'piling': 1, 'unkempt': 1, 'attractive': 1, 'spits': 1, 'bottoms': 1, 'retain': 1, 'misconstrue': 1, \"cuckold's\": 1, 'horns': 1, 'moon-bounce': 1, 'amiable': 1, 'newsies': 1, 'scruffy_blogger:': 1, 'access': 1, 'politicians': 1, 'issues': 1, 'declare': 1, 'frontrunner': 1, 'mansions': 1, 'abolish': 1, 'democracy': 1, 'dictator': 1, 'juan': 1, 'perón': 1, 'madonna': 1, 'dennis': 1, 'kucinich': 1, 'twerpy': 1, 'unbelievably': 1, 'manuel': 1, 'fake': 1, 'moustache': 1, 'ees': 1, 'mild': 1, 'backing': 1, 'reminded': 1, 'quarry': 1, 'stones': 1, 'woodchucks': 1, 'mailbox': 1, 'cell': 1, 'butter': 1, 'tasty': 1, 'almond': 1, 'listens': 1, 'compromise:': 1, 'luckiest': 1, 'remaining': 1, 'scratcher': 1, 'kick-ass': 1, 'shush': 1, 'propose': 1, 'willing': 1, 'halvsies': 1, 'lugs': 1, 'splendid': 1, 'weather': 1, 'way:': 1, 'tying': 1, 'crippling': 1, 'refinanced': 1, 'twenty-six': 1, 'cowboy': 1, 'encouraged': 1, 'half-day': 1, 'encouraging': 1, 'widow': 1, 'option': 1, 'pep': 1, 'squad': 1, 'cheered': 1, 'runners': 1, 'ninety-seven': 1, 'break-up': 1, 'cheated': 1, 'showered': 1, 'soaps': 1, 'massage': 1, 'oils': 1, 'maiden': 1, 'nicer': 1, \"she'll\": 1, 'parenting': 1, 'childless': 1, 'goodwill': 1, 'attached': 1, 'direction': 1, \"mecca's\": 1, \"don'tcha\": 1, 'oughtta': 1, 'dint': 1, \"son's\": 1, \"bashir's\": 1, 'derek': 1, 'jeter': 1, 'mariah': 1, 'carey': 1, 'muslim': 1, 'espousing': 1, 'view': 1, 'fbi_agent:': 1, 'fayed': 1, 'statue': 1, \"liberty's\": 1, 'principles': 1, 'discriminate': 1, 'employment': 1, 'housing': 1, 'patriotic': 1, 'bauer': 1, 'sanctuary': 1, 'super-tough': 1, 'africanized': 1, 'honeys': 1, 'environment': 1, 'dna': 1, 'strains': 1, 'species': 1, 'protesting': 1, 'inclination': 1, 'anonymous': 1, 'partners': 1, 'privacy': 1, 'buzziness': 1, 'connor-politan': 1, 'oh-so-sophisticated': 1, 'connor': 1, 'kidneys': 1, 'guilt': 1, 'haircuts': 1, 'graves': 1, 'dig': 1, 'ballot': 1, 'gore': 1, 'presidential': 1, 'stolen': 1, 'falsetto': 1, 'albert': 1, 'landlord': 1, 'and-and': 1, 'getaway': 1, 'flanders:': 1, 'expose': 1, 'dateline': 1, 'nominated': 1, 'peabody': 1, 'exclusive:': 1, 'forty-two': 1, 'evergreen': 1, 'terrace': 1, 'suburban': 1, 'actress': 1, 'billiard': 1, \"spiffin'\": 1, 'inquiries': 1, 'enabling': 1, 'mags': 1, 'taught': 1, 'abcs': 1, 'a-b-': 1, 'forgets': 1, 'p-k': 1, \"s'pose\": 1, \"cleanin'\": 1, 'month': 1, \"she'd\": 1, 'stood': 1, 'regretful': 1, 'term': 1, 'tidy': 1, 'benjamin': 1, 'life-sized': 1, 'legoland': 1, \"stealin'\": 1, 'chinese_restaurateur:': 1, 'espn': 1, 'ling': 1, 'chow': 1, 'passenger': 1, 'incredible': 1, 'thought_bubble_lenny:': 1, \"somethin':\": 1, 'generally': 1, 'limericks': 1, 'coast': 1, 'massachusetts': 1, 'nantucket': 1, 'unusual': 1, 'personal': 1, 'characteristic': 1, 'simplest': 1, 'a-a-b-b-a': 1, 'dumbass': 1, 'whistling': 1, 'nonchalantly': 1, 'chained': 1, 'tomato': 1, 'tomahto': 1, 'comedies': 1, 'reckless': 1, 'gesture': 1, 'blows': 1, 'sidelines': 1, \"who'da\": 1, 'chapter': 1, 'insults': 1, 'disguised': 1, 'suspenders': 1, 'circus': 1, 'clown-like': 1, 'insecure': 1, 'envy-tations': 1, 'hate-hugs': 1, 'spamming': 1, 'faint': 1, 'praise': 1, 'frozen': 1, 'toledo': 1, 'take-back': 1, \"people's\": 1, 'eager': 1, 'happily:': 1, 'community': 1, 'playhouse': 1, 'bathed': 1, 'glowers': 1, 'sticking-place': 1, 'fail': 1, 'x-men': 1, '2': 1, 'macbeth': 1, 'mac-who': 1, 'gulliver_dark:': 1, 'bedridden': 1, 'unable': 1, 'toe': 1, 'paintings': 1, 'melodramatic': 1, 'nonsense': 1, 'training': 1, 'bleeding': 1, \"murphy's\": 1, \"pressure's\": 1, 'bon-bons': 1, 'declared': 1, 'microbrew': 1, 'cobra': 1, 'solves': 1, 'cupid': 1, 'unattended': 1, 'fl': 1, 'ventriloquism': 1, 'approval': 1, 'cure': 1, 'ails': 1, 'cuddling': 1, 'steaming': 1, 'cocoa': 1, 'rainbows': 1, 'surprised/thrilled': 1, 'full-bodied': 1, 'full-blooded': 1, 'harmony': 1, 'loyal': 1, 'hemoglobin': 1, \"disrobin'\": 1, 'rosey': 1, 'bubbles-in-my-nose-y': 1, \"mo'\": 1, 'musical': 1, 'kodos:': 1, 'measure': 1, 'distance': 1, 'unrelated': 1, 'seductive': 1, 'cologne': 1, 'shaved': 1, 'knuckles': 1, 'shakes': 1, 'handwriting': 1, 'idioms': 1, 'midge:': 1, 'gayer': 1, 'occurred': 1, 'timbuk-tee': 1, 'fast-paced': 1, 'nibble': 1, 'teriyaki': 1, 'frenchman': 1, 'spoon': 1, 'duke': 1, 'amnesia': 1, 'missing': 1, 'squeeze': 1, 'irishman': 1, 'pretends': 1, \"o'reilly\": 1, 'radiator': 1, 'rebuilt': 1, 'briefly': 1, 'uncreeped-out': 1, 'mines': 1, 'taste': 1, 'romance': 1, 'perverse': 1, 'hearse': 1, 'civil': 1, 'nurse': 1, 'proof': 1, 'simultaneous': 1, 'i/you': 1, 'finale': 1, 'indicates': 1, 'half-beer': 1, 'enjoyed': 1, 'halloween': 1, 'treehouse': 1, 'horror': 1, 'xx': 1, 'shhh': 1, 'habitrail': 1, 'donuts': 1, 'meals': 1, 'philosophical': 1, 'southern': 1, 'indeed': 1, 'gator': 1, 'mccall': 1, 'recruiter': 1, 'specializes': 1, 'headhunters': 1, 'valuable': 1, 'protesters': 1, 'marched': 1, 'plants': 1, 'radiation': 1, \"poisonin'\": 1, 'passports': 1, 'loafers': 1, 'hooray': 1, 'nap': 1, 'awake': 1, 'meteor': 1, 'flexible': 1, 'marshmallow': 1, 'dumbest': 1, \"stabbin'\": 1, 'humanity': 1, 'mocking': 1, 'official': 1, 'releasing': 1, 'hounds': 1, 'releases': 1, 'wolverines': 1, 'horses': 1, \"eatin'\": 1, 'wish-meat': 1, 'bust': 1, 'exchanged': 1, 'whispered': 1, 'huddle': 1, 'nursemaid': 1, \"elmo's\": 1, 'reunion': 1, 'andrew': 1, 'mccarthy': 1, 'attend': 1, 'lied': 1, 'itchy': 1, 'planted': 1, 'chair': 1, 'refill': 1, 'cozies': 1, 'sassy': 1, 'cushions': 1, 'cushion': 1, 'flash': 1, 'drives': 1, 'data': 1, 'hammy': 1, 'estranged': 1, \"tomorrow's\": 1, 'forecast': 1, 'cloudy': 1, 'sunny': 1, 'guessing': 1, 'thunder': 1, 'storms': 1, 'exultant': 1, 'ahem': 1, 'wagering': 1, 'installed': 1, \"america's\": 1, \"blowin'\": 1, 'homeland': 1, 'mm-hmm': 1, 'tsking': 1, 'presided': 1, 'suave': 1, 'debonair': 1, 'offa': 1, \"narratin'\": 1, 'cricket': 1, 'uniforms': 1, 'rain': 1, \"'pu\": 1, 'she-pu': 1, 'everyday': 1, 'mimes': 1, 'saving': 1, 'gheet': 1, 'darjeeling': 1, 'limited': 1, 'low-blow': 1, 'boxer:': 1, 'pre-recorded': 1, 'rug': 1, \"mother's\": 1, 'panicked': 1, 'carny:': 1, 'teacup': 1, 'whispers': 1, 'rutabaga': 1, 'putty': 1, 'innocuous': 1, 'flashbacks': 1, 'ferry': 1, 'pointedly': 1, 'lovejoy': 1, 'ralph_wiggum:': 1, 'popping': 1, 'man_with_crazy_beard:': 1, 'outrageous': 1, 'beard': 1, 'expense': 1, 'beards': 1, \"askin'\": 1, 'scatter': 1, 'cockroaches': 1, 'rip': 1, 'stretch': 1, 'tee': 1, 'california': 1, 'judgments': 1, 'legally': 1, 'side:': 1, 'murdoch': 1, 'rupert_murdoch:': 1, 'jay': 1, 'leno': 1, 'jay_leno:': 1, 'iran': 1, 'weapon': 1, 'rig': 1, 'leak': 1, 'disappear': 1, 'nbc': 1, 'howya': 1, 'button-pusher': 1, 'obama': 1, 'booth': 1, 'cliff': 1, 'lee': 1, 'zack': 1, 'grenky': 1, 'completely': 1, 'colossal': 1, 'exception:': 1, 'inning': 1, 'domed': 1, 'bunion': 1, 'notably': 1, 'ineffective': 1, 'portentous': 1, 'dexterous': 1, 'understood': 1, 'poin-dexterous': 1, 'laid': 1, 'key': 1, 'developed': 1, 'statistician': 1, 'bill_james:': 1, 'taxes': 1, 'eight-year-old': 1, 'ballclub': 1, 'sagacity': 1, 'stengel': 1, 'single-mindedness': 1, 'steinbrenner': 1, 'stein-stengel-': 1, 'stats': 1, 'ratio': 1, 'occupied': 1, 'sobo': 1, 'conversion': 1, 'factor': 1, 'refreshingness': 1, 'effervescence': 1, 'benjamin:': 1, 'minus': 1, 'rueful': 1, 'advertise': 1, 'specials': 1, 'scientific': 1, 'annus': 1, 'horribilis': 1, 'resolution': 1, 'fixes': 1, 'courthouse': 1, 'compare': 1, 'exquisite': 1, 'reward': 1, 'planned': 1, 'addiction': 1, 'compels': 1, 'executive': 1, 'average-looking': 1, '_burns_heads:': 1, 'hangout': 1, 'offense': 1, 'whatchamacallit': 1, 'swishkabobs': 1, \"grandmother's\": 1, 'urinal': 1, \"getting'\": 1, 'renovations': 1, \"friend's\": 1, 'lainie:': 1, 'carlotta:': 1, 'jägermeister': 1, 'pink': 1, 'lemonade': 1, 'strawberry': 1, 'chapstick': 1, \"cupid's\": 1, 'wazoo': 1, 'drains': 1, 'scram': 1, 'crinkly': 1, 'eva': 1, 'braun:': 1, \"man's_voice:\": 1, 'huhza': 1, '3': 1, 'whoopi': 1, 'seminar': 1, 'motor': 1, 'lodge': 1, 'tornado': 1, 'kissingher': 1, 'earth': 1, 'casting': 1, 'pall': 1, 'serum': 1, 'walther': 1, 'hotenhoffer': 1, 'pharmaceutical': 1, 'occupation': 1, 'renders': 1, 'tolerable': 1, 'normals': 1, 'irrelevant': 1, 'elaborate': 1, 'extract': 1, 'synthesize': 1, 'scrutinizes': 1, 'grease': 1, 'germans': 1, 'when-i-get-a-hold-of-you': 1, 'dammit': 1, 'typed': 1, 'rapidly': 1, 'donated': 1, 'haiti': 1, \"y'see\": 1, 'pushes': 1, 'strangles': 1, 'sue': 1, 'hollowed-out': 1, 'contented': 1, 'phony': 1, 'grin': 1, 'plastered': 1, 'freaky': 1, 'slipped': 1, 'mickey': 1, 'churchy': 1, 'brainheaded': 1, 'fence': 1, 'sheet': 1, 'wistful': 1, 'prayers': 1, 'choked': 1, 'iddilies': 1, 'diddilies': 1, 'christian': 1, 'wuss': 1, 'confession': 1, 'make:': 1, 'solely': 1, 'noble': 1, 'intention': 1, 'two-thirds-empty': 1, 'poetry': 1, 'multi-purpose': 1, 'email': 1, 'edna-lover-one-seventy-two': 1, 'lowest': 1, \"edna's\": 1, 'drummer': 1, 'gulps': 1, 'plucked': 1, 'wikipedia': 1, 'frankenstein': 1, 'neighboreeno': 1, 'plain': 1, 'bagged': 1, 'tiger': 1, 'prompting': 1, 'sen': 1, 'cesss': 1, 'surprising': 1, 'entrance': 1, 'jewelry': 1, 'pronto': 1, 'drawer': 1, \"linin'\": 1, 'presidents': 1, 'upgrade': 1, 'commanding': 1, 'appropriate': 1, 'reaction': 1, 'sooo': 1, 'fresco': 1, \"speakin'\": 1, 'farthest': 1, 'drove': 1, 'roz': 1, 'ditched': 1, 'lady-free': 1, 'eighty-three': 1, 'souvenir': 1, 'sizes': 1, 'hare-brained': 1, 'schemes': 1, 'pillows': 1, 'adopted': 1, 'capuchin': 1, 'bonding': 1, 'phase': 1, 'safecracker': 1, 'caper': 1, 'fantasy': 1, 'novel': 1, 'brag': 1, 'publish': 1, 'modestly': 1, 'lucinda': 1, 'placed': 1, 'fifth': 1, 'shard': 1, 'stained-glass': 1, 'read:': 1, \"'your\": 1, 'parents': 1, \"'\": 1, 'gregor': 1, 'understood:': 1, 'journey': 1, 'reader': 1, 'selection': 1, 'steampunk': 1, 'frink-y': 1, 'mock-up': 1, 'title': 1, 'tuna': 1, 'itself': 1, 'kansas': 1, 'golden': 1, 'literary': 1, 'lis': 1, 'milhouses': 1, 'jacksons': 1, 'xanders': 1, 'aidens': 1, 'dreamy': 1, 'aiden': 1, 'vampire': 1, 'transylvania': 1, 'prep': 1, 'brooklyn': 1, 'fuzzlepitch': 1, 'bloodball': 1, 'lame': 1, 'publishers': 1, 'sistine': 1, 'chapel': 1, 'mural': 1, 'hems': 1, 'haws': 1, 'watched': 1, 'bluff': 1, 'conversations': 1, 'annie': 1, 'meaning': 1, 'brain-switching': 1, 'ceremony': 1, 'sleeping': 1, 'switched': 1, 'dashes': 1, 'lennyy': 1, 'sheets': 1, 'wind': 1, 'dignified': 1, 'stumble': 1, 'typing': 1, 'lead': 1, 'pledge': 1, 'allegiance': 1, 'conclude': 1, 'thanking': 1, 'hosting': 1, 'fumigated': 1, 'er': 1, 'adjourned': 1, 'convenient': 1, 'sangre': 1, 'de': 1, 'los': 1, 'muertos': 1, 'friend:': 1, 'mexican': 1, 'mexican_duffman:': 1, 'ho-la': 1, 'pepto-bismol': 1, 'facebook': 1, 'scrubbing': 1, 'hardy': 1, 'unhappy': 1, 'taxi': 1, 'wears': 1, 'nemo': 1, 'brace': 1, 'lear': 1, 'be-stainèd': 1, 'swatch': 1, 'gentles': 1, 'begin': 1, 'medieval': 1, 'self-satisfied': 1, 'tapestry': 1, 'sponge:': 1, 'gutenberg': 1, 'bartholomé:': 1, 'overstressed': 1, 'helps': 1, 'recap:': 1, 'unjustly': 1, 'lofty': 1, 'perch': 1, 'wound': 1, 'barter': 1, 'persia': 1, 'raggie': 1, 'continued': 1, 'enterprising': 1, 'seamstress': 1, 'fledgling': 1, 'thousand-year': 1, 'grace': 1, 'predictable': 1, 'startled': 1, 'sensitivity': 1, 'jobless': 1, 'washouts': 1, 'error': 1, 'blamed': 1, 'rent': 1, 'pizzicato': 1, 'buyer': 1, 'specified': 1, 'stepped': 1, 'done:': 1, 'arguing': 1, 'guts': 1, 'rationalizing': 1, 'pack': 1, 'adjust': 1, 'runaway': 1, 'monorails': 1, 'nascar': 1, 'gordon': 1, 'jeff_gordon:': 1, \"plank's\": 1, 'land': 1, 'traitors': 1, 'lou': 1, 'eliminate': 1, 'bulldozing': 1, 'tire': 1, 'sinkhole': 1, 'administration': 1, 'solved': 1, 'fears': 1, 'most:': 1, \"s'okay\": 1, 'nuked': 1, 'swimmers': 1, 'shame': 1, 'wrap': 1, 'plums': 1, 'tin': 1, 'philosophic': 1, 'samples': 1, 'shelbyville': 1, 'sperm': 1, 'necklace': 1, 'eww': 1, 'fund': 1, 'lend': 1, 'sesame': 1, 'frogs': 1, 'settles': 1, 'woe:': 1, 'gamble': 1, \"daughter's\": 1, 'fdic': 1, 'grubby': 1, 'site': 1, 'onion': 1, 'rings': 1, 'badmouth': 1, 'country': 1, 'prettiest': 1, \"aristotle's\": 1, 'poetics': 1, 'rice': 1, 'promotion': 1, 'poured': 1, 'hooky': 1, 'throats': 1, 'grind': 1, 'crunch': 1, 'nature': 1, 'dipping': 1, 'edge': 1, 'groveling': 1, 'brown': 1, 'wiggle-frowns': 1, 'abusive': 1, 'tolerance': 1, 'dejected_barfly:': 1, 'slurred': 1, 'hammock': 1, 'bleak': 1, 'icy': 1, 'chill': 1, 'dropping': 1, 'janette': 1, 'cheryl': 1, 'rotten': 1, 'pretend': 1, 'improv': 1, 'imaginary': 1, 'chip': 1, 'ends': 1, 'skydiving': 1, \"pullin'\": 1, 'app': 1, 'random': 1, 'occurrence': 1, 'squeezed': 1, 'sap': 1, \"choosin'\": 1, 'adequate': 1, 'carnival': 1, 'miracle': 1, \"tree's\": 1, 'disillusioned': 1, 'reporter': 1, 'kenny': 1, 'brockelstein': 1, 'investigating': 1, 'cartoons': 1, 'thirty-three': 1, 'short_man:': 1, 'gruff': 1, 'rancid': 1, 'innocence': 1, 'man_with_tree_hat:': 1, 'hoax': 1, 'tree_hoper:': 1, 'crappy': 1, 'pretentious_rat_lover:': 1, 'manchego': 1, 'aziz': 1, 'lurks': 1, 'racially-diverse': 1, 'network': 1, 'experienced': 1, 'acronyms': 1, 'kinderhook': 1, 'collapse': 1, 'rome': 1, 'inexorable': 1, 'march': 1, 'progress': 1, '_eugene_blatz:': 1, 'slaves': 1, 'supermarket': 1, 'starve': 1, 'unsourced': 1, 'undated': 1, 'convinced': 1, 'beyond': 1, 'suspended': 1, 'voodoo': 1, 'curse': 1, 'gestated': 1, 'popped': 1, 'acquitted': 1, 'nightmare': 1, 'in-ground': 1, 'shades': 1, 'grey': 1, 'what-for': 1, 'fiction': 1, 'sheriff': 1, 'kissed': 1, 'said:': 1, 'imitating': 1, 'griffith': 1, \"'now\": 1, 'aunt': 1, 'asks': 1, \"fishin'\": 1, \"hole'\": 1, 'argue': 1, 'stirrers': 1, 'holy': 1, 'faiths': 1, 'easy-going': 1, 'offshoot': 1, 'protestantism': 1, 'handler': 1, \"thing's\": 1, 'rims': 1, 'ribbon': 1, 'cherry': 1, 'blurbs': 1, 'sedaris': 1, 'flack': 1, 'pews': 1, 'catholic': 1, 'sexton': 1, 'rector': 1, 'whim': 1, \"nothin's\": 1, 'mid-conversation': 1, 'padres': 1, 'tigers': 1, 'polygon': 1, 'hexa-': 1, 'octa-': 1, 'decide:': 1, 'loudly': 1, \"beggin'\": 1, 'legend': 1, 'buzz': 1, 'recorded': 1, 'options': 1, 'carefully': 1, 'committing': 1, 'press': 1, 'life-extension': 1, 'male_singers:': 1, 'painless': 1, 'brings': 1, 'delays': 1, 'ron': 1, 'moe-ron': 1, 'libraries': 1, 'newspaper': 1, 'rods': 1, 'compressions': 1, 'gees': 1, 'singing/pushing': 1, \"stayin'\": 1, 'living': 1, 'fools': 1, 'lease': 1, 'post-suicide': 1, 'afterglow': 1, 'shorter': 1, 'applesauce': 1, 'leaving': 1, 'choked-up': 1, 'passes': 1, 'reentering': 1, 'noosey': 1, 'noose': 1, 'worldview': 1, 'cleaning': 1, 'growing': 1, 'carpet': 1, 'layer': 1, 'congoleum': 1, 'hardwood': 1, 'jig': 1, 'improved': 1, 'non-losers': 1, 'getcha': 1, 'aged': 1, 'venture': 1, 'capitalists': 1, 'mostly': 1, 'kentucky': 1, 'kool': 1, 'aid': 1, 'fantastic': 1, 'startup': 1, 'branding': 1, 'specialists': 1, 'touch': 1, 'rafter': 1, 'comforting': 1, 'holidays': 1, 'expensive': 1, 'beer:': 1, 'platinum': 1, 'paste': 1, 'hairs': 1, 'youth': 1, 'babar': 1, 'confidential': 1, 'cousin': 1, 'celeste': 1, 'takeaway': 1, 'royal': 1, 'trainers': 1, 'average': 1, 'schmoe': 1, \"can't-believe-how-bald-he-is\": 1, 'science': 1, 'exhibit': 1, 'hunger': 1, \"games'd\": 1, 'womb': 1, 'life:': 1, 'ninety-six': 1, \"number's\": 1, 'winning': 1, 'celebrate': 1, \"ragin'\": 1, 'mini-dumpsters': 1, 'gasoline': 1, 'build': 1, 'swimming': 1, 'freaking': 1, \"cashin'\": 1, 'safety': 1, 'ripped': 1, 'tense': 1, 'voicemail': 1, 'offensive': 1, 'sickened': 1, 'moolah-stealing': 1, 'jackpot-thief': 1, \"something's\": 1, 'reflected': 1, 'lenses': 1, 'sunglasses': 1, 'geyser': 1, 'strokkur': 1, 'geysir': 1, 'minors': 1, 'fat_in_the_hat:': 1, 'pawed': 1, 'skunk': 1, 'furry': 1, 'knit': 1, 'thnord': 1, 'leathery': 1, 'hidden': 1, 'selfish': 1, 'radioactive': 1, 'hellhole': 1, 'superpower': 1, 'whoa-ho': 1, 'looooooooooooooooooong': 1, 'experience': 1, 'schedule': 1, 'hers': 1, 'ideas': 1, 'divorced': 1, 's-a-u-r-c-e': 1, 'touches': 1, 'earpiece': 1, 'senators:': 1, 'abercrombie': 1, 'billingsley': 1, 'beaumont': 1, \"plaster's\": 1, 'flaking': 1, 'lay': 1, \"stallin'\": 1, 'groans': 1, 'squeals': 1, 'liser': 1, 'cletus_spuckler:': 1, 'conditioning': 1, 'barkeeps': 1, 'gin-slingers': 1, 'beer-jerks': 1, 'compete': 1, 'stores': 1, 'hooch': 1, 'cap': 1, 'masks': 1, 'uninhibited': 1, 'invulnerable': 1, 'shuts': 1, 'nick': 1, 'fury': 1, 'batmobile': 1, 'wolveriskey': 1, \"'ere\": 1, 'portfolium': 1, \"boy's\": 1, 'knock-up': 1, 'powers': 1, 'created': 1, 'virility': 1, 'virile': 1, \"brady's\": 1, 'libido': 1, 'rocks': 1, 'sets': 1, 'legs:': 1, 'kidnaps': 1, 'grateful': 1, \"must've\": 1, 'corn': 1, 'eighty-five': 1, 'goal': 1, 'nfl_narrator:': 1, 'breathtaking': 1, 'ignorance': 1, 'dislike': 1, 'rookie': 1, 'housewife': 1, 'savvy': 1, 'veteran': 1, \"tv'll\": 1, \"yesterday's\": 1, 'whatsit': 1, 'lifestyle': 1, 'contract': 1, 'fast-food': 1, 'hibachi': 1, \"how're\": 1, 'transfer': 1, 'hyper-credits': 1, 'ding-a-ding-ding-ding-ding-ding-ding': 1, 'ding-a-ding-ding-a-ding-ding': 1, 'blade': 1, 'spender': 1, 'gossipy': 1, 'jukebox_record:': 1, 'robot': 1, 'incapable': 1, 'emotion': 1, 'terrifying': 1, 'quebec': 1, 'nordiques': 1, 'spooky': 1, 'colorado': 1, 'avalanche': 1, \"toot's\": 1, 'verdict': 1, 'overturned': 1, 'sequel': 1, 'neon': 1, 'repairman': 1, 'bolting': 1, 'wrapped': 1, 'shoulders': 1, 'si-lent': 1, 'ho-ly': 1, 'eve': 1, \"startin'\": 1, 'gift:': 1, 'shrieks': 1, 'angrily': 1, 'wenceslas': 1, 'karaoke_machine:': 1, 'doooown': 1, 'weight': 1, 'thirty-nine': 1, \"foolin'\": 1, 'car:': 1, 'habit': 1, 'hateful': 1, 'chubby': 1, 'chunky': 1, 'blobbo': 1, 'slobbo': 1, 'michelin': 1, 'stay-puft': 1, 'chumbawamba': 1, 'balloon': 1, 'papa': 1, 'grandé': 1, 'augustus': 1, 'gloop': 1, 'beached': 1, 'whale': 1, 'boned': 1, 'wisconsin': 1, 'skinny': 1, 'butterball': 1, 'dumptruck': 1, 'jelly': 1, 'pudgy': 1, 'wudgy': 1, 'lard': 1, 'blubberino': 1, 'buddha': 1, 'tubman': 1, 'ton': 1, 'blob': 1, 'saget': 1, 'chub': 1, 'hub': 1, 'calvin': 1, 'manfred': 1, 'manboobs': 1, '21': 1, 'lump': 1, 'fatso': 1, 'harvey': 1, 'obese': 1, 'cannoli': 1, 'mahatma': 1, 'gumbo': 1, 'salvador': 1, 'deli': 1, 'elmer': 1, 'pantry': 1, 'sponge': 1, 'snackie': 1, 'onassis': 1, 'foodie': 1, 'hoagie': 1, 'carmichael': 1, 'load': 1, 'belts': 1, 'homunculus': 1, \"feelin's\": 1, 'goblins': 1, 'pridesters:': 1, 'movement': 1, 'drinking:': 1, 'relaxed': 1, 'apron': 1, 'limber': 1, \"tap-pullin'\": 1, 'hook': 1, 'sideshow': 1, 'laney': 1, 'fontaine': 1, 'vulgar': 1, 'fulla': 1, 'jimmy': 1, 'stewart': 1, 'super-nice': 1, \"can'tcha\": 1, 'items': 1, 'shells': 1, 'lime': 1, \"high-falutin'\": 1, 'theatah': 1, 'exits': 1, 'sight': 1, 'tomatoes': 1, 'bachelorette': 1, 'lady_duff:': 1, 'hearing': 1, 'interesting': 1, 'clubs': 1, \"lovers'\": 1, 'spiritual': 1, 'other_book_club_member:': 1, 'liven': 1, 'charming': 1, 'whaaaa': 1, 'bones': 1, 'dazed': 1, 'bounced': 1, 'sass': 1, 'heaving': 1, \"coaster's\": 1, 'mouths': 1, \"snappin'\": 1, 'ruint': 1, \"i-i'll\": 1, 'savings': 1, 'rubbed': 1, 'defected': 1, 'north': 1, 'korea': 1, 'dae': 1, 'pickles': 1, 'background': 1, 'ummmmmmmmm': 1, 'ehhhhhhhh': 1, 'errrrrrr': 1, 'ehhhhhhhhh': 1, 'ehhhhhh': 1, 'kay': 1, 'apply': 1, 'jerking': 1, 'chunk': 1, 'oak': 1, 'poplar': 1, 'knowledge': 1, 'wood': 1, 'something:': 1, 'elizabeth': 1, 'languages': 1, 'portuguese': 1, 'eu': 1, 'não': 1, 'quero': 1, 'dizer': 1, 'para': 1, 'mostrar': 1, 'je': 1, 'ne': 1, 'veux': 1, 'pas': 1, 'montrer': 1, 'refiero': 1, 'presumir': 1, 'watashi': 1, 'koji': 1, 'suru': 1, 'wakede': 1, 'arimasen': 1, 'majesty': 1, 'notice': 1, 'repressed': 1, 'spelling': 1, 'grammar': 1, 'ze-ro': 1, 'kemi': 1, 'prince': 1, 'trashed': 1, 'happens': 1, 'cruiser': 1, 'answered': 1, 'tank': 1, 'gil_gunderson:': 1, 'mumble': 1, 'conclusions': 1, 'tied': 1, 'jernt': 1, 'elocution': 1, 'pronounce': 1, 'over-pronouncing': 1, 'online': 1, 'pernt': 1, 'tease': 1, 'thrown': 1, 'rom': 1, 'coms': 1, 'wheels': 1, 'witches': 1, \"treatin'\": 1, 'countryman': 1, 'chinua': 1, 'achebe': 1, 'apart': 1, 'ease': 1, 'optimistic': 1, 'amused': 1, 'comment': 1, 'eaten': 1, 'string': 1, 'eats': 1, 'stretches': 1, 'moon': 1, 'dregs': 1, 'bugs': 1, 'mice': 1, 'treats': 1, 'bar:': 1, 'cab': 1, 'waist': 1, 'shyly': 1, 'lifts': 1, 'index': 1, 'examples': 1, 'albeit': 1, 'depressing': 1, 'bedtime': 1, 'premise': 1, \"cheerin'\": 1, 'pine': 1, 'suffering': 1, 'silence': 1, 'rafters': 1, 'badly': 1, 'smiles': 1, 'divine': 1, 'four-star': 1, 'brother-in-law': 1, 'nachos': 1, 'triangle': 1, 'atari': 1, 'oblivious': 1, 'aims': 1, 'dumpster': 1, 'gags': 1, 'psst': 1, 'asleep': 1, 'mellow': 1, 'aghast': 1, 'kirk_voice_milhouse:': 1, 'milks': 1, 'lumpa': 1, 'coal': 1, 'stocking': 1, 'sucking': 1, 'getup': 1, 'part-time': 1, 'selective': 1, 'reaches': 1, 'opens': 1, 'whoops': 1, 'explanation': 1, 'anxious': 1, 'bloodiest': 1, 'thirsty': 1, 'log': 1, 'eddie': 1, 'pretzels': 1, 'peeping': 1, 'toms': 1, 'terrorizing': 1, 'neighborhood': 1, 'scent': 1, 'bobo': 1, 'wieners': 1, 'figures': 1, 'disappointment': 1, 'onto': 1, 'dealt': 1, 'control': 1, 'tremendous': 1, 'tv-station_announcer:': 1, 'this:': 1, 'small_boy:': 1, 'furiously': 1, '_marvin_monroe:': 1, 'monroe': 1, 'gimmicks': 1, 'pills': 1, 'fad': 1, 'diets': 1, 'bliss': 1, '1-800-555-hugs': 1, \"life's\": 1, 'heh-heh': 1, 'runt': 1, 'gut': 1, 'tragedy': 1, 'ohhhh': 1, 'hottest': 1, 'heave-ho': 1, 'dingy': 1, 'flophouse': 1, 'yellow-belly': 1, 'jackass': 1, \"'er\": 1, 'hunka': 1, 'beef': 1, 'contemplates': 1, 'jams': 1, 'yells': 1, 'drunkenly': 1, \"larry's\": 1, 'difference': 1, 'slop': 1, 'hose': 1, 'beings': 1, 'candles': 1, 'tablecloth': 1, 'drift': 1, 'deals': 1, 'capitol': 1, 'curiosity': 1, \"c'mom\": 1, 'employees': 1, 'spouses': 1, 'decision': 1, 'simpsons': 1, 'faced': 1, \"should've\": 1, 'listened': 1, 'bites': 1, 'oooh': 1, \"costume's\": 1, 'ape-like': 1, 'saga': 1, 'riveting': 1, 'humiliation': 1, \"rasputin's\": 1, \"professor's\": 1, 'patented': 1, 'coma': 1, 'show-off': 1, 'muscles': 1, 'engraved': 1, 'richard:': 1, 'audience:': 1, 'ref': 1, 'issuing': 1, 'warning': 1, 'rasputin': 1, 'referee': 1, 'permitting': 1, 'smitty:': 1, 'squabbled': 1, 'washed': 1, 'refreshment': 1, 'trustworthy': 1, 'sharing': 1, 'birthplace': 1, 'roy': 1, 'scum-sucking': 1, 'pus-bucket': 1, 'eyeballs': 1, 'often': 1, 'bull': 1, 'connection': 1, 'lighten': 1, 'ironic': 1, 'snotty': 1, 'sister-in-law': 1, 'picky': 1, 'blur': 1, 'decided': 1, 'happiness': 1, 'pancakes': 1, 'disdainful': 1, 'heals': 1, 'wounds': 1})\n",
      "['||period||', '||return||', '||comma||', '||left_paranthesis||', '||right_paranthesis||', 'the', 'i', 'you', '||exclamation||', 'moe_szyslak:', '||question||', 'a', 'homer_simpson:', 'to', 'and', 'of', 'my', 'it', 'that', 'in', '||quotation||', 'me', 'is', 'this', \"i'm\", 'for', 'your', 'homer', 'on', 'hey', 'moe', 'oh', 'no', 'lenny_leonard:', 'what', 'with', 'yeah', 'all', 'just', 'like', 'but', 'barney_gumble:', 'so', 'be', 'here', 'carl_carlson:', \"don't\", 'have', 'up', \"it's\", 'well', 'out', 'do', 'was', 'got', 'are', 'get', 'we', 'uh', \"that's\", 'one', \"you're\", 'not', 'now', 'can', 'know', '||dash||', 'at', 'right', '/', 'how', 'if', 'back', 'marge_simpson:', 'about', 'he', 'from', 'go', 'gonna', 'there', 'they', 'beer', 'good', 'who', 'an', 'man', 'okay', 'little', 'his', 'as', 'some', \"can't\", 'then', 'never', \"i'll\", 'think', 'come', 'could', 'him', \"i've\", 'see', 'want', 'really', 'look', 'too', 'guys', 'been', 'when', 'make', 'why', 'ya', 'bar', 'her', 'did', 'time', 'say', 'ah', 'or', 'gotta', 'marge', 'take', 'into', 'love', 'down', 'more', 'our', 'am', 'off', 'guy', 'sure', 'barney', 'two', \"there's\", 'thing', 'lisa_simpson:', 'would', \"we're\", 'where', \"he's\", 'had', 'big', 'tell', 'let', 'need', 'money', 'drink', 'bart_simpson:', \"what's\", 'sorry', 'over', 'us', 'something', 'only', 'ever', 'by', 'day', 'will', 'way', 'wait', 'she', 'chief_wiggum:', 'give', 'even', 'huh', 'new', \"i'd\", 'god', \"didn't\", \"ain't\", 'those', 'great', 'people', 'phone', \"moe's\", 'eh', 'has', 'life', 'much', 'maybe', 'lenny', 'were', 'than', 'going', 'mean', 'place', 'these', 'should', 'mr', 'around', \"you've\", 'better', 'wanna', 'still', 'help', 'friend', 'old', 'home', \"'em\", 'name', 'please', 'night', 'before', 'noise', 'last', 'whoa', 'tv', 'aw', 'seymour_skinner:', 'boy', 'face', 'any', 'made', 'hello', 'call', 'thanks', 'duff', 'three', 'drunk', 'put', \"'cause\", 'listen', 'their', 'looking', 'car', 'bad', 'again', 'first', 'very', \"let's\", 'best', 'does', 'wow', 'yes', 'another', 'looks', 'every', 'ooh', 'while', 'them', 'kent_brockman:', 'said', 'work', 'wife', 'other', 'guess', 'apu_nahasapeemapetilon:', 'dad', 'sweet', \"won't\", 'play', 'feel', 'tonight', 'years', 'singing', 'springfield', 'thought', 'sobs', 'everybody', 'find', 'voice', \"they're\", 'after', 'dr', 'things', 'buy', 'kids', 'might', 'check', 'nice', 'keep', 'happy', 'minute', 'girl', 'since', 'head', 'because', 'shut', 'show', 'beat', 'world', 'sighs', 'use', 'bart', \"who's\", 'lisa', 'sings', 'chuckle', 'friends', 'always', \"isn't\", \"you'll\", 'stupid', 'kid', 'c', 'someone', 'krusty_the_clown:', 'ow', 'which', 'carl', 'seen', 'lot', 'remember', 'hundred', 'anything', 'laugh', \"here's\", 'talk', 'job', 'chuckles', 'next', 'glass', 'through', 'hell', 'thank', 'simpson', 'laughs', 'matter', 'pretty', 'five', 'lost', 'house', 'says', 'away', 'hear', 'long', 'outta', 'kind', \"nothin'\", 'hope', 'woman', 'happened', 'believe', 'tavern', 'nervous', 'once', 'four', 'family', 'turn', \"c'mon\", '_montgomery_burns:', 'waylon_smithers:', 'book', 'comes', 'real', 'wish', \"homer's\", 'stop', 'ned_flanders:', 'fat', 'actually', 'business', 'myself', 'idea', 'ask', 'game', 'grampa_simpson:', \"goin'\", 'wants', 'wrong', \"doin'\", 'used', 'loud', 'today', 'party', 'enough', 'nobody', 'burns', \"we've\", 'done', 'problem', 'town', \"comin'\", 'getting', 'many', \"wouldn't\", \"she's\", 'duffman:', 'must', 'everything', 'hold', 'doing', 'free', 'watch', 'sounds', 'try', 'reading', 'dollars', 'na', 'um', 'bucks', 'maggie', 'took', 'true', 'thinking', 'nah', 'gee', 'woo', 'sound', 'sell', 'excuse', 'makes', 'everyone', 'daughter', 'secret', 'stuff', \"where's\", 'chief', 'gimme', 'care', 'wanted', 'leave', 'baby', 'pay', 'under', 'most', 'pants', 'yourself', 'beautiful', 'canyonero', 'being', 'edna', 'kill', 'kemi:', 'pick', 'own', 'mouth', 'pal', 'tough', 'tipsy', 'quickly', 'left', 'worry', 'smithers', 'went', 'knew', 'points', 'save', 'dead', \"you'd\", 'hurt', 'dinner', 'sad', 'school', 'tomorrow', 'till', 'hoo', 'drinking', 'hate', 'sign', 'fine', 'hi', 'quit', 'feeling', 'win', 'heard', 'dog', 'die', 'camera', 'told', 'excited', 'skinner', 'funny', 'gave', 'break', 'eyes', 'came', 'ladies', 'saw', 'gets', 'booze', 'forget', \"couldn't\", 'alcohol', 'easy', 'flaming', 'without', 'fire', 'million', \"aren't\", 'calling', 'eat', 'sir', 'loves', 'barflies:', 'twenty', 'hand', 'seven', 'nuts', 'super', 'krusty', 'clean', 'gone', 'gasp', 'loser', 'date', 'mad', 'hands', 'anyone', 'jacques:', 'cash', 'kinda', 'bring', 'fight', 'room', 'kirk_van_houten:', 'drive', 'surprised', 'burn', 'mom', 'noises', 'small', 'read', 'artie_ziff:', 'meet', 'problems', 'door', 'happen', \"wasn't\", 'high', 'behind', 'cut', 'called', \"lookin'\", \"haven't\", 'course', 'anyway', \"talkin'\", 'low', \"we'll\", 'trouble', \"doesn't\", 'coming', 'sadly', 'each', 'six', 'seymour', 'gentlemen', 'geez', 'turns', \"y'know\", \"somethin'\", 'chance', 'tape', 'already', \"drinkin'\", 'bartender', 'professor_jonathan_frink:', 'upset', 'dear', 'self', \"it'll\", 'end', 'ugly', 'machine', 'eye', 'larry:', 'works', 'fun', 'disgusted', 'hot', 'bottle', 'realizing', 'sing', 'song', 'wiggum', 'hours', 'start', 'moan', 'outside', 'mmmm', 'sigh', 'throat', 'steal', 'uh-oh', 'heart', 'close', \"gettin'\", 'blame', 'trying', 'change', 'war', 'dump', 'whatever', 'snake_jailbird:', 'stay', 'learn', 'live', 'stand', 'lady', 'keys', 'least', 'm', 'spend', 'crazy', 'whole', 'straight', 'quiet', 'talking', ':', 'watching', 'worried', 'worse', 'the_rich_texan:', 'bar_rag:', 'barflies', 'lousy', 'butt', 'less', 'ten', 'late', 'learned', 'drinks', 'probably', 'such', 'stick', 'perfect', 'greatest', 'shocked', 'private', 'playing', 'may', 'blue', 'anymore', 'goodbye', 'bowl', \"'bout\", 'special', 'poor', 'light', 'joe', 'second', 'thinks', 'year', 'girls', 'morning', 'gasps', \"shouldn't\", 'pull', 'thousand', 'soon', 'times', 'ma', 'apu', 'police', 'crowd:', 'person', 'far', 'alive', 'married', 'marriage', 'air', 'heh', 'bit', 'turned', 'young', 'mother', 'either', 'front', 'else', 'whip', 'point', 'annoyed', 'tsk', 'delete', 'anybody', 'store', 'kick', 'cool', 'moron', 'minutes', 'buddy', 'open', 'picture', 'goes', 'uh-huh', 'couple', 'found', 'blood', 'boys', 'letter', 'nothing', 'lucky', 'smell', 'feet', 'taking', 'both', 'turning', 'eight', 'miss', 'walk', 'join', 'president', 'ticket', 'later', \"how'd\", 'king', 'knows', 'lemme', 'jacques', 'ass', 'throw', 'serious', 'box', 'shot', 'mayor_joe_quimby:', 'beers', 'barn', 'tab', 'exactly', 'boxing', 'yet', 'nods', 'duffman', 'card', 'christmas', 'angry', 'agnes_skinner:', 'american', 'arm', 'rev', 'pig', 'shotgun', 'mind', 'alone', 'instead', 'fifty', 'patty_bouvier:', 'youse', 'goodnight', 'days', 'somebody', 'proudly', 'kiss', 'top', 'number', 'full', 'dry', 'food', 'collette:', 'warmly', 'ahh', 'plant', 'friendly', 'english', 'saying', 'mrs', 'paint', 'hide', 'afraid', 'accident', 'black', 'using', 's', 'deal', 'ready', 'amazed', 'rummy', 'dance', 'eggs', 'walking', 'nine', 'welcome', 'o', 'damn', \"he'll\", 'together', '||semicolon||', 'fellas', 'alright', 'send', 'wire', 'etc', 'forever', 'plus', 'seems', 'advice', 'ned', 'butts', 'huge', 'story', 'ball', 'himself', 'favorite', 'intrigued', 'happier', 'making', 'table', 'hang', 'broke', 'sotto', 'crap', 'move', 'finally', 'lucius:', 'though', 'return', 'word', 'ha', 'hmm', 'sitting', 'fast', 'weird', 'scared', 'grampa', 'son', 'news', 'cold', 'terrible', 'smile', 'words', \"makin'\", 'run', 'screw', 'city', 'renee:', 'pour', 'round', 'channel', 'telling', 'losers', 'japanese', 'tap', 'glove', 'la', 'inside', 'seat', 'human', \"ol'\", 'comic_book_guy:', 'moans', \"kiddin'\", 'glad', 'horrible', 'homie', 'peanuts', 'young_marge:', 'selma_bouvier:', 'street', 'means', 'narrator:', 'warm_female_voice:', 'ice', 'normal', 'belch', 'dunno', 'honest', 'gumbel', 'milk', 'smells', 'laughing', 'music', 'tip', 'seconds', 'early', 'half', 'slow', 'forgot', 'invented', 'harv:', 'fill', 'eating', 'thirty', 'power', 'company', 'bet', 'hair', 'sent', 'denver', 'ones', 'football_announcer:', 'class', 'won', 'star', 'state', 'uncle', 'stool', 'sick', 'along', 'takes', 'holding', 'lying', 'tinkle', 'gives', 'desperate', 'holds', '_julius_hibbert:', 'except', 'honey', 'principal', 'nigel_bakerbutcher:', 'group', 'joey', 'worst', 'flanders', 'hit', 'al', 'romantic', 'birthday', 'shall', 'pass', 'men', 'admit', 'dangerous', 'brought', 'charge', 'hard', 'write', 'fall', 'bitter', 'lives', 'touched', 'impressed', 'sex', 'strong', 'sips', 'fat_tony:', 'tony', 'set', \"we'd\", 'heaven', 'same', 'giving', 'health', 'kent', 'truth', 'bag', 'hank_williams_jr', 'crack', 'treasure', 'plan', 'rat', \"sayin'\", \"that'll\", 'szyslak', 'mister', 'week', 'lowers', 'loved', 'supposed', 'tune', 'slap', 'across', 'plastic', 'dumb', 'baseball', 'quick', 'became', 'jukebox', 'gold', 'manjula_nahasapeemapetilon:', 'water', 'safe', 'health_inspector:', 'numbers', 'maya:', 'bow', 'lou:', 'walther_hotenhoffer:', 'omigod', 'princess', 'young_homer:', 'mike', 'catch', \"how's\", \"he'd\", 'speech', 'little_man:', 'closed', 'wallet', 'wrote', 'grand', 'troll', 'invited', 'government', 'joint', 'club', 'cutting', 'service', 'quietly', 'movie', 'doubt', 'accent', 'nein', 'speaking', 'bee', 'pop', 'treat', 'wonderful', 'games', 'fellow', 'cheer', 'yea', 'coaster', 'sunday', 'luck', 'jack', 'cop', 'dallas', 'short', 'shirt', 'lord', 'asked', 'offended', 'wha', \"smokin'_joe_frazier:\", 'cleaned', 'piece', 'felt', \"lisa's\", 'clown', 'announcer:', 'testing', 'shaking', 'glasses', \"callin'\", 'pipe', 'red', 'cost', 'wall', 'center', 'all:', 'represent', 'ago', 'chanting', 'ad', 'handsome', 'sharps', 'named', 'names', 'swear', 'hospital', 'children', 'rest', 'strap', 'fingers', 'suddenly', 'man:', 'puzzled', 'brilliant', 'soul', 'saved', 'pool', 'local', 'daddy', 'dank', 'ashamed', 'side', 'customers', 'disappointed', 'hated', 'horrified', 'tongue', 'window', 'until', 'truck', 'selma', 'owe', 'dude', 'wonder', \"tellin'\", 'punch', 'jeez', 'yep', 'empty', 'biggest', 'tired', 'drederick', 'against', 'changing', 'evening', 'clears', 'favor', 'hanging', 'gay', 'deer', 'designated', 'writing', 'beloved', 'wine', 'suit', 'confused', 'french', 'having', 'during', 'clear', 'sober', 'longer', 'chug', 'jar', 'brockman', 'absolutely', \"drivin'\", 'wheel', 'driving', 'part', 'park', 'i-i', 'unless', 'hopeful', 'stunned', 'also', \"world's\", 'running', 'broad', 'filthy', 'dame', 'boring', 'totally', 'none', 'surgery', 'survive', \"tryin'\", 'mayor', \"workin'\", 'isotopes', 'lose', 'detective_homer_simpson:', 'exasperated', \"guy's\", 'act', 'needs', 'given', 'counting', 'caught', 'cow', 'college', 'p', 'fish', 'women', 'third', 'mine', 'lessons', 'x', 'few', 'thumb', 'dying', 'stories', 'speak', 'beach', 'bed', 'artie', 'billy_the_kid:', 'bank', 'jerks', 'proud', \"one's\", \"sittin'\", 'sauce', 'suicide', 'duh', 'edna_krabappel-flanders:', 'sob', 'rope', \"i'm-so-stupid\", 'america', 'mouse', 'pity', 'nineteen', 'african', 'nuclear', 'calm', '_zander:', 'tree', 'lloyd:', '_hooper:', 'glen:', 'bender:', 'adult_bart:', 'tv_wife:', 'tv_husband:', 'rotch', 'cares', 'sits', 'follow', 'bars', 'chocolate', 'usually', 'closing', 'pulled', 'hurry', 'fifteen', 'gin', 'hits', 'spot', 'smiling', \"everyone's\", 'feels', 'pitcher', 'amazing', 'offer', 'minimum', 'restaurant', 'dollar', 'ingredient', 'career', 'market', 'stock', 'hans:', \"o'problem\", 'calls', 'embarrassed', \"today's\", 'nose', 'domestic', 'pointed', 'weekly', 'sarcastic', 'belches', 'forty', 'ruined', 'ourselves', 'original', 'situation', 'almost', 'field', 'buffalo', 'pit', 'pickled', 'couch', 'heavyweight', 'championship', 'whee', 'father', 'beauty', 'amanda', 'huggenkiss', 'ivana', 'plow', 'teenage_barney:', 'hero', 'starts', 'answer', 'enjoy', 'yesterday', 'fridge', 'agent', 'island', 'sly', 'adeleine', 'scream', 'question', 'arrest', \"what'll\", 'knock', 'figured', 'stillwater:', 'respect', 'fbi', 'hm', 'teach', 'professional', 'snake', 'flower', 'clothes', 'polite', 'tail', 'liver', 'legs', 'understand', 'pulls', 'line', 'woman:', 'meeting', 'hugh:', 'rather', 'pub', 'wear', 'loaded', 'sense', 'different', 'movies', 'magic', 'deep', \"they've\", 'ahead', 'breath', 'boat', 'working', 'kidding', 'burp', 'blow', \"livin'\", 'choice', 'test', 'opportunity', 'rich', 'brain', 'train', 'yard', 'hungry', 'match', 'body', 'tatum', 'sit', 'dramatic', \"buyin'\", 'bill', 'twelve', 'gas', 'quite', 'finger', 'lie', 'south', 'fix', 'whiny', \"o'clock\", 'drivers', 'drug', 'upbeat', 'sold', 'betty:', 'explaining', 'sexy', 'dang', 'started', 'egg', 'mug', 'months', 'chick', 'threw', 'stirring', 'husband', 'illegal', 'cover', 'folks', \"watchin'\", 'case', 'sports', 'smooth', 'computer', 'selling', 'ride', 'renee', 'flowers', 'girlfriend', 'distraught', 'pain', 'sobbing', 'raises', 'arms', 'stagy', 'procedure', 'able', 'lips', 'especially', 'fan', \"who'll\", 'dennis_conroy:', 'bottom', 'road', 'bye', 'wally:', 'flips', 'character', 'partner', 'guns', \"valentine's\", 'amid', 'yellow', 'radishes', 'u', \"bein'\", 'bald', 'castle', 'busy', 're:', 'seem', 'jerk', 'sincere', 'precious', 'burt', 'garbage', 'died', \"dad's\", 'whisper', 'lotta', 'secrets', 'whaddaya', 'sees', 'pickle', 'rob', 'coat', 'trip', 'ooo', 'band', 'neck', 'tom', 'gotten', 'buttons', 'eleven', 'à', 'cries', 'awkward', 'video', 'billboard', 'david_byrne:', 'france', 'sheepish', 'address', 'monster', 'meaningful', 'furious', 'new_health_inspector:', 'pipes', 'needed', 'moment', 'ominous', 'declan_desmond:', 'sister', 'milhouse_van_houten:', 'forget-me-shot', 'finding', 'shows', 'bees', 'vance', 'correct', 'pleased', 'cable', 'babies', 'clearly', 'yap', 'hoping', 'thoughtful', 'grim', 'frustrated', 'burps', 'therapy', 'foibles', 'books', 'twins', 'rag', 'keeps', 'dan_gillick:', 'ken:', \"carl's\", 'senator', 'senators', \"moe's_thoughts:\", 'teenage_bart:', 'eddie:', 'lately', 'puke', 'struggling', 'crummy', 'tells', 'spit', \"'til\", 'unison', 'thoughts', 'finished', 'concerned', 'burning', 'hiya', 'junior', 'cigarette', 'sucked', 'harv', 'cough', 'its', 'delicious', 'noticing', 'above', 'expect', 'accurate', 'tips', 'pardon', 'idiot', 'covering', 'frankly', 'kept', 'k', 'twenty-five', 'become', 'german', 'fritz:', 'buying', 'brains', 'crank', \"bart's\", 'lots', \"they'll\", 'cheap', 'hug', 'sniffs', 'bowling', 'gift', 'bret:', 'guest', 'whose', 'shares', 'odd', 'hates', 'whatcha', 'touchdown', 'fork', 'keeping', 'careful', 'prime', 'palmerston', 'elder', 'pfft', 'lottery', 'sadistic_barfly:', 'cents', 'customer', 'step', 'holiday', 'religion', 'born', 'tv_father:', 'toss', 'jack_larson:', 'pageant', 'age', 'endorse', 'puff', \"where'd\", 'stopped', 'ruin', 'sec', 'shove', 'mistake', 'slip', 'pathetic', 'har', 'ring', 'checks', 'pointing', 'aside', 'ordered', 'dressed', 'bus', 'gal', 'afternoon', 'kwik-e-mart', 'coney', 'single', 'darts', \"havin'\", 'pause', '_babcock:', 'higher', 'reads', 'sexual', 'moments', 'alley', 'fault', 'hmmm', 'roll', 'form', 'register', 'prank', 'coffee', 'label', 'innocent', 'double', 'hurts', 'loan', 'leans', 'fool', 'covers', 'crawl', 'following', 'celebrities', 'consider', 'imagine', 'moved', 'fumes', 'oil', 'exhaust', 'gag', 'stole', 'killed', 'understanding', 'raising', 'natural', 'stools', 'texas', 'rid', 'barney-shaped_form:', 'snaps', 'bright', 'beginning', 'cute', 'evil', '&', 'exit', 'midnight', 'compliment', \"stinkin'\", 'glum', 'salad', 'complete', \"c'mere\", 'knocked', 'bob', 'fact', 'cannot', 'incredulous', 'fans', 'saturday', 'parking', 'general', 'trust', \"could've\", 'stayed', 'shape', 'taken', \"gentleman's\", \"barney's\", 'mafia', 'crime', 'indignant', 'entire', 'grow', 'modern', 'diet', 'shoot', 'enemy', 'accept', 'enemies', 'list', 'invite', 'lonely', 'singers:', 'toward', 'defensive', 'walks', 'snort', 'mechanical', 'suppose', 'sometime', 'fancy', 'kissing', 'per', 'traffic', 'peter', 'pained', 'extra', 'cheers', 'driver', 'program', 'inspector', 'heads', 'recommend', 'severe', 'checking', 'showing', 'fever', 'spending', 'switch', 'casual', 'rough', 'pissed', 'scene', 'church', 'threatening', 'turkey', 'scam', 'jesus', 'spinning', 'pats', \"seein'\", 'toilet', 'der', 'crowd', 'boo', 'wide', 'toasting', 'order', 'bunch', 'pays', 'law', 'wasting', 'corpses', 'sleep', 'screams', 'aww', 'seeing', 'military', 'hunter', 'reminds', 'panicky', 'ridiculous', 'campaign', 'public', \"they'd\", 'focus', 'knowing', 'jolly', 'upon', 'edison', 'played', 'middle', 'worked', 'james', 'hole', 'corner', 'summer', 'operation', 'comfortable', 'inspection', 'season', 'grunt', 'wooooo', 'history', 'team', 'grabbing', 'root', 'spanish', 'weeks', 'coach:', \"wife's\", 'leg', 'grabs', 'peace', 'toys', 'changed', 'international', 'who-o-oa', 'hour', 'men:', \"men's\", 'hilarious', 'frink', 'paying', 'searching', 'embarrassing', 'past', 'challenge', 'tears', 'cocktail', 'stadium', 'finest', 'license', 'ho', 'dynamite', 'rub', 'grunts', 'chinese', 'uncomfortable', 'helicopter', 'sweetly', 'fly', 'suck', 'film', 'fireball', 'mudflap', \"ridin'\", 'teeth', 'closer', 'happily', '_timothy_lovejoy:', 'chest', 'popular', 'directions', 'bought', 'tried', 'wearing', 'delighted', 'button', 'future', 'drunks', 'serve', 'spoken', 'thankful', 'looked', 'ancient', 'losing', 'lindsay_naegle:', 'teenage', 'ohmygod', 'uneasy', \"i-i'm\", 'terrified', 'scum', 'afford', 'anniversary', 'feed', 'starting', \"robbin'\", 'banks', 'fair', 'backwards', 'rats', 'staying', 'death', 'andy', 'mock', 'flatly', 'sisters', 'subject', 'likes', 'peach', 'miserable', 'jump', 'dive', 'bless', 'attention', 'paris', 'cards', 'ziffcorp', 'sec_agent_#1:', 'fraud', 'perhaps', 'ground', 'jail', 'ran', \"kids'\", 'gary_chalmers:', 'dancing', 'wiener', 'vomit', 'bike', 'floor', 'glen', 'breaking', 'british', 'letters', 'clone', 'tradition', 'push', 'vegas', 'system', 'bar-boy', 'foot', 'motel', 'awful', 'child', 'yee-haw', 'workers', 'then:', 'clientele', 'army', 'milhouse', 'greystash', 'dirt', 'doors', 'size', 'reason', 'feelings', 'mel', 'bite', 'powerful', 'wipe', 'image', 'pockets', 'share', 'jamaican', 'l', \"lenny's\", 'midge', 'gently', 'unlike', 'meant', 'sniffles', 'election', 'al_gore:', 'nobel', 'sadder', 'yo', 'unlucky', 'somewhere', 'met', 'relax', 'anguished', 'talk-sings', 'tastes', 'kang:', \"year's\", 'bitterly', 'woo-hoo', 'cameras', 'nards', 'gary:', 'fourth', 'scotch', 'drop', 'weak', 'opening', '_kissingher:', 'text', 'f', 'hall', 'wayne:', 'nation', 'kermit', 'belly', 'despite', 'r', 'theater', 'twenty-two', 'sixty-nine', 'source', 'brother', 'book_club_member:', 'literature', 'troy:', 'pocket', 'marvin', 'carve', 'effervescent', 'social', 'vote', 'corkscrew', 'folk', 'neat', 'tick', 'effects', 'trick', 'judge', 'mumbling', 'closes', 'smoothly', 'gum', 'satisfaction', 'payments', 'distributor', 'spent', 'tester', 'gums', \"bartender's\", 'brightening', 'homers', 'syrup', 'knife', 'doll', 'charm', 'lighting', \"tester's\", 'busted', 'barkeep', 'bartenders', 'barf', 'measurements', 'benefits', 'prefer', 'hired', \"shan't\", 'regret', 'genius', 'mcstagger', 'successful', 'sale', 'yours', 'compliments', 'aerosmith', 'refund', 'henry', 'reserve', 'swill', 'ech', 'interested', 'owner', 'confident', '100', 'awwww', 'bucket', 'conspiratorial', 'teddy', 'bear', 'beneath', 'seek', 'bears', 'blend', 'greedy', 'sector', 'recently', 'shaken', 'recall', 'inspire', 'peanut', 'slyly', 'pleasure', 'thirteen', 'studio', 'apartment', 'listening', 'deeply', 'victory', 'bread', 'bets', 'troy', 'troy_mcclure:', 'bret', 'handle', 'retired', 'comedy', \"buffalo's\", 'excellent', 'riding', 'whistles', 'dan', 'wins', 'aggravated', 'teams', 'cowboys', 'clock', 'cars', \"maggie's\", 'handing', 'minister', 'wade_boggs:', 'jumps', 'poking', \"showin'\", 'gals', 'fudd', 'miles', 'finishing', 'dryer', 'feast', 'snake-handler', 'prove', 'laramie', 'cigarettes', 'prohibit', 'smoke', 'product', '250', 'animals', '_powers:', 'standards', 'b', 'sausage', 'ah-ha', 'sooner', 'linda', 'project', 'snow', \"fallin'\", 'prayer', 'wave', 'yoo', 'cheery', 'sack', 'chilly', 'willy', 'appear', 'remembered', 'snap', 't-shirt', 'plum', 'deserve', 'civic', 'ragtime', 'isle', 'babe', 'village', 'tenor:', 'paid', 'lib', 'remains', 'witty', 'served', 'cops', 'andalay', 'sometimes', 'based', 'realize', 'insightful', 'code', 'cueball', 'clinton', 'tang', \"it'd\", 'nasa', 'astronaut', 'shrugging', 'rap', 'advantage', 'generous', 'pin', 'cola', 'forbidden', 'present', 'entirely', 'bold', 'teacher', 'sugar', 'pleading', 'pulling', 'ohh', 'greetings', 'giggles', 'advance', 'gosh', 'bash', 'poet', 'alcoholic', 'large', 'pouring', 'honored', 'virtual', 'inflated', 'self-esteem', 'male_inspector:', 'detecting', 'rage', 'reasons', 'writers', 'alfalfa', 'murmur', 'hollywood', 'restaurants', 'pressure', 'inspired', 'memories', 'blew', 'pad', 'stinks', 'ahhh', 'rolling', 'wondering', 'ringing', 'ye', 'jebediah', 'cutie', 'bums', 'angel', 'blood-thirsty', 'pirate', 'jubilant', 'waylon', 'delivery', 'forward', 'darkest', 'calculate', 'results', 'billion', 'space', 'considering', 'freeze', 'reasonable', 'ha-ha', 'themselves', 'raise', 'oof', 'belt', 'steak', 'meal', 'awe', 'percent', 'manage', 'realized', \"hadn't\", 'boxer', 'gorgeous', \"meanin'\", 'lucius', 'famous', 'don', 'manager', 'somehow', 'row', 'politics', 'agreement', 'fighting', 'sandwich', 'punches', 'energy', 'hobo', 'nudge', 'awed', 'managing', 'champ', 'release', 'weary', 'rounds', 'freak', 'remembering', 'fondly', 'worth', 'lover', 'radio', 'borrow', 'granted', 'helped', 'built', 'solid', 'routine', 'mate', 'chum', 'acquaintance', 'quality', 'fox_mulder:', 'began', 'discussing', 'scully', 'penny', \"money's\", 'asking', 'mob', 'steel', 'broadway', 'sodas', 'neither', 'christopher', 'shooting', 'bags', 'hunting', \"patrick's\", 'kicked', 'written', 'crossed', 'morose', 'bam', 'yelling', 'love-matic', 'peppy', 'passed', 'floated', 'sweeter', 'buried', 'naked', 'dismissive', 'karaoke', 'near', 'expert', 'spread', 'germs', 'cent', 'caused', 'pope', 'reach', 'draw', 'costume', 'labels', 'straining', 'conditioner', 'sweetheart', 'margarita', 'planning', 'vacation', 'chase', 'blues', 'manjula', \"countin'\", 'freedom', 'reaching', 'bubbles', 'ways', \"ma'am\", 'devastated', 'grave', 'mic', 'products', 'price', 'cake', 'churchill', 'purse', 'businessman_#1:', 'firmly', 'utility', 'creeps', 'roomy', 'european', 'plenty', 'yogurt', 'porn', 'thoughtfully', 'seats', 'highway', 'commission', 'yards', 'pride', 'beam', 'mail', 'bride', 'fabulous', 'due', 'roses', 'kidney', 'dropped', 'dearest', 'warily', 'placing', \"town's\", 'charity', 'railroad', 'coward', 'medicine', 'sudden', 'attack', 'yell', 'forgive', 'puts', 'joined', 'joining', 'although', \"pope's\", 'ironed', 'blown', 'involved', 'agent_johnson:', 'involving', 'bush', 'charlie', 'lazy', 'message', 'seriously', 'mop', 'stands', 'ocean', 'bathing', 'increasingly', 'organ', 'jockey', 'grumpy', 'crying', \"springfield's\", 'bigger', 'cotton', 'balls', '6', 'promised', 'vodka', 'gentleman:', 'celebrity', 'bubble', 'brave', 'deadly', 'correcting', 'scare', 'eyeball', 'catching', 'mess', 'bathroom', 'all-star', \"'topes\", 'excitement', 'inspiring', \"game's\", 'pitch', 'director', 'rumaki', 'sports_announcer:', 'pointless', 'conference', \"team's\", 'atlanta', 'falcons', 'mmm', 'foil', 'yup', 'beating', 'simp-sonnnn', 'acting', 'gang', 'choking', 'murmurs', 'yourselves', 'easier', 'curious', 'matter-of-fact', 'kyoto', 'sea', 'fritz', 'drawing', 'justice', 'patterns', 'lights', 'hawking:', \"hangin'\", 'putting', 'tentative', 'umm', 'heavyset', 'insulted', 'tommy', 'honor', 'duel', 'fevered', 'between', 'thesaurus', 'danish', 'joking', 'laws', 'held', 'knees', 'throwing', 'seas', 'eyesore', 'jeff', 'ugliest', 'white', 'gargoyle', 'brow', 'pleasant', 'mount', 'carlson', 'harder', 'nearly', 'wash', 'beats', 'tax', 'trusted', 'poem', 'planet', 'professor', 'disgrace', 'stationery', 'flying', 'tanked-up', 'certain', \"bar's\", 'queer', 'guide', 'calmly', 'befouled', 'broom', 'explain', 'unfortunately', 'reynolds', 'jerry', 'solo', 'lowering', 'sinister', 'onions', 'talked', 'frosty', 'voice:', 'helen', 'bible', 'medical', \"chewin'\", 'shock', 'satisfied', 'effigy', 'jobs', 'mention', 'smart', 'dee-fense', 'twice', 'schnapps', 'comic', 'klingon', 'mm', 'corporation', 'fresh', 'loss', 'smurfs', 'wake', 'disapproving', 'informant', 'goods', 'smugglers', 'voice_on_transmitter:', 'answering', 'mcbain', \"father's\", 'taps', 'jets', 'eventually', 'morlocks', 'liar', \"weren't\", 'naturally', 'shaggy', 'gun', 'passion', 'bartending', 'painting', 'expression', 'contest', 'potato', 'ayyy', 'tabooger', 'ollie', 'deliberate', 'century', 'formico:', 'formico', 'thanksgiving', 'tofu', 'curds', 'ambrosia', 'terrific', 'cookies', 'admiring', 'anywhere', 'eighty-seven', 'palm', 'actors', 'brewed', 'hop', 'juice', 'agree', 'grandiose', 'boyfriend', 'spy', 'superior', 'rainier_wolfcastle:', 'authorized', 'impatient', 'bottles', 'salt', 'windex', 'koi', 'pond', 'drown', 'surprise', 'wang', 'dating', 'sat', 'drank', 'i-i-i', 'force', 'badges', 'admitting', 'pian-ee', 'shoo', 'grab', \"'im\", 'dough', 'emotional', 'color', 'skin', 'alphabet', 'smug', 'louder', 'fuss', '1895', 'soap', 'aging', 'whenever', 'denser', 'disco', 'complaining', 'magazine', 'young_moe:', 'memory', 'amount', 'appointment', 'bird', 'decide', 'lush', 'cruel', 'david', 'wishes', 'cream', \"cat's\", 'nope', 'boozy', 'dessert', 'crumble', 'cooler', 'delivery_boy:', 'bastard', 'mona_simpson:', 'stevie', 'woozy', 'gifts', 'diamond', 'woman_bystander:', 'ziff', 'fold', 'achem', 'd', 'securities', 'exchange', 'sec_agent_#2:', 'investor', 'confidence', 'nerve', 'prison', 'standing', 'bedroom', 'value', 'shakespeare', 'watered-down', 'underpants', 'needy', 'kindly', 'funds', 'lap', \"what're\", 'bugging', 'seemed', 'wedding', 'missed', 'shoulder', 'department', 'violations', 'roof', 'shutting', \"'tis\", 'shrugs', \"beer's\", 'changes', 'conversation', 'hotline', 'dials', 'allowed', 'sleeps', 'quotes', 'therefore', 'regulars', 'skirt', 'prepared', 'trapped', 'rule', 'pint', 'judge_snyder:', 'ale', 'suds', 'cat', 'moe-clone:', 'attitude', 'weirder', 'jerky', 'record', 'bourbon', 'ginger', 'sissy', 'wrestling', 'forehead', 'barely', 'flag', 'attempting', \"takin'\", 'camp', 'cheat', 'haw', \"payin'\", 'known', 'bridge', 'museum', 'coins', 'jailbird', 'wangs', 'photo', 'shoots', 'louie:', 'reporter:', 'irish', \"drawin'\", 'marmaduke', \"waitin'\", 'fragile', 'wolfe', 'wordloaf', 'festival', 'fictional', \"what'sa\", 'fausto', 'action', 'pretending', 'abandon', 'airport', 'mortgage', \"ladies'\", 'dames', 'appealing', 'patient', 'weirded-out', 'fanciest', 'towed', 'eighty-one', 'joke', 'grandmother', 'bully', 'mixed', 'stir', 'positive', 'slight', 'latin', 'complaint', 'obvious', 'thighs', 'internet', 'media', 'disappeared', 'candidate', 'dennis_kucinich:', 'lurleen', 'lurleen_lumpkin:', 'rock', \"someone's\", 'hangs', 'sneaky', 'winnings', 'krabappel', 'difficult', 'discuss', 'compared', 'decent', 'doreen', 'doreen:', \"marge's\", 'available', 'bashir', 'arab_man:', 'dress', 'grimly', 'lock', 'combine', 'queen', 'multiple', 'prize', 'alfred', 'shower', 'tiny', 'slice', 'playful', \"wonderin'\", 'defeated', 'maya', 'whether', 'awww', 'rhyme', 'un-sults', 'courage', 'reviews', 'hibbert', 'banquo', 'thought_bubble_homer:', 'tries', 'wing', 'helllp', 'lovely', 'cozy', 'begins', 'torn', 'warn', 'possibly', 'stranger:', 'gator:', 'corporate', 'industry', 'awesome', 'decency', 'extremely', 'saint', 'type', 'is:', 'partly', 'golf', 'ball-sized', 'hail', 'continuing', 'electronic', 'zero', 'tale', 'restroom', 'rules', 'sitar', 'smallest', 'sympathetic', 'slightly', 'soup', 'padre', 'lloyd', 'candy', 'scary', 'beep', 'fox', 'strategy', 'answers', 'grienke', 'sport', 'doug:', 'sabermetrics', \"others'\", 'fixed', 'assistant', 'admiration', 'self-made', 'suspect', 'proposing', 'plans', 'hitler', 'dungeon', 'stern', 'waltz', 'suspicious', 'roz:', 'relieved', 'suing', 'therapist', 'skeptical', 'boneheaded', 'relationship', 'twin', 'dreamed', 'joey_kramer:', 'kramer', 'neighbor', 'completing', \"other's\", 'wayne', 'stealings', 'monkey', 'crew', \"children's\", 'underbridge', 'academy', 'neil_gaiman:', 'square', 'vulnerable', 'copy', 'trolls', 'vampires', \"hasn't\", 'lenny:', 'carl:', 'carll', 'website', 'safer', 'bedbugs', 'duty', 'intense', 'friendship', \"crawlin'\", 'maman', 'failed', 'lise:', 'marguerite:', 'cheese', 'degradation', 'violin', 'heading', 'raccoons', 'filled', 'rolled', 'trench', 'frog', 'poker', 'cowardly', 'outlook', 'motorcycle', 'ripcord', 'reached', 'so-called', '7-year-old_brockman:', 'muttering', 'plywood', 'hats', 'civilization', 'anarchy', 'w', \"readin'\", 'chicks', 'wooden', 'deacon', 'priest', 'important', 'vacuum', 'cleaner', 'tie', 'belong', 'dreams', 'elephants', 'brothers', 'wings', 'spied', 'bump', 'reliable', 'superhero', 'pigs', 'refresh', 'express', 'mall', 'santa', 'page', 'brassiest', 'nickels', 'laney_fontaine:', 'craphole', 'smile:', 'baritone', 'africa', 'snorts', 'wa', 'scrape', 'nigeria', 'level', 'nigerian', 'princesses', 'familiar', 'yawns', 'stuck', 'scooter', 'aged_moe:', 'teenage_homer:', 'grade', \"homer's_brain:\", 'punk', 'someday', 'boxing_announcer:', \"monroe's\", 'thru', 'koholic', \"dyin'\", 'tv_announcer:', 'patty', 'elite', 'enhance', 'skills', 'politician', \"neighbor's\", 'right-handed', 'corkscrews', 'homer_', \"cont'd:\", 'led', 'richer', 'county', 'faces', 'profiling', 'paper', \"depressin'\", 'crisis', 'pictured', 'underwear', 'jury', 'lawyer', 'pretzel', 'patrons:', 'foam', 'spare', 'stiffening', 'trenchant', 'disappointing', 'jer', 'grudgingly', 'reed', 'whoo', 'instrument', 'sunk', 'patrons', 'figure', 'healthier', 'increased', 'togetherness', 'poison', 'purveyor', 'mind-numbing', 'intoxicants', 'unfamiliar', 'tonic', 'mix', 'bowie', 'nickel', 'coughs', 'phlegm', 'looser', 'sneeze', 'guard', 'chuckling', 'crowded', 'cracked', 'accepting', 'stamps', 'combination', 'patron_#1:', 'patron_#2:', 'store-bought', 'drollery', 'application', 'ons', 'salary', 'wage', 'meaningfully', 'fringe', 'unforgettable', 'weekend', 'vacations', 'someplace', 'moxie', 'methinks', 'bannister', \"mcstagger's\", 'emporium', 'composite', 'logos', 'mozzarella', 'proposition', 'chain', 'recipe', 'dice', 'sweat', 'dies', 'delivery_man:', 'cases', 'hooked', 'waitress', 'pursue', 'hundreds', 'thousands', 'cuz', \"duff's\", 'information', 'motto', 'full-time', 'swine', 'germany', 'east', 'west', 'cleveland', 'browns', 'monkeyshines', 'kinds', 'resist', 'musses', 'today/', 'marvelous', 'play/', 'trees', 'sees/', 'please/', 'picnic', 'pip', 'mirthless', 'damned', 'reptile', 'saucy', 'sieben-gruben', '7g', 'terminated', 'example', 'sing-song', 'heavens', 'stamp', 'slays', 'terror', 'determined', 'freshened', 'hourly', 'provide', 'coyly', 'h', 'justify', 'england', 'modest', 'malibu', 'stacey', 'kitchen', 'prints', 'feminist', 'newsletter', 'daaaaad', 'grumbling', 'usual', 'wad', 'bills', 'thirty-five', 'sagely', 'sweaty', 'son-of-a', \"ma's\", 'norway', 'brunch', 'spectacular', 'baloney', 'gotcha', 'eminence', 'bookie', \"bettin'\", 'football', 'forty-five', 'pre-game', 'actor', 'mcclure', 'sitcom', 'premiering', 'coincidentally', \"show's\", 'criminal', 'fell', 'script', 'recent', 'irs', 'sealed', \"drexel's\", 'kickoff', 'kicks', 'position', 'gambler', 'score', 'fourteen:', 'duff_announcer:', 'half-back', 'beer-dorf', 'ticks', 'scores', \"fans'll\", 'looting', 'lone', 'handoff', 'twenty-nine', 'scratching', 'chin', 'stinky', 'sniffing', \"england's\", 'boggs', 'scornfully', 'exploiter', 'ignorant', \"jackpot's\", 'spitting', 'boozehound', \"singin'\", 'young_barfly:', 'moonnnnnnnn', 'quarter', 'hillbillies', 'blind', \"smokin'\", 'cummerbund', 'tight', 'furniture', 'frazier', 'washer', 'religious', 'maximum', 'occupancy', 'slick', 'kneeling', 'unattractive', 'wheeeee', 'cutest', 'larson', 'sponsoring', 'regulations', 'advertising', 'smokes', 'carolina', 'crowned', 'host', 'maitre', \"d'\", 'glee', 'heartily', 'event', 'tv_daughter:', 'smoker', 'enter', 'blimp', 'scientists', \"bo's\", 'cavern', 'mobile', 'starving', 'dogs', 'rusty', 'dull', 'spilled', 'ashtray', 'slurps', 'captain:', 'freed', 'iranian', 'hostages', \"sat's\", 'wishing', 'diaper', 'ronstadt', 'linda_ronstadt:', 'kl5-4796', '/mr', 'boozer', 'intelligent', 'lachrymose', 'dyspeptic', 'ebullient', 'harvard', 'silent', 'admirer', 'snide', 'moesy', 'worthless', 'rub-a-dub', 'anthony_kiedis:', 'thirty-thousand', 'audience', 'restless', 'chili', 'peppers', 'klown', 'flea:', 'gig', 'problemo', \"wallet's\", 'stares', 'miss_lois_pennycandy:', 'ruby-studded', 'johnny_carson:', 'undies', '50%', 'sales', 'sweetest', 'entertainer', 'crowds', 'wild', 'farewell', 'shop', 'theatrical', 'distaste', 'officer', 'replace', 'nahasapeemapetilon', 'fit', 'marquee', 'luv', 'du', 'beaumarchais', 'dishonor', 'ancestors', 'applicant', 'killarney', 'mither', 'sang', 'tones', 'soft', 'swe-ee-ee-ee-eet', 'my-y-y-y-y-y', 'hanh', 'sounded', 'kako:', 'floating', 'perfume', \"man's\", 'hat', 'phasing', 'schabadoo', 'attracted', 'reciting', 'infatuation', 'physical', 'attraction', 'common', 'napkins', 'vigilante', 'handshake', 'eightball', 'twelveball', 'aboard', 'nooo', 'file', 'fiiiiile', 'necessary', 'astronauts', 'introduce', 'evils', 'unfair', 'wobble', 'caholic', 'pee', 'freely', 'crotch', 'ivanna', 'fondest', 'desire', 'invisible', 'donut', 'sacrilicious', 'indecipherable', 'goo', 'ideal', 'thoughtless', 'remain', 'nameless', 'spite', 'clips', 'awfully', 'flustered', \"ball's\", 'slender', 'feminine', 'tapered', 'lighter', 'delicate', 'brunswick', 'bowled', 'shifty', 'eyed', 'genuinely', 'enthused', 'patting', 'flames', \"burnin'\", 'soaked', \"messin'\", 'banned', 'sugar-me-do', 'caricature', 'mt', 'lushmore', 'juke', 'raining', 'oww', 'jokes', 'incognito', 'gr-aargh', 'exact', 'equal', 'astonishment', 'puffy', 'however', 'confidentially', 'collateral', 'shark', 'finance', 'sledge-hammer', 'othello', 'drinker', 'sensible', 'presently', 'beast', 'savagely', 'tender', 'scout', 'arrested:', 'heather', 'locklear', 'fortensky', 'hugh', 'cuff', 'links', 'traditions', 'enthusiasm', 'other_player:', \"fightin'\", 'dizzy', 'nauseous', 'female_inspector:', 'toxins', 'pumping', 'steely-eyed', 'ahhhh', 'rascals', 'smelly', 'shtick', 'faceful', 'soot', 'william', 'faulkner', 'aggie', 'director:', 'stagehand:', 'luckily', 'orphan', 'owned', 'assent', 'wealthy', 'merchants', 'forgiven', 'prices', 'flailing', 'agh', 'little_hibbert_girl:', 'mmm-hmm', 'cheesecake', 'depository', 'all-american', 'cooking', 'chairman', 'wok', 'relaxing', 'madman', 'cooker', 'feedbag', \"fryer's\", 'navy', 'flash-fry', 'whining', \"g'on\", 'extinguishers', 'cheering', \"aren'tcha\", '50-60', 'mistakes', 'mistresses', 'quimby_#2:', 'quimbys:', 'bell', 'support', 'prejudice', 'hero-phobia', 'sickens', 'jubilation', 'committee', 'vicious', 'distract', 'safely', 'choices:', 'barney-guarding', 'contemplated', 'truck_driver:', 'dracula', 'marry', 'jovial', 'sickly', 'ura', 'snotball', '70', 'voyager', 'craft', \"tab's\", '14', 'alls', 'halfway', 'muscle', \"wino's\", 'muffled', 'inches', 'bullet-proof', 'student', 'aggravazes', 'immiggants', 'bothered', 'language', 'sentimonies', \"jimbo's_dad:\", \"dolph's_dad:\", 'throws', 'ugh', \"kearney's_dad:\", \"somethin's\", \"fun's\", 'two-drink', 'punishment', 'three-man', \"poundin'\", \"kid's\", 'beatings', 'spirit', 'prizefighters', 'perking', 'boxers', 'lobster', 'dressing', 'limits', 'arise', 'clincher', 'sixty', 'wantcha', 'faith', '1979', 'office', 'presentable', 'gruesome', 'democrats', 'causes', 'damage', 'boxcar', 'brawled', 'boxcars', 'fighter', 'mitts', 'barbed', 'stinger', 'drawn', \"tramp's\", 'stops', 'punching', \"'cept\", 'bindle', \"now's\", 'delightful', 'glitterati', 'highest', 'priority', 'temporarily', 'incarcerated', 'pushing', 'stairs', 'impending', 'strategizing', 'glorious', 'shores', 'fistiana', 'comeback', \"donatin'\", 'stalwart', 'pugilist', 'fights', 'sustain', 'verticality', \"tatum'll\", 'fustigate', 'fustigation', 'choice:', 'faded', 'tar-paper', 'naively', 'champion', 'evasive', 'charged', 'landfill', 'burg', 'pussycat', 'doll-baby', 'starla', 'starla:', 'wigs', \"starla's\", 'temp', 'k-zug', \"'kay-zugg'\", '530', 'launch', 'demo', 'housework', 'self-centered', 'though:', 'thawing', 'station', 'sink', 'broken:', 'foundation', 'helpful', 'crony', 'sam:', 'sympathizer', 'bumblebee_man:', 'compadre', 'kearney_zzyzwicz:', 'associate', 'contemporary', 'well-wisher', 'specific', 'harm', 'friday', 'düff', 'doof', 'sweden', 'skoal', 'nasty', 'refreshing', 'breathalyzer', 'recreate', 'alien', 'wittgenstein', 'backgammon', 'dana_scully:', 'felony', 'packets', 'mustard', \"fine-lookin'\", 'remorseful', 'anyhow', 'agents', 'mulder', 'edgy', \"s'cuse\", 'dimly', 'generously', 'raking', 'nervously', 'syndicate', 'ambrose', 'burnside', 'stonewall', 'jackson', 'mill', \"industry's\", 'aerospace', 'railroads', 'knowingly', 'hoped', \"bart'd\", 'mystery', \"swishifyin'\", 'effect', \"mtv's\", 'lessee', \"shootin'\", \"man'd\", 'wars', 'warren', 'grandkids', 'considers', 'st', 'metal', 'busiest', 'cheapskates', 'ireland', 'menacing', 'yew', 'bathtub', 'mint', 'julep', 'jane', 'fonda', 'daniel', 'schorr', 'anderson', 'richard', \"nixon's\", 'expecting', 'chauffeur', 'lift', \"washin'\", 'desperately', 'belly-aching', 'wh', 'abe', 'dea-d-d-dead', 'stooges', 'shopping', 'cans', 'wise', 'socratic', 'swelling', 'mushy', 'hearts', 'pinball', 'western', 'dishrag', 'crab', 'talkers', 'jewish', 'catch-phrase', 'grrrreetings', 'darn', \"tootin'\", 'fink', 'ping-pong', 'plug', \"usin'\", \"phone's\", 'four-drink', 'test-', 'test-lady', \"g'ahead\", 'clammy', 'lovelorn', 'you-need-man', 'moe-near-now', 'go-near-', 'endorsement', 'breakfast', 'rush', \"'evening\", \"'morning\", 'chauffeur:', '91', 'accidents', 'choose', 'whoever', 'stays', 'noooooooooo', 'pantsless', 'duffed', 'creates', 'awareness', 'bottomless', 'cheerleaders:', 'and:', 'perfunctory', 'brusque', 'ehhh', 'swell', 'wholeheartedly', 'supports', 'shaky', 'lecture', 'villanova', 'streetcorner', 'anger', 'ought', 'parasol', 'congratulations', 'cockroach', 'displeased', 'man_at_bar:', \"scammin'\", 'easter', 'giant', 'rumor', 'depression', 'depressant', 'sight-unseen', 'twenty-four', 'chipper', 'dirge-like', 'blooded', 'bachelorhood', 'jasper_beardly:', 'hot-rod', 'souped', 'gear-head', 'six-barrel', 'hollye', 'carb', 'betcha', 'edelbrock', 'intakes', 'meyerhof', 'lifters', 'dignity', 'breakdown', 'society', 'dateline:', 'burglary', 'creature', 'intoxicated', 'marjorie', 'heart-broken', 'sweater', 'cajun', 'sneering', 'choke', 'enthusiastically', 'stomach', 'bushes', 'tapping', 'further', 'zinged', 'spews', 'orifice', 'indifference', 'clapping', \"hawkin'\", 'vincent', \"floatin'\", 'horrors', 'unfresh', 'winston', 'wienerschnitzel', 'madison', 'avenue', 'robbers', 'various', 'impeach', 'crooks', 'allowance', 'cats', '$42', 'bury', 'businessman_#2:', 'boston', 'suits', 'vehicle', 'oooo', 'ignoring', 'followed', 'begging', 'combines', 'handling', 'rugged', 'driveability', 'sturdy', '4x4', \"ya'\", 'cadillac', 'automobiles', 'beefs', 'fat-free', 'th-th-th-the', 'groan', 'jay:', 'shoulda', 'shill', 'indifferent', '35', 'hammer', 'country-fried', 'endorsed', 'federal', 'ruled', 'unsafe', 'chorus:', 'lanes', 'sixty-five', 'tons', 'unexplained', 'fires', 'courts', 'blinds', 'squirrel', 'squashing', \"smackin'\", 'canyoner-oooo', 'hyahh', 'blissful', 'hiding', 'rash', 'whatchacallit', 'homesick', 'diving', 'tourist', 'pennies', 'micronesian', 'swamp', 'mirror', 'puke-pail', \"fendin'\", 'starlets', 'pointy', 'ugliness', 'dozen', 'ram', 'players', 'maxed', 'tenuous', 'pinchpenny', 'besides', 'tabs', 'ungrateful', 'ingrates', \"renee's\", 'insured', 'wreck', 'awkwardly', 'insist', 'model', 'represents', 'olive', \"car's\", 'toy', 'waterfront', \"department's\", 'moonlight', 'cruise', 'righ', 'alibi', 'tracks', '10:15', 'wham', 'insurance', 'clams', 'troubles', 'betrayed', 'low-life', 'y-you', 'hmf', 'locked', 'clearing', 'graveyard', 'we-we-we', 'brandy', 'fwooof', 'hawaii', 'yelp', 'murderously', 'oh-ho', \"g'night\", 'mommy', 'sincerely', 'tearfully', 'beady', \"homer'll\", 'naval', 'strictly', 'forbids', 'hah', 'thorn', 'grants', 'wondered', \"that'd\", 'heatherton', 'tempting', 'agent_miller:', 'flashing', 'badge', 'united', 'states', 'wiping', 'signal', 'activity', 'cause', 'commit', 'crimes', 'fired', 'moonshine', 'basement', 'telemarketing', 'uhhhh', 'george', 'seething', 'charlie:', 'militia', 'sorts', 'officials', 'drag', 'high-definition', 'conspiracy', 'musta', 'ratted', 'transmission', 'disaster', 'wishful', 'elect', 'vengeful', 'slogan', 'appeals', 'slobs', 'triumphantly', 'u2:', 'sanitation', 'blokes', 'courteous', 'easygoing', 'the_edge:', 'overflowing', 'bono:', 'arse', 'knocks', 'omit', 'detail', 'spellbinding', 'thomas', 'dictating', 'fluoroscope', 'repeating', 'telegraph', 'breathless', 'firm', 'believer', 'fletcherism', 'heliotrope', 'alva', 'wore', 'pajamas', 'rubs', 'temples', 'menlo', 'tasimeter', 'ore', 'separator', 'watt', 'steam', 'engine', 'unusually', 'focused', 'squeal', 'waste', \"somebody's\", 'gus', 'yoink', 'peeved', 'citizens', 'murdered', 'watered', 'highball', 'derisive', 'grocery', 'absorbent', 'youuu', 'ointment', 'aisle', 'coy', 'kim_basinger:', 'alec_baldwin:', 'ron_howard:', 'statesmanlike', 'doctor', 'polenta', 'life-threatening', 'donor', 'sucker', 'lists', 'spine', 'vestigial', 'plaintive', 'buttocks', 'harvesting', 'eyeing', 'hostile', \"'round\", 'y', 'dime', 'quimby', 'puke-holes', 'reserved', 'cronies', 'düffenbraus', 'semi-imported', 'guzzles', 'generosity', 'greatly', 'appreciated', 'stagey', 'roach', 'hubub', 'sniper', 'blessing', 'disguise', 'ruuuule', 'die-hard', 'winded', \"brockman's\", 'microphone', 'woooooo', 'ga', 'ninth', 'outs', 'j', \"'s\", 'jumping', 'technical', 'stan', 'kadlubowski', 'injury', \"football's\", 'champs', 'harrowing', 'enjoys', 'scornful', 'bronco', 'nagurski', 'reconsidering', 'coupon', 'travel', 'agency', 'charter', 'dreamily', 'quarterback', 'wally', 'it:', 'count', 'broncos', 'hillary', 'adventure', 'assassination', 'scarf', 'lance', 'supervising', 'bumbling', 'sidekick', 'infiltrate', 'idiots', 'destroyed', 'shipment', 'indeedy', 'insulin', 'haplessly', \"spaghetti-o's\", 'dum-dum', 'unintelligent', 'shutup', 'diminish', 'bid', 'encore', 'encores', 'reactions', 'clap', 'erasers', 'sideshow_mel:', 'barbara', 'arts', 'stalking', 'bumped', 'sympathy', 'guiltily', 'maude', 'shriners', 'old_jewish_man:', 'traitor', 'astrid', 'dealer', 'gunter', 'cecil', 'hampstead-on-cecil-cecil', 'eurotrash', 'gunter:', 'adrift', 'decadent', 'luxury', 'meaningless', 'located', 'cecil_terwilliger:', 'hotel', 'practice', 'affectations', 'bon', 'soir', 'feld', 'priceless', 'sketch', 'certificate', 'authenticity', 'sketching', 'twelve-step', 'novelty', 'item', 'chosen', 'squadron', '8', 'monday', 'municipal', 'fortress', 'vengeance', 'studied', 'fastest', 'theory', 'donut-shaped', 'universe', 'intriguing', 'computer_voice_2:', 'larry', 'flynt', 'stink', \"hell's\", 'jazz', 'regretted', 'helpless', 'frescas', 'hushed', \"bladder's\", 'urine', 'demand', 'slaps', 'extreme', 'slapped', \"duelin'\", 'shack', \"b-52's:\", 'sat-is-fac-tion', 'feat', 'forgotten', 'depressed', 'shred', 'shreda', 'rivalry', 'spreads', 'wildfever', 'th', 'writer:', 'preparation', 'additional-seating-capacity', 'ivy-covered', 'founded', 'kegs', 'imported-sounding', 'tuborg', 'kings', 'accounta', 'sun', 'sky', 'sail', 'waters', 'theme', 'tyson/secretariat', 'wildest', 'calendars', 'liquor', 'examines', 'expired', '1973', 'rhode', 'signed', 'updated', 'poster', 'moe-lennium', 'sticker', 'viva', 'relative', 'stickers', 'uglier', 'pigtown', 'cauliflower', 'ear', 'lizard', 'caveman', 'snout', 'emphasis', 'maher', 'crapmore', 'kisser', 'spotting', 'windowshade', 'grope', 'softer', 'complicated', 'maintenance', \"neat's-foot\", 'hooters', 'wraps', 'crushed', 'hike', 'mabel', 'voted', 'chastity', 'bono', 'influence', 'glummy', 'shindig', 'videotaped', 'slot', 'package', 'tha', 'occasion', 'older', 'flew', 'upsetting', 'stage', 'talkative', 'coherent', 'yourse', 'soaking', 'shag', 'disgracefully', 'presents', 'without:', 'morning-after', 'boozebag', 'whirlybird', 'b-day', 'punkin', 'tanking', \"handwriting's\", 'afloat', 'santeria', 'breaks', 'straighten', 'finish', 'suspiciously', 'world-class', 'alcoholism', 'raging', 'barney-type', 'bad-mouth', 'catty', 'consulting', 'amends', 'disgraceful', 'behavior', 'barstools', 'closet', 'drop-off', 'bulletin', 'broken', 'trapping', 'youngsters', 'trucks', 'unavailable', 'blaze', 'burt_reynolds:', 'feisty', 'supreme', 'court', 'birth', 'competing', 'cross-country', 'race', 'flown', 'heroism', 'charges', 'binoculars', 'grieving', 'slab', 'tear', 'reluctantly', 'clenched', 'resigned', 'according', 'uses', 'appearance-altering', 'cosmetics', 'warned', 'tall', 'clandestine', 'disturbing', 'pulitzer', 'guinea', 'chew', 'telephone', 'experiments', 'ears', 'winces', 'hmmmm', 'dawning', 'appalled', 'fire_inspector:', 'brainiac', 'distinct', 'strain', 'anti-intellectualism', 'einstein', 'appendectomy', 'lipo', 'sampler', 'dramatically', 'crayon', 'art', 'carney', 'flourish', 'crayola', 'oblongata', 'deeper', 'pusillanimous', 'pilsner-pusher', 'inanely', 'extended', 'warranty', 'sacajawea', 'manatee', 'cranberry', 'aah', 'painted', 'choices', 'scanning', \"soakin's\", 'nectar', 'nitwit', \"knockin'\", 'badmouths', \"o'\", 'mindless', 'droning', 'befriend', \"raggin'\", 'conditioners', 'loneliness', 'guttural', 'heartless', 'owns', 'family-owned', 'eye-gouger', 'brine', 'massive', 'occasional', 'total', 'rip-off', 'gangrene', 'cup', \"coffee'll\", 'waking-up', 'instantly', \"nick's\", 'rude', 'hitchhike', 'emergency', 'dollface', 'nash', 'bridges', 'illegally', 'smuggled', '2nd_voice_on_transmitter:', '3rd_voice:', 'presses', 'snitch', 'lotsa', 'mission', 'fireworks', 'incriminating', 'recorder', 'hootie', 'blowfish', 'cheaper', 'blank', 'wells', 'aer', 'lingus', 'leprechaun', 'cursed', \"heat's\", 'dejected', 'slugger', 'italian', \"spyin'\", 'assumed', 'stupidest', 'valley', 'series', 'quitcher', 'bellyaching', 'dumb-asses', 'yak', \"d'ya\", 'shesh', 'smiled', 'nailed', 'jigger', 'illustrates', 'swigmore', 'fills', 'alma', 'mater', 'rekindle', 'urban', \"tinklin'\", 'chips', \"when's\", 'natured', 'splattered', 'fonzie', 'hemorrhage-amundo', 'yello', 'booger', 'dirty', 'teen', 'hardhat', 'wrecking', 'giggle', 'fainted', 'prettied', 'renew', 'zeal', 'twentieth', 'dean', 'design', 'certified', 'contractors', 'pages', 'hippies', 'rem', 'apology', 'eco-fraud', 'reluctant', 'rainforest', 'peter_buck:', 'michael', 'supplying', 'mike_mills:', 'gluten', 'ate', 'michael_stipe:', 'mmmmm', 'alternative', 'rockers', 'gabriel', 'mortal', 'equivalent', 'gabriel:', 'temper', 'deliberately', 'girl-bart', 'loathe', 'knives', \"lady's\", \"'n'\", 'creme', 'martini', 'amber_dempsey:', 'annoying', 'night-crawlers', 'bragging', 'mole', 'wowww', 'amber', 'proves', 'buffet', 'clothespins', 'attach', 'clothespins:', 'swallowed', 'inserted', 'clipped', 'sixteen', 'magnanimous', \"clancy's\", 'op', 'lovers', 'newsweek', 'failure', 'thrust', 'trivia', 'lifetime', 'supply', 'chug-monkeys', 'beverage', 'hops', 'grains', 'grain', \"time's\", 'reading:', 'woulda', 'arrange', 'escort', 'orgasmville', 'enlightened', 'television', 'producers', 'booking', 'mid-seventies', 'alky', \"round's\", 'payday', 'rented', 'swings', \"battin'\", 'cage', 'perverted', 'winner', 'sprawl', 'hockey-fight', 'settled', \"what'd\", 'lookalike:', 'chuck', 'exited', 'trunk', 'rainier', 'wolfcastle', 'ab', 'roller', 'backward', 'leftover', 'lookalike', 'lookalikes', 'macaulay', 'culkin', 'killing', 'alpha-crow', 'enveloped', 'crow', 'crowbar', 'sloppy', 'wacky', 'tobacky', 'spacey', 'intervention', 'poisoning', 'excuses', 'funeral', 'interrupting', 'forty-seven', 'here-here-here', 'pepper', 'shaker', 'dash', 'dinks', 'squishee', 'canoodling', 'junkyard', 'rabbits', 'soothing', 'promise', 'tropical', 'windelle', 'muhammad', 'ali', 'anti-lock', 'brakes', 'johnny', 'mathis', 'versus', 'pepsi', 'meditative', 'lily-pond', 'fry', 'squirrels', 'super-genius', 'certainly', 'lenford', 'celebration', 'pasta', 'mini-beret', \"this'll\", 'speed', 'nos', 'killer', 'stab', 'simon', 'up-bup-bup', \"pickin'\", 'homer_doubles:', 'len-ny', 'piano', 'cell-ee', 'cattle', \"rustlin'\", \"calf's\", 'sneak', 'snatch', 'ghouls', 'grammy', 'judges', 'perfected', 'device', 'flayvin', 'space-time', 'continuum', \"wait'll\", 'wasted', 'plotz', 'absentminded', 'polishing', 'diapers', 'yuh-huh', 'alter', 'consciousness', 'glitz', 'glamour', 'beligerent', 'liable', 'taunting', 'accelerating', 'snapping', 'cab_driver:', 'newest', 'supermodel', 'longest', 'spit-backs', \"tonight's\", 'cock', 'scoffs', 'tokens', 'reality', 'gimmick', 'lincoln', 'kennedy', 'mckinley', 'simple', 'slit', 'quick-like', 'sideshow_bob:', 'haikus', 'skinheads', 'concentrate', 'detective', 'unbelievable', 'digging', 'intimacy', 'cobbling', 'shoes', 'schizophrenia', 'hiring', 'swan', 'delts', 'clench', 'bulked', 'managed', 'femininity', 'fierce', 'glyco-load', 'ripping', 'gel', 'frightened', 'sacrifice', 'period', 'delicately', 'yammering', 'pile', 'disco_stu:', 'stu', 'ducked', 'slim', 'bupkus', 'perplexed', 'rump', 'payback', 'revenge', 'subscriptions', 'brick', 'cerebral', 'booze-bags', 'victorious', 'gallon', 'icelandic', 'boyhood', 'anti-crime', 'dealie', 'streetlights', 'strongly', 'pro', 'con', \"i'unno\", 'superdad', 'crystal', 'cheaped', 'shelf', 'paramedic:', 'ingested', 'defiantly', 'ihop', 'burger', 'absentmindedly', \"doctor's\", 'neanderthal', 'taylor', 'ing', 'voters', 'november', 'practically', 'everywhere', 'resenting', 'appreciate', 'shout', 'f-l-a-n-r-d-s', 'flame', 'researching', 'indigenous', 'overhearing', 'delightfully', 'byrne', 'singer', 'artist', 'composer', 'wrestle', 'el', 'diablo', 'philip', 'rewound', 'produce', 'rolls', 'kahlua', 'fleabag', 'unsanitary', \"wearin'\", 'walked', 'dark', 'dreary', 'drunkening', 'hangover', 'barber', 'frat', 'julienne', 'potatoes', 'groin', 'shortcomings', 'banquet', 'poulet', 'au', 'vin', 'avec', 'champignons', 'kisses', 'botanical', 'gardens', 'blossoming', 'sumatran', 'occurs', 'customers-slash-only', 'replaced', \"mopin'\", 'alarm', 'tummies', 'elves:', 'cakes', 'pets', 'brotherhood', \"i'd'a\", 'pizza', \"y'money's\", 'counter', 'leonard', 'competitive', 'macgregor', 'musketeers', 'accusing', 'lungs', 'devils:', 'apulina', 'including', 'bouquet', 'earrings', 'hilton', \"city's\", 'society_matron:', 'remote', 'sharity', 'aristotle:', 'weep', 'mamma', 'flush-town', 'population', 'nonchalant', 'ninety-eight', 'outstanding', 'flush', 'jacks', 'multi-national', 'manipulation', 'macho', 'undermine', 'affects', 'majority', 'shareholder', 'inherent', 'legal', 'liability', 'malfeasance', 'result', 'deny', 'showed', 'louse', 'jogging', 'intruding', 'sending', 'swooning', 'odor', 'eaters', 'beanbag', 'temple', 'doom', 'gentle', 'nightmares', 'orders', 'contemptuous', 'chateau', 'latour', 'eighteen', 'eighty-six', 'initially', \"collector's\", 'bidet', 'ladder', 'fountain', 'in-in-in', 'chipped', 'nail', 'sticking', 'poke', 'bachelor', 'peaked', 'and/or', 'buddies', 'chug-a-lug', 'a-lug', 'disposal', 'boisterous', 'exciting', 'photographer', 'van', 'notch', 'wiggle', 'friction', 'killjoy', 'wussy', 'grinch', 'consoling', 'picked', 'zoomed', 'junebug', 'windshield', \"secret's\", 'bail', \"bringin'\", 'easily', 'sobriety', 'urge', 'sponsor', 'white_rabbit:', 'lorre', 'warmth', 'penmanship', 'sucks', 'anyhoo', 'cyrano', 'americans', 'permanent', 'visas', 'dutch', \"leavin'\", \"president's\", 'rebuttal', 'mull', 'mugs', \"thinkin'\", 'symphonies', 'fuhgetaboutit', 'filth', 'oughta', 'hideous', 'frankie', 'fella', 'dads', 'malted', 'tooth', 'blinded', \"soundin'\", 'thorough', 'winks', 'infestation', 'sanitary', 'utensils', 'hygienically', 'stored', 'parked', 'hydrant', 'exhale', 'whaddya', 'hunky', 'dory', 'rife', 'starters', 'predecessor', 'trash', 'wednesday', 'chicken', 'skins', 'dispenser', 'john', 'danny', 'mountain', \"summer's\", 'falling', 'bide', 'tribute', 'e', 'acceptance', 'hafta', 'reopen', 'crestfallen', 'nor', 'pen', 'parrot', 'brief', 'contact', 'blocked', 'protecting', 'investment', 'cigars', 'microwave', 'beans', 'stupidly', 'jerk-ass', 'doy', 'cheerier', 'darkness', 'tactful', 'remodel', \"changin'\", 'susie-q', 'face-macer', 'guff', 'grub', 'proper', 'old-time', 'whaaa', 'britannia', 'meatpies', 'lager', 'classy', 'asses', 'so-ng', 'arm-pittish', \"renovatin'\", 'drapes', \"idea's\", 'lindsay', 'naegle', 'mis-statement', 'allow', 'credit', 'bumpy-like', 'counterfeit', 'moe-clone', 'socialize', 'e-z', 'oopsie', \"enjoyin'\", 'adult', 'tickets', \"santa's\", 'sleigh-horses', 'sells', 'impress', \"liftin'\", 'dumbbell', 'forty-nine', 'ninety-nine', \"lefty's\", 'victim', 'hustle', \"breakin'\", 'nerd', 'sugar-free', 'flat', 'buds', 'goldarnit', 'life-partner', 'whup', 'yee-ha', 'gol-dangit', \"dimwit's\", 'kazoo', 'head-gunk', 'hears', 'cocking', 'texan', 're-al', 'moe-heads', 'polls', 'negative', 'ads', 'hurting', 'homeless', 'bum:', 'annual', 'w-a-3-q-i-zed', 'mason', 'arrived', \"rentin'\", 'las', 'nevada', 'stingy', 'rat-like', 'sued', 'settlement', 'partially', 'risqué', 'plane', 'soul-crushing', 'blackjack', 'nelson_muntz:', 'nelson', 'pair', 'paints', 'noggin', 'meanwhile', \"yieldin'\", 'moe_recording:', 'ew', 'considering:', \"table's\", 'wobbly', 'jam', 'ford', 'captain', 'kirk', 'five-fifteen', 'eternity', 'fortune', 'fica', 'helping', 'steamed', 'cappuccino', '-ry', 'otherwise', 'neighbors', 'wife-swapping', 'strolled', 'donation', 'lewis', 'notorious', 'idealistic', 'law-abiding', 'archaeologist', 'excavating', 'mayan', 'pyramid', 'unearth', 'pre-columbian', 'donate', 'statues', 'handed', 'dilemma', 'edner', \"playin'\", 'coin', 'poorer', 'worldly', 'possessions', \"'ceptin'\", 'nucular', 'obsessive-compulsive', 'powered', 'non-american', \"tv's\", 'misfire', 'prolonged', 'playoff', \"hobo's\", 'owes', 'fist', \"puttin'\", 'screws', \"tony's\", 'all-all-all', 'stars', 'firing', 'pure', 'polish', 'heck', \"challengin'\", 'sudoku', 'puzzle', 'numeral', 'repeated', 'column', 'salvation', 'cocks', 'stripes', 'repay', 'colonel:', 'fishing', \"listenin'\", 'bursts', 'published', 'author', 'earlier', 'newly-published', 'snail', 'trail', 'name:', 'bonfire', 'vanities', 'coined', 'phrase', 'radical', 'chic', \"squeezin'\", \"'roids\", 'vermont', 'thrilled', \"wouldn't-a\", 'outlive', 'wizard', 'upn', 'assert', 'herself', 'backbone', 'notices', 'unlocked', 'beeps', 'declan', 'fruit', 'oddest', 'thing:', 'affection', 'knuckle-dragging', 'sub-monkeys', \"sippin'\", 'cuckoo', 'de-scramble', 'scrutinizing', 'shoe', 'inserts', \"writin'\", 'creepy', 'kills', 'title:', 'pontiff', 'gargoyles', 'good-looking', 'open-casket', 'material', 'sour', 'paparazzo', 'joy', 'robin', 'williams', 'bits', 'co-sign', 'photos', 'turlet', 'attractive_woman_#1:', 'attractive_woman_#2:', 'trade', 'bras', 'panties', 'volunteer', 'assume', 'dentist', 'mary', \"school's\", 'bake', \"betsy'll\", 'runs', 'depending', 'strips', 'eggshell', 'malabar', 'ivory', 'mediterranean', 'ecru', 'tow', 'lobster-politans', 'smelling', 'one-hour', 'zone', 'correction', 'lobster-based', 'designer', 'laughter', 'unhook', 'moving', 'tow-talitarian', 'totalitarians', 'stalin', 'forced', 'labor', 'insensitive', 'winch', 'enforced', 'fatty', 'ralph', 'ralphie', 'tow-joes', 'territorial', \"family's\", 'remembers', 'process', 'splash', 'jaegermeister', 'add', 'sloe', 'triple-sec', 'quadruple-sec', 'gunk', \"dog's\", 'absolut', 'stripe', 'aquafresh', 'funniest', 'venom', 'louisiana', 'loboto-moth', 'sweetie', 'pregnancy', 'presto:', 'ultimate', 'bleacher', 'menace', 'swig', 'wipes', 'entering', 'forget-me-drinks', 'rickles', 'arabs', 'gibson', 'mexicans', 'grammys', 'hispanic_crowd:', 'jeers', 'sternly', 'disturbance', 'filed', 'infor', 'ripper', 'doppler', \"queen's\", 'surgeonnn', 'piling', 'unkempt', 'attractive', 'spits', 'bottoms', 'retain', 'misconstrue', \"cuckold's\", 'horns', 'moon-bounce', 'amiable', 'newsies', 'scruffy_blogger:', 'access', 'politicians', 'issues', 'declare', 'frontrunner', 'mansions', 'abolish', 'democracy', 'dictator', 'juan', 'perón', 'madonna', 'dennis', 'kucinich', 'twerpy', 'unbelievably', 'manuel', 'fake', 'moustache', 'ees', 'mild', 'backing', 'reminded', 'quarry', 'stones', 'woodchucks', 'mailbox', 'cell', 'butter', 'tasty', 'almond', 'listens', 'compromise:', 'luckiest', 'remaining', 'scratcher', 'kick-ass', 'shush', 'propose', 'willing', 'halvsies', 'lugs', 'splendid', 'weather', 'way:', 'tying', 'crippling', 'refinanced', 'twenty-six', 'cowboy', 'encouraged', 'half-day', 'encouraging', 'widow', 'option', 'pep', 'squad', 'cheered', 'runners', 'ninety-seven', 'break-up', 'cheated', 'showered', 'soaps', 'massage', 'oils', 'maiden', 'nicer', \"she'll\", 'parenting', 'childless', 'goodwill', 'attached', 'direction', \"mecca's\", \"don'tcha\", 'oughtta', 'dint', \"son's\", \"bashir's\", 'derek', 'jeter', 'mariah', 'carey', 'muslim', 'espousing', 'view', 'fbi_agent:', 'fayed', 'statue', \"liberty's\", 'principles', 'discriminate', 'employment', 'housing', 'patriotic', 'bauer', 'sanctuary', 'super-tough', 'africanized', 'honeys', 'environment', 'dna', 'strains', 'species', 'protesting', 'inclination', 'anonymous', 'partners', 'privacy', 'buzziness', 'connor-politan', 'oh-so-sophisticated', 'connor', 'kidneys', 'guilt', 'haircuts', 'graves', 'dig', 'ballot', 'gore', 'presidential', 'stolen', 'falsetto', 'albert', 'landlord', 'and-and', 'getaway', 'flanders:', 'expose', 'dateline', 'nominated', 'peabody', 'exclusive:', 'forty-two', 'evergreen', 'terrace', 'suburban', 'actress', 'billiard', \"spiffin'\", 'inquiries', 'enabling', 'mags', 'taught', 'abcs', 'a-b-', 'forgets', 'p-k', \"s'pose\", \"cleanin'\", 'month', \"she'd\", 'stood', 'regretful', 'term', 'tidy', 'benjamin', 'life-sized', 'legoland', \"stealin'\", 'chinese_restaurateur:', 'espn', 'ling', 'chow', 'passenger', 'incredible', 'thought_bubble_lenny:', \"somethin':\", 'generally', 'limericks', 'coast', 'massachusetts', 'nantucket', 'unusual', 'personal', 'characteristic', 'simplest', 'a-a-b-b-a', 'dumbass', 'whistling', 'nonchalantly', 'chained', 'tomato', 'tomahto', 'comedies', 'reckless', 'gesture', 'blows', 'sidelines', \"who'da\", 'chapter', 'insults', 'disguised', 'suspenders', 'circus', 'clown-like', 'insecure', 'envy-tations', 'hate-hugs', 'spamming', 'faint', 'praise', 'frozen', 'toledo', 'take-back', \"people's\", 'eager', 'happily:', 'community', 'playhouse', 'bathed', 'glowers', 'sticking-place', 'fail', 'x-men', '2', 'macbeth', 'mac-who', 'gulliver_dark:', 'bedridden', 'unable', 'toe', 'paintings', 'melodramatic', 'nonsense', 'training', 'bleeding', \"murphy's\", \"pressure's\", 'bon-bons', 'declared', 'microbrew', 'cobra', 'solves', 'cupid', 'unattended', 'fl', 'ventriloquism', 'approval', 'cure', 'ails', 'cuddling', 'steaming', 'cocoa', 'rainbows', 'surprised/thrilled', 'full-bodied', 'full-blooded', 'harmony', 'loyal', 'hemoglobin', \"disrobin'\", 'rosey', 'bubbles-in-my-nose-y', \"mo'\", 'musical', 'kodos:', 'measure', 'distance', 'unrelated', 'seductive', 'cologne', 'shaved', 'knuckles', 'shakes', 'handwriting', 'idioms', 'midge:', 'gayer', 'occurred', 'timbuk-tee', 'fast-paced', 'nibble', 'teriyaki', 'frenchman', 'spoon', 'duke', 'amnesia', 'missing', 'squeeze', 'irishman', 'pretends', \"o'reilly\", 'radiator', 'rebuilt', 'briefly', 'uncreeped-out', 'mines', 'taste', 'romance', 'perverse', 'hearse', 'civil', 'nurse', 'proof', 'simultaneous', 'i/you', 'finale', 'indicates', 'half-beer', 'enjoyed', 'halloween', 'treehouse', 'horror', 'xx', 'shhh', 'habitrail', 'donuts', 'meals', 'philosophical', 'southern', 'indeed', 'gator', 'mccall', 'recruiter', 'specializes', 'headhunters', 'valuable', 'protesters', 'marched', 'plants', 'radiation', \"poisonin'\", 'passports', 'loafers', 'hooray', 'nap', 'awake', 'meteor', 'flexible', 'marshmallow', 'dumbest', \"stabbin'\", 'humanity', 'mocking', 'official', 'releasing', 'hounds', 'releases', 'wolverines', 'horses', \"eatin'\", 'wish-meat', 'bust', 'exchanged', 'whispered', 'huddle', 'nursemaid', \"elmo's\", 'reunion', 'andrew', 'mccarthy', 'attend', 'lied', 'itchy', 'planted', 'chair', 'refill', 'cozies', 'sassy', 'cushions', 'cushion', 'flash', 'drives', 'data', 'hammy', 'estranged', \"tomorrow's\", 'forecast', 'cloudy', 'sunny', 'guessing', 'thunder', 'storms', 'exultant', 'ahem', 'wagering', 'installed', \"america's\", \"blowin'\", 'homeland', 'mm-hmm', 'tsking', 'presided', 'suave', 'debonair', 'offa', \"narratin'\", 'cricket', 'uniforms', 'rain', \"'pu\", 'she-pu', 'everyday', 'mimes', 'saving', 'gheet', 'darjeeling', 'limited', 'low-blow', 'boxer:', 'pre-recorded', 'rug', \"mother's\", 'panicked', 'carny:', 'teacup', 'whispers', 'rutabaga', 'putty', 'innocuous', 'flashbacks', 'ferry', 'pointedly', 'lovejoy', 'ralph_wiggum:', 'popping', 'man_with_crazy_beard:', 'outrageous', 'beard', 'expense', 'beards', \"askin'\", 'scatter', 'cockroaches', 'rip', 'stretch', 'tee', 'california', 'judgments', 'legally', 'side:', 'murdoch', 'rupert_murdoch:', 'jay', 'leno', 'jay_leno:', 'iran', 'weapon', 'rig', 'leak', 'disappear', 'nbc', 'howya', 'button-pusher', 'obama', 'booth', 'cliff', 'lee', 'zack', 'grenky', 'completely', 'colossal', 'exception:', 'inning', 'domed', 'bunion', 'notably', 'ineffective', 'portentous', 'dexterous', 'understood', 'poin-dexterous', 'laid', 'key', 'developed', 'statistician', 'bill_james:', 'taxes', 'eight-year-old', 'ballclub', 'sagacity', 'stengel', 'single-mindedness', 'steinbrenner', 'stein-stengel-', 'stats', 'ratio', 'occupied', 'sobo', 'conversion', 'factor', 'refreshingness', 'effervescence', 'benjamin:', 'minus', 'rueful', 'advertise', 'specials', 'scientific', 'annus', 'horribilis', 'resolution', 'fixes', 'courthouse', 'compare', 'exquisite', 'reward', 'planned', 'addiction', 'compels', 'executive', 'average-looking', '_burns_heads:', 'hangout', 'offense', 'whatchamacallit', 'swishkabobs', \"grandmother's\", 'urinal', \"getting'\", 'renovations', \"friend's\", 'lainie:', 'carlotta:', 'jägermeister', 'pink', 'lemonade', 'strawberry', 'chapstick', \"cupid's\", 'wazoo', 'drains', 'scram', 'crinkly', 'eva', 'braun:', \"man's_voice:\", 'huhza', '3', 'whoopi', 'seminar', 'motor', 'lodge', 'tornado', 'kissingher', 'earth', 'casting', 'pall', 'serum', 'walther', 'hotenhoffer', 'pharmaceutical', 'occupation', 'renders', 'tolerable', 'normals', 'irrelevant', 'elaborate', 'extract', 'synthesize', 'scrutinizes', 'grease', 'germans', 'when-i-get-a-hold-of-you', 'dammit', 'typed', 'rapidly', 'donated', 'haiti', \"y'see\", 'pushes', 'strangles', 'sue', 'hollowed-out', 'contented', 'phony', 'grin', 'plastered', 'freaky', 'slipped', 'mickey', 'churchy', 'brainheaded', 'fence', 'sheet', 'wistful', 'prayers', 'choked', 'iddilies', 'diddilies', 'christian', 'wuss', 'confession', 'make:', 'solely', 'noble', 'intention', 'two-thirds-empty', 'poetry', 'multi-purpose', 'email', 'edna-lover-one-seventy-two', 'lowest', \"edna's\", 'drummer', 'gulps', 'plucked', 'wikipedia', 'frankenstein', 'neighboreeno', 'plain', 'bagged', 'tiger', 'prompting', 'sen', 'cesss', 'surprising', 'entrance', 'jewelry', 'pronto', 'drawer', \"linin'\", 'presidents', 'upgrade', 'commanding', 'appropriate', 'reaction', 'sooo', 'fresco', \"speakin'\", 'farthest', 'drove', 'roz', 'ditched', 'lady-free', 'eighty-three', 'souvenir', 'sizes', 'hare-brained', 'schemes', 'pillows', 'adopted', 'capuchin', 'bonding', 'phase', 'safecracker', 'caper', 'fantasy', 'novel', 'brag', 'publish', 'modestly', 'lucinda', 'placed', 'fifth', 'shard', 'stained-glass', 'read:', \"'your\", 'parents', \"'\", 'gregor', 'understood:', 'journey', 'reader', 'selection', 'steampunk', 'frink-y', 'mock-up', 'title', 'tuna', 'itself', 'kansas', 'golden', 'literary', 'lis', 'milhouses', 'jacksons', 'xanders', 'aidens', 'dreamy', 'aiden', 'vampire', 'transylvania', 'prep', 'brooklyn', 'fuzzlepitch', 'bloodball', 'lame', 'publishers', 'sistine', 'chapel', 'mural', 'hems', 'haws', 'watched', 'bluff', 'conversations', 'annie', 'meaning', 'brain-switching', 'ceremony', 'sleeping', 'switched', 'dashes', 'lennyy', 'sheets', 'wind', 'dignified', 'stumble', 'typing', 'lead', 'pledge', 'allegiance', 'conclude', 'thanking', 'hosting', 'fumigated', 'er', 'adjourned', 'convenient', 'sangre', 'de', 'los', 'muertos', 'friend:', 'mexican', 'mexican_duffman:', 'ho-la', 'pepto-bismol', 'facebook', 'scrubbing', 'hardy', 'unhappy', 'taxi', 'wears', 'nemo', 'brace', 'lear', 'be-stainèd', 'swatch', 'gentles', 'begin', 'medieval', 'self-satisfied', 'tapestry', 'sponge:', 'gutenberg', 'bartholomé:', 'overstressed', 'helps', 'recap:', 'unjustly', 'lofty', 'perch', 'wound', 'barter', 'persia', 'raggie', 'continued', 'enterprising', 'seamstress', 'fledgling', 'thousand-year', 'grace', 'predictable', 'startled', 'sensitivity', 'jobless', 'washouts', 'error', 'blamed', 'rent', 'pizzicato', 'buyer', 'specified', 'stepped', 'done:', 'arguing', 'guts', 'rationalizing', 'pack', 'adjust', 'runaway', 'monorails', 'nascar', 'gordon', 'jeff_gordon:', \"plank's\", 'land', 'traitors', 'lou', 'eliminate', 'bulldozing', 'tire', 'sinkhole', 'administration', 'solved', 'fears', 'most:', \"s'okay\", 'nuked', 'swimmers', 'shame', 'wrap', 'plums', 'tin', 'philosophic', 'samples', 'shelbyville', 'sperm', 'necklace', 'eww', 'fund', 'lend', 'sesame', 'frogs', 'settles', 'woe:', 'gamble', \"daughter's\", 'fdic', 'grubby', 'site', 'onion', 'rings', 'badmouth', 'country', 'prettiest', \"aristotle's\", 'poetics', 'rice', 'promotion', 'poured', 'hooky', 'throats', 'grind', 'crunch', 'nature', 'dipping', 'edge', 'groveling', 'brown', 'wiggle-frowns', 'abusive', 'tolerance', 'dejected_barfly:', 'slurred', 'hammock', 'bleak', 'icy', 'chill', 'dropping', 'janette', 'cheryl', 'rotten', 'pretend', 'improv', 'imaginary', 'chip', 'ends', 'skydiving', \"pullin'\", 'app', 'random', 'occurrence', 'squeezed', 'sap', \"choosin'\", 'adequate', 'carnival', 'miracle', \"tree's\", 'disillusioned', 'reporter', 'kenny', 'brockelstein', 'investigating', 'cartoons', 'thirty-three', 'short_man:', 'gruff', 'rancid', 'innocence', 'man_with_tree_hat:', 'hoax', 'tree_hoper:', 'crappy', 'pretentious_rat_lover:', 'manchego', 'aziz', 'lurks', 'racially-diverse', 'network', 'experienced', 'acronyms', 'kinderhook', 'collapse', 'rome', 'inexorable', 'march', 'progress', '_eugene_blatz:', 'slaves', 'supermarket', 'starve', 'unsourced', 'undated', 'convinced', 'beyond', 'suspended', 'voodoo', 'curse', 'gestated', 'popped', 'acquitted', 'nightmare', 'in-ground', 'shades', 'grey', 'what-for', 'fiction', 'sheriff', 'kissed', 'said:', 'imitating', 'griffith', \"'now\", 'aunt', 'asks', \"fishin'\", \"hole'\", 'argue', 'stirrers', 'holy', 'faiths', 'easy-going', 'offshoot', 'protestantism', 'handler', \"thing's\", 'rims', 'ribbon', 'cherry', 'blurbs', 'sedaris', 'flack', 'pews', 'catholic', 'sexton', 'rector', 'whim', \"nothin's\", 'mid-conversation', 'padres', 'tigers', 'polygon', 'hexa-', 'octa-', 'decide:', 'loudly', \"beggin'\", 'legend', 'buzz', 'recorded', 'options', 'carefully', 'committing', 'press', 'life-extension', 'male_singers:', 'painless', 'brings', 'delays', 'ron', 'moe-ron', 'libraries', 'newspaper', 'rods', 'compressions', 'gees', 'singing/pushing', \"stayin'\", 'living', 'fools', 'lease', 'post-suicide', 'afterglow', 'shorter', 'applesauce', 'leaving', 'choked-up', 'passes', 'reentering', 'noosey', 'noose', 'worldview', 'cleaning', 'growing', 'carpet', 'layer', 'congoleum', 'hardwood', 'jig', 'improved', 'non-losers', 'getcha', 'aged', 'venture', 'capitalists', 'mostly', 'kentucky', 'kool', 'aid', 'fantastic', 'startup', 'branding', 'specialists', 'touch', 'rafter', 'comforting', 'holidays', 'expensive', 'beer:', 'platinum', 'paste', 'hairs', 'youth', 'babar', 'confidential', 'cousin', 'celeste', 'takeaway', 'royal', 'trainers', 'average', 'schmoe', \"can't-believe-how-bald-he-is\", 'science', 'exhibit', 'hunger', \"games'd\", 'womb', 'life:', 'ninety-six', \"number's\", 'winning', 'celebrate', \"ragin'\", 'mini-dumpsters', 'gasoline', 'build', 'swimming', 'freaking', \"cashin'\", 'safety', 'ripped', 'tense', 'voicemail', 'offensive', 'sickened', 'moolah-stealing', 'jackpot-thief', \"something's\", 'reflected', 'lenses', 'sunglasses', 'geyser', 'strokkur', 'geysir', 'minors', 'fat_in_the_hat:', 'pawed', 'skunk', 'furry', 'knit', 'thnord', 'leathery', 'hidden', 'selfish', 'radioactive', 'hellhole', 'superpower', 'whoa-ho', 'looooooooooooooooooong', 'experience', 'schedule', 'hers', 'ideas', 'divorced', 's-a-u-r-c-e', 'touches', 'earpiece', 'senators:', 'abercrombie', 'billingsley', 'beaumont', \"plaster's\", 'flaking', 'lay', \"stallin'\", 'groans', 'squeals', 'liser', 'cletus_spuckler:', 'conditioning', 'barkeeps', 'gin-slingers', 'beer-jerks', 'compete', 'stores', 'hooch', 'cap', 'masks', 'uninhibited', 'invulnerable', 'shuts', 'nick', 'fury', 'batmobile', 'wolveriskey', \"'ere\", 'portfolium', \"boy's\", 'knock-up', 'powers', 'created', 'virility', 'virile', \"brady's\", 'libido', 'rocks', 'sets', 'legs:', 'kidnaps', 'grateful', \"must've\", 'corn', 'eighty-five', 'goal', 'nfl_narrator:', 'breathtaking', 'ignorance', 'dislike', 'rookie', 'housewife', 'savvy', 'veteran', \"tv'll\", \"yesterday's\", 'whatsit', 'lifestyle', 'contract', 'fast-food', 'hibachi', \"how're\", 'transfer', 'hyper-credits', 'ding-a-ding-ding-ding-ding-ding-ding', 'ding-a-ding-ding-a-ding-ding', 'blade', 'spender', 'gossipy', 'jukebox_record:', 'robot', 'incapable', 'emotion', 'terrifying', 'quebec', 'nordiques', 'spooky', 'colorado', 'avalanche', \"toot's\", 'verdict', 'overturned', 'sequel', 'neon', 'repairman', 'bolting', 'wrapped', 'shoulders', 'si-lent', 'ho-ly', 'eve', \"startin'\", 'gift:', 'shrieks', 'angrily', 'wenceslas', 'karaoke_machine:', 'doooown', 'weight', 'thirty-nine', \"foolin'\", 'car:', 'habit', 'hateful', 'chubby', 'chunky', 'blobbo', 'slobbo', 'michelin', 'stay-puft', 'chumbawamba', 'balloon', 'papa', 'grandé', 'augustus', 'gloop', 'beached', 'whale', 'boned', 'wisconsin', 'skinny', 'butterball', 'dumptruck', 'jelly', 'pudgy', 'wudgy', 'lard', 'blubberino', 'buddha', 'tubman', 'ton', 'blob', 'saget', 'chub', 'hub', 'calvin', 'manfred', 'manboobs', '21', 'lump', 'fatso', 'harvey', 'obese', 'cannoli', 'mahatma', 'gumbo', 'salvador', 'deli', 'elmer', 'pantry', 'sponge', 'snackie', 'onassis', 'foodie', 'hoagie', 'carmichael', 'load', 'belts', 'homunculus', \"feelin's\", 'goblins', 'pridesters:', 'movement', 'drinking:', 'relaxed', 'apron', 'limber', \"tap-pullin'\", 'hook', 'sideshow', 'laney', 'fontaine', 'vulgar', 'fulla', 'jimmy', 'stewart', 'super-nice', \"can'tcha\", 'items', 'shells', 'lime', \"high-falutin'\", 'theatah', 'exits', 'sight', 'tomatoes', 'bachelorette', 'lady_duff:', 'hearing', 'interesting', 'clubs', \"lovers'\", 'spiritual', 'other_book_club_member:', 'liven', 'charming', 'whaaaa', 'bones', 'dazed', 'bounced', 'sass', 'heaving', \"coaster's\", 'mouths', \"snappin'\", 'ruint', \"i-i'll\", 'savings', 'rubbed', 'defected', 'north', 'korea', 'dae', 'pickles', 'background', 'ummmmmmmmm', 'ehhhhhhhh', 'errrrrrr', 'ehhhhhhhhh', 'ehhhhhh', 'kay', 'apply', 'jerking', 'chunk', 'oak', 'poplar', 'knowledge', 'wood', 'something:', 'elizabeth', 'languages', 'portuguese', 'eu', 'não', 'quero', 'dizer', 'para', 'mostrar', 'je', 'ne', 'veux', 'pas', 'montrer', 'refiero', 'presumir', 'watashi', 'koji', 'suru', 'wakede', 'arimasen', 'majesty', 'notice', 'repressed', 'spelling', 'grammar', 'ze-ro', 'kemi', 'prince', 'trashed', 'happens', 'cruiser', 'answered', 'tank', 'gil_gunderson:', 'mumble', 'conclusions', 'tied', 'jernt', 'elocution', 'pronounce', 'over-pronouncing', 'online', 'pernt', 'tease', 'thrown', 'rom', 'coms', 'wheels', 'witches', \"treatin'\", 'countryman', 'chinua', 'achebe', 'apart', 'ease', 'optimistic', 'amused', 'comment', 'eaten', 'string', 'eats', 'stretches', 'moon', 'dregs', 'bugs', 'mice', 'treats', 'bar:', 'cab', 'waist', 'shyly', 'lifts', 'index', 'examples', 'albeit', 'depressing', 'bedtime', 'premise', \"cheerin'\", 'pine', 'suffering', 'silence', 'rafters', 'badly', 'smiles', 'divine', 'four-star', 'brother-in-law', 'nachos', 'triangle', 'atari', 'oblivious', 'aims', 'dumpster', 'gags', 'psst', 'asleep', 'mellow', 'aghast', 'kirk_voice_milhouse:', 'milks', 'lumpa', 'coal', 'stocking', 'sucking', 'getup', 'part-time', 'selective', 'reaches', 'opens', 'whoops', 'explanation', 'anxious', 'bloodiest', 'thirsty', 'log', 'eddie', 'pretzels', 'peeping', 'toms', 'terrorizing', 'neighborhood', 'scent', 'bobo', 'wieners', 'figures', 'disappointment', 'onto', 'dealt', 'control', 'tremendous', 'tv-station_announcer:', 'this:', 'small_boy:', 'furiously', '_marvin_monroe:', 'monroe', 'gimmicks', 'pills', 'fad', 'diets', 'bliss', '1-800-555-hugs', \"life's\", 'heh-heh', 'runt', 'gut', 'tragedy', 'ohhhh', 'hottest', 'heave-ho', 'dingy', 'flophouse', 'yellow-belly', 'jackass', \"'er\", 'hunka', 'beef', 'contemplates', 'jams', 'yells', 'drunkenly', \"larry's\", 'difference', 'slop', 'hose', 'beings', 'candles', 'tablecloth', 'drift', 'deals', 'capitol', 'curiosity', \"c'mom\", 'employees', 'spouses', 'decision', 'simpsons', 'faced', \"should've\", 'listened', 'bites', 'oooh', \"costume's\", 'ape-like', 'saga', 'riveting', 'humiliation', \"rasputin's\", \"professor's\", 'patented', 'coma', 'show-off', 'muscles', 'engraved', 'richard:', 'audience:', 'ref', 'issuing', 'warning', 'rasputin', 'referee', 'permitting', 'smitty:', 'squabbled', 'washed', 'refreshment', 'trustworthy', 'sharing', 'birthplace', 'roy', 'scum-sucking', 'pus-bucket', 'eyeballs', 'often', 'bull', 'connection', 'lighten', 'ironic', 'snotty', 'sister-in-law', 'picky', 'blur', 'decided', 'happiness', 'pancakes', 'disdainful', 'heals', 'wounds']\n"
     ]
    }
   ],
   "source": [
    "\"\"\"\n",
    "DON'T MODIFY ANYTHING IN THIS CELL\n",
    "\"\"\"\n",
    "# Preprocess Training, Validation, and Testing Data\n",
    "helper.preprocess_and_save_data(data_dir, token_lookup, create_lookup_tables)"
   ]
  },
  {
   "cell_type": "markdown",
   "metadata": {},
   "source": [
    "# Check Point\n",
    "This is your first checkpoint. If you ever decide to come back to this notebook or have to restart the notebook, you can start from here. The preprocessed data has been saved to disk."
   ]
  },
  {
   "cell_type": "code",
   "execution_count": 1,
   "metadata": {},
   "outputs": [],
   "source": [
    "\"\"\"\n",
    "DON'T MODIFY ANYTHING IN THIS CELL\n",
    "\"\"\"\n",
    "import helper\n",
    "import numpy as np\n",
    "import problem_unittests as tests\n",
    "\n",
    "int_text, vocab_to_int, int_to_vocab, token_dict = helper.load_preprocess()"
   ]
  },
  {
   "cell_type": "code",
   "execution_count": 2,
   "metadata": {},
   "outputs": [
    {
     "name": "stdout",
     "output_type": "stream",
     "text": [
      "{'.': '||period||', ',': '||comma||', '\"': '||quotation||', ';': '||semicolon||', '!': '||exclamation||', '?': '||question||', '(': '||left_paranthesis||', ')': '||right_paranthesis||', '--': '||dash||', '\\n': '||return||'}\n"
     ]
    }
   ],
   "source": [
    "print(token_dict)"
   ]
  },
  {
   "cell_type": "markdown",
   "metadata": {},
   "source": [
    "## Build the Neural Network\n",
    "You'll build the components necessary to build a RNN by implementing the following functions below:\n",
    "- get_inputs\n",
    "- get_init_cell\n",
    "- get_embed\n",
    "- build_rnn\n",
    "- build_nn\n",
    "- get_batches\n",
    "\n",
    "### Check the Version of TensorFlow and Access to GPU"
   ]
  },
  {
   "cell_type": "code",
   "execution_count": 3,
   "metadata": {},
   "outputs": [
    {
     "name": "stdout",
     "output_type": "stream",
     "text": [
      "TensorFlow Version: 1.3.0\n",
      "Default GPU Device: /gpu:0\n"
     ]
    }
   ],
   "source": [
    "\"\"\"\n",
    "DON'T MODIFY ANYTHING IN THIS CELL\n",
    "\"\"\"\n",
    "from distutils.version import LooseVersion\n",
    "import warnings\n",
    "import tensorflow as tf\n",
    "\n",
    "# Check TensorFlow Version\n",
    "assert LooseVersion(tf.__version__) >= LooseVersion('1.3'), 'Please use TensorFlow version 1.3 or newer'\n",
    "print('TensorFlow Version: {}'.format(tf.__version__))\n",
    "\n",
    "# Check for a GPU\n",
    "if not tf.test.gpu_device_name():\n",
    "    warnings.warn('No GPU found. Please use a GPU to train your neural network.')\n",
    "else:\n",
    "    print('Default GPU Device: {}'.format(tf.test.gpu_device_name()))"
   ]
  },
  {
   "cell_type": "markdown",
   "metadata": {},
   "source": [
    "### Input\n",
    "Implement the `get_inputs()` function to create TF Placeholders for the Neural Network.  It should create the following placeholders:\n",
    "- Input text placeholder named \"input\" using the [TF Placeholder](https://www.tensorflow.org/api_docs/python/tf/placeholder) `name` parameter.\n",
    "- Targets placeholder\n",
    "- Learning Rate placeholder\n",
    "\n",
    "Return the placeholders in the following tuple `(Input, Targets, LearningRate)`"
   ]
  },
  {
   "cell_type": "code",
   "execution_count": 4,
   "metadata": {},
   "outputs": [
    {
     "name": "stdout",
     "output_type": "stream",
     "text": [
      "Tests Passed\n"
     ]
    }
   ],
   "source": [
    "def get_inputs():\n",
    "    \"\"\"\n",
    "    Create TF Placeholders for input, targets, and learning rate.\n",
    "    :return: Tuple (input, targets, learning rate)\n",
    "    \"\"\"\n",
    "    # TODO: Implement Function\n",
    "    Input=tf.placeholder(tf.int32,[None,None],name='input')\n",
    "    Targets=tf.placeholder(tf.int32,[None,None],name='target')\n",
    "    LearningRate=tf.placeholder(tf.float32,name='learn_rate')\n",
    "    return (Input, Targets, LearningRate)\n",
    "\n",
    "\n",
    "\"\"\"\n",
    "DON'T MODIFY ANYTHING IN THIS CELL THAT IS BELOW THIS LINE\n",
    "\"\"\"\n",
    "tests.test_get_inputs(get_inputs)"
   ]
  },
  {
   "cell_type": "markdown",
   "metadata": {},
   "source": [
    "### Build RNN Cell and Initialize\n",
    "Stack one or more [`BasicLSTMCells`](https://www.tensorflow.org/api_docs/python/tf/contrib/rnn/BasicLSTMCell) in a [`MultiRNNCell`](https://www.tensorflow.org/api_docs/python/tf/contrib/rnn/MultiRNNCell).\n",
    "- The Rnn size should be set using `rnn_size`\n",
    "- Initalize Cell State using the MultiRNNCell's [`zero_state()`](https://www.tensorflow.org/api_docs/python/tf/contrib/rnn/MultiRNNCell#zero_state) function\n",
    "    - Apply the name \"initial_state\" to the initial state using [`tf.identity()`](https://www.tensorflow.org/api_docs/python/tf/identity)\n",
    "\n",
    "Return the cell and initial state in the following tuple `(Cell, InitialState)`"
   ]
  },
  {
   "cell_type": "code",
   "execution_count": 5,
   "metadata": {},
   "outputs": [
    {
     "name": "stdout",
     "output_type": "stream",
     "text": [
      "Tests Passed\n"
     ]
    }
   ],
   "source": [
    "def get_init_cell(batch_size, rnn_size):\n",
    "    \"\"\"\n",
    "    Create an RNN Cell and initialize it.\n",
    "    :param batch_size: Size of batches\n",
    "    :param rnn_size: Size of RNNs\n",
    "    :return: Tuple (cell, initialize state)\n",
    "    \"\"\"\n",
    "    # TODO: Implement Function\n",
    "    lstm=tf.contrib.rnn.BasicLSTMCell(rnn_size)\n",
    "    Cell=tf.contrib.rnn.MultiRNNCell([lstm])\n",
    "    InitialState=Cell.zero_state(batch_size,tf.float32)\n",
    "    InitialState=tf.identity(InitialState,'initial_state')\n",
    "    return (Cell, InitialState)\n",
    "\n",
    "\n",
    "\"\"\"\n",
    "DON'T MODIFY ANYTHING IN THIS CELL THAT IS BELOW THIS LINE\n",
    "\"\"\"\n",
    "tests.test_get_init_cell(get_init_cell)"
   ]
  },
  {
   "cell_type": "markdown",
   "metadata": {},
   "source": [
    "### Word Embedding\n",
    "Apply embedding to `input_data` using TensorFlow.  Return the embedded sequence."
   ]
  },
  {
   "cell_type": "code",
   "execution_count": 6,
   "metadata": {},
   "outputs": [
    {
     "name": "stdout",
     "output_type": "stream",
     "text": [
      "Tests Passed\n"
     ]
    }
   ],
   "source": [
    "def get_embed(input_data, vocab_size, embed_dim):\n",
    "    \"\"\"\n",
    "    Create embedding for <input_data>.\n",
    "    :param input_data: TF placeholder for text input.\n",
    "    :param vocab_size: Number of words in vocabulary.\n",
    "    :param embed_dim: Number of embedding dimensions\n",
    "    :return: Embedded input.\n",
    "    \"\"\"\n",
    "    # TODO: Implement Function\n",
    "    embedding=tf.Variable(tf.random_uniform((vocab_size,embed_dim),-1,1))\n",
    "    embed=tf.nn.embedding_lookup(embedding,input_data)\n",
    "    return embed\n",
    "\n",
    "\n",
    "\n",
    "\"\"\"\n",
    "DON'T MODIFY ANYTHING IN THIS CELL THAT IS BELOW THIS LINE\n",
    "\"\"\"\n",
    "tests.test_get_embed(get_embed)"
   ]
  },
  {
   "cell_type": "markdown",
   "metadata": {},
   "source": [
    "### Build RNN\n",
    "You created a RNN Cell in the `get_init_cell()` function.  Time to use the cell to create a RNN.\n",
    "- Build the RNN using the [`tf.nn.dynamic_rnn()`](https://www.tensorflow.org/api_docs/python/tf/nn/dynamic_rnn)\n",
    " - Apply the name \"final_state\" to the final state using [`tf.identity()`](https://www.tensorflow.org/api_docs/python/tf/identity)\n",
    "\n",
    "Return the outputs and final_state state in the following tuple `(Outputs, FinalState)` "
   ]
  },
  {
   "cell_type": "code",
   "execution_count": 7,
   "metadata": {},
   "outputs": [
    {
     "name": "stdout",
     "output_type": "stream",
     "text": [
      "Tests Passed\n"
     ]
    }
   ],
   "source": [
    "def build_rnn(cell, inputs):\n",
    "    \"\"\"\n",
    "    Create a RNN using a RNN Cell\n",
    "    :param cell: RNN Cell\n",
    "    :param inputs: Input text data\n",
    "    :return: Tuple (Outputs, Final State)\n",
    "    \"\"\"\n",
    "    # TODO: Implement Function\n",
    "    Outputs,FinalState=tf.nn.dynamic_rnn(cell,inputs,dtype=tf.float32)\n",
    "    FinalState=tf.identity(FinalState,'final_state')\n",
    "    return (Outputs, FinalState)\n",
    "\n",
    "\n",
    "\"\"\"\n",
    "DON'T MODIFY ANYTHING IN THIS CELL THAT IS BELOW THIS LINE\n",
    "\"\"\"\n",
    "tests.test_build_rnn(build_rnn)"
   ]
  },
  {
   "cell_type": "markdown",
   "metadata": {},
   "source": [
    "### Build the Neural Network\n",
    "Apply the functions you implemented above to:\n",
    "- Apply embedding to `input_data` using your `get_embed(input_data, vocab_size, embed_dim)` function.\n",
    "- Build RNN using `cell` and your `build_rnn(cell, inputs)` function.\n",
    "- Apply a fully connected layer with a linear activation and `vocab_size` as the number of outputs.\n",
    "\n",
    "Return the logits and final state in the following tuple (Logits, FinalState) "
   ]
  },
  {
   "cell_type": "code",
   "execution_count": 8,
   "metadata": {},
   "outputs": [
    {
     "name": "stdout",
     "output_type": "stream",
     "text": [
      "(128, 5, 256)\n",
      "(128, 5, 27)\n",
      "Tests Passed\n"
     ]
    }
   ],
   "source": [
    "def build_nn(cell, rnn_size, input_data, vocab_size, embed_dim):\n",
    "    \"\"\"\n",
    "    Build part of the neural network\n",
    "    :param cell: RNN cell\n",
    "    :param rnn_size: Size of rnns\n",
    "    :param input_data: Input data\n",
    "    :param vocab_size: Vocabulary size\n",
    "    :param embed_dim: Number of embedding dimensions\n",
    "    :return: Tuple (Logits, FinalState)\n",
    "    \"\"\"\n",
    "    # TODO: Implement Function\n",
    "    embed=get_embed(input_data, vocab_size, embed_dim)\n",
    "    rnn,FinalState=build_rnn(cell, embed)\n",
    "    print(rnn.shape)\n",
    "    Logits=tf.contrib.layers.fully_connected(rnn,vocab_size,activation_fn=None,weights_initializer=tf.truncated_normal_initializer(stddev=0.1),biases_initializer=tf.zeros_initializer())\n",
    "    print(Logits.shape)\n",
    "    return (Logits, FinalState)\n",
    "\n",
    "\n",
    "\"\"\"\n",
    "DON'T MODIFY ANYTHING IN THIS CELL THAT IS BELOW THIS LINE\n",
    "\"\"\"\n",
    "tests.test_build_nn(build_nn)"
   ]
  },
  {
   "cell_type": "markdown",
   "metadata": {},
   "source": [
    "### Batches\n",
    "Implement `get_batches` to create batches of input and targets using `int_text`.  The batches should be a Numpy array with the shape `(number of batches, 2, batch size, sequence length)`. Each batch contains two elements:\n",
    "- The first element is a single batch of **input** with the shape `[batch size, sequence length]`\n",
    "- The second element is a single batch of **targets** with the shape `[batch size, sequence length]`\n",
    "\n",
    "If you can't fill the last batch with enough data, drop the last batch.\n",
    "\n",
    "For example, `get_batches([1, 2, 3, 4, 5, 6, 7, 8, 9, 10, 11, 12, 13, 14, 15, 16, 17, 18, 19, 20], 3, 2)` would return a Numpy array of the following:\n",
    "```\n",
    "[\n",
    "  # First Batch\n",
    "  [\n",
    "    # Batch of Input\n",
    "    [[ 1  2], [ 7  8], [13 14]]\n",
    "    # Batch of targets\n",
    "    [[ 2  3], [ 8  9], [14 15]]\n",
    "  ]\n",
    "\n",
    "  # Second Batch\n",
    "  [\n",
    "    # Batch of Input\n",
    "    [[ 3  4], [ 9 10], [15 16]]\n",
    "    # Batch of targets\n",
    "    [[ 4  5], [10 11], [16 17]]\n",
    "  ]\n",
    "\n",
    "  # Third Batch\n",
    "  [\n",
    "    # Batch of Input\n",
    "    [[ 5  6], [11 12], [17 18]]\n",
    "    # Batch of targets\n",
    "    [[ 6  7], [12 13], [18  1]]\n",
    "  ]\n",
    "]\n",
    "```\n",
    "\n",
    "Notice that the last target value in the last batch is the first input value of the first batch. In this case, `1`. This is a common technique used when creating sequence batches, although it is rather unintuitive."
   ]
  },
  {
   "cell_type": "code",
   "execution_count": 9,
   "metadata": {},
   "outputs": [
    {
     "name": "stdout",
     "output_type": "stream",
     "text": [
      "[[[[   0    1    2    3    4]\n",
      "   [  35   36   37   38   39]\n",
      "   [  70   71   72   73   74]\n",
      "   ..., \n",
      "   [4375 4376 4377 4378 4379]\n",
      "   [4410 4411 4412 4413 4414]\n",
      "   [4445 4446 4447 4448 4449]]\n",
      "\n",
      "  [[   1    2    3    4    5]\n",
      "   [  36   37   38   39   40]\n",
      "   [  71   72   73   74   75]\n",
      "   ..., \n",
      "   [4376 4377 4378 4379 4380]\n",
      "   [4411 4412 4413 4414 4415]\n",
      "   [4446 4447 4448 4449 4450]]]\n",
      "\n",
      "\n",
      " [[[   5    6    7    8    9]\n",
      "   [  40   41   42   43   44]\n",
      "   [  75   76   77   78   79]\n",
      "   ..., \n",
      "   [4380 4381 4382 4383 4384]\n",
      "   [4415 4416 4417 4418 4419]\n",
      "   [4450 4451 4452 4453 4454]]\n",
      "\n",
      "  [[   6    7    8    9   10]\n",
      "   [  41   42   43   44   45]\n",
      "   [  76   77   78   79   80]\n",
      "   ..., \n",
      "   [4381 4382 4383 4384 4385]\n",
      "   [4416 4417 4418 4419 4420]\n",
      "   [4451 4452 4453 4454 4455]]]\n",
      "\n",
      "\n",
      " [[[  10   11   12   13   14]\n",
      "   [  45   46   47   48   49]\n",
      "   [  80   81   82   83   84]\n",
      "   ..., \n",
      "   [4385 4386 4387 4388 4389]\n",
      "   [4420 4421 4422 4423 4424]\n",
      "   [4455 4456 4457 4458 4459]]\n",
      "\n",
      "  [[  11   12   13   14   15]\n",
      "   [  46   47   48   49   50]\n",
      "   [  81   82   83   84   85]\n",
      "   ..., \n",
      "   [4386 4387 4388 4389 4390]\n",
      "   [4421 4422 4423 4424 4425]\n",
      "   [4456 4457 4458 4459 4460]]]\n",
      "\n",
      "\n",
      " ..., \n",
      " [[[  20   21   22   23   24]\n",
      "   [  55   56   57   58   59]\n",
      "   [  90   91   92   93   94]\n",
      "   ..., \n",
      "   [4395 4396 4397 4398 4399]\n",
      "   [4430 4431 4432 4433 4434]\n",
      "   [4465 4466 4467 4468 4469]]\n",
      "\n",
      "  [[  21   22   23   24   25]\n",
      "   [  56   57   58   59   60]\n",
      "   [  91   92   93   94   95]\n",
      "   ..., \n",
      "   [4396 4397 4398 4399 4400]\n",
      "   [4431 4432 4433 4434 4435]\n",
      "   [4466 4467 4468 4469 4470]]]\n",
      "\n",
      "\n",
      " [[[  25   26   27   28   29]\n",
      "   [  60   61   62   63   64]\n",
      "   [  95   96   97   98   99]\n",
      "   ..., \n",
      "   [4400 4401 4402 4403 4404]\n",
      "   [4435 4436 4437 4438 4439]\n",
      "   [4470 4471 4472 4473 4474]]\n",
      "\n",
      "  [[  26   27   28   29   30]\n",
      "   [  61   62   63   64   65]\n",
      "   [  96   97   98   99  100]\n",
      "   ..., \n",
      "   [4401 4402 4403 4404 4405]\n",
      "   [4436 4437 4438 4439 4440]\n",
      "   [4471 4472 4473 4474 4475]]]\n",
      "\n",
      "\n",
      " [[[  30   31   32   33   34]\n",
      "   [  65   66   67   68   69]\n",
      "   [ 100  101  102  103  104]\n",
      "   ..., \n",
      "   [4405 4406 4407 4408 4409]\n",
      "   [4440 4441 4442 4443 4444]\n",
      "   [4475 4476 4477 4478 4479]]\n",
      "\n",
      "  [[  31   32   33   34   35]\n",
      "   [  66   67   68   69   70]\n",
      "   [ 101  102  103  104  105]\n",
      "   ..., \n",
      "   [4406 4407 4408 4409 4410]\n",
      "   [4441 4442 4443 4444 4445]\n",
      "   [4476 4477 4478 4479    0]]]]\n",
      "Tests Passed\n"
     ]
    }
   ],
   "source": [
    "def get_batches(int_text, batch_size, seq_length):\n",
    "    \"\"\"\n",
    "    Return batches of input and target\n",
    "    :param int_text: Text with the words replaced by their ids\n",
    "    :param batch_size: The size of batch\n",
    "    :param seq_length: The length of sequence\n",
    "    :return: Batches as a Numpy array\n",
    "    \"\"\"\n",
    "    # TODO: Implement Function\n",
    "    starting=0\n",
    "    x=batch_size*seq_length\n",
    "    y=len(int_text)//x\n",
    "    z=y*x\n",
    "    text_x=int_text[:z]\n",
    "    text_y=text_x[1:]+[text_x[0]]\n",
    "    counter=0\n",
    "    batch = np.zeros(shape = (y, 2, batch_size, seq_length), dtype = np.int32)\n",
    "    for i in range (0,len(text_x),y*seq_length):\n",
    "        seq_x=text_x[i:i+y*seq_length]\n",
    "        seq_y=text_y[i:i+y*seq_length]\n",
    "        \n",
    "        count2=0\n",
    "        for j in range(0,len(seq_x),seq_length):\n",
    "            x_sample=seq_x[j:j+seq_length]\n",
    "            y_sample=seq_y[j:j+seq_length]\n",
    "            batch[count2,0,counter,:]=x_sample\n",
    "            batch[count2,1,counter,:]=y_sample\n",
    "            count2+=1\n",
    "        counter+=1\n",
    "    print(batch)\n",
    "    return np.array(batch)\n",
    "\n",
    "\n",
    "\"\"\"\n",
    "DON'T MODIFY ANYTHING IN THIS CELL THAT IS BELOW THIS LINE\n",
    "\"\"\"\n",
    "tests.test_get_batches(get_batches)"
   ]
  },
  {
   "cell_type": "markdown",
   "metadata": {},
   "source": [
    "## Neural Network Training\n",
    "### Hyperparameters\n",
    "Tune the following parameters:\n",
    "\n",
    "- Set `num_epochs` to the number of epochs.\n",
    "- Set `batch_size` to the batch size.\n",
    "- Set `rnn_size` to the size of the RNNs.\n",
    "- Set `embed_dim` to the size of the embedding.\n",
    "- Set `seq_length` to the length of sequence.\n",
    "- Set `learning_rate` to the learning rate.\n",
    "- Set `show_every_n_batches` to the number of batches the neural network should print progress."
   ]
  },
  {
   "cell_type": "code",
   "execution_count": 10,
   "metadata": {},
   "outputs": [],
   "source": [
    "# Number of Epochs\n",
    "num_epochs = 150\n",
    "# Batch Size\n",
    "batch_size = 512\n",
    "# RNN Size\n",
    "rnn_size = 512\n",
    "# Embedding Dimension Size\n",
    "embed_dim = 200\n",
    "# Sequence Length\n",
    "seq_length = 15\n",
    "# Learning Rate\n",
    "learning_rate = 0.01\n",
    "# Show stats for every n number of batches\n",
    "show_every_n_batches = 20\n",
    "\n",
    "\"\"\"\n",
    "DON'T MODIFY ANYTHING IN THIS CELL THAT IS BELOW THIS LINE\n",
    "\"\"\"\n",
    "save_dir = './save'"
   ]
  },
  {
   "cell_type": "markdown",
   "metadata": {},
   "source": [
    "### Build the Graph\n",
    "Build the graph using the neural network you implemented."
   ]
  },
  {
   "cell_type": "code",
   "execution_count": 11,
   "metadata": {},
   "outputs": [
    {
     "name": "stdout",
     "output_type": "stream",
     "text": [
      "(?, ?, 512)\n",
      "(?, ?, 6779)\n"
     ]
    }
   ],
   "source": [
    "\"\"\"\n",
    "DON'T MODIFY ANYTHING IN THIS CELL\n",
    "\"\"\"\n",
    "from tensorflow.contrib import seq2seq\n",
    "\n",
    "train_graph = tf.Graph()\n",
    "with train_graph.as_default():\n",
    "    vocab_size = len(int_to_vocab)\n",
    "    input_text, targets, lr = get_inputs()\n",
    "    input_data_shape = tf.shape(input_text)\n",
    "    cell, initial_state = get_init_cell(input_data_shape[0], rnn_size)\n",
    "    logits, final_state = build_nn(cell, rnn_size, input_text, vocab_size, embed_dim)\n",
    "\n",
    "    # Probabilities for generating words\n",
    "    probs = tf.nn.softmax(logits, name='probs')\n",
    "\n",
    "    # Loss function\n",
    "    cost = seq2seq.sequence_loss(\n",
    "        logits,\n",
    "        targets,\n",
    "        tf.ones([input_data_shape[0], input_data_shape[1]]))\n",
    "\n",
    "    # Optimizer\n",
    "    optimizer = tf.train.AdamOptimizer(lr)\n",
    "\n",
    "    # Gradient Clipping\n",
    "    gradients = optimizer.compute_gradients(cost)\n",
    "    capped_gradients = [(tf.clip_by_value(grad, -1., 1.), var) for grad, var in gradients if grad is not None]\n",
    "    train_op = optimizer.apply_gradients(capped_gradients)"
   ]
  },
  {
   "cell_type": "markdown",
   "metadata": {},
   "source": [
    "## Train\n",
    "Train the neural network on the preprocessed data.  If you have a hard time getting a good loss, check the [forums](https://discussions.udacity.com/) to see if anyone is having the same problem."
   ]
  },
  {
   "cell_type": "code",
   "execution_count": 12,
   "metadata": {
    "scrolled": true
   },
   "outputs": [
    {
     "name": "stdout",
     "output_type": "stream",
     "text": [
      "[[[[   9    3  121 ...,   13  145    0]\n",
      "   [   0  161   21 ...,    7  186   62]\n",
      "   [ 230   75  398 ...,    0    0    0]\n",
      "   ..., \n",
      "   [  47  454   76 ...,    0    1  239]\n",
      "   [  63    7  451 ...,    1   12    3]\n",
      "   [ 291    8    1 ...,   65   49    7]]\n",
      "\n",
      "  [[   3  121  172 ...,  145    0    1]\n",
      "   [ 161   21  233 ...,  186   62  145]\n",
      "   [  75  398   10 ...,    0    0    1]\n",
      "   ..., \n",
      "   [ 454   76   11 ...,    1  239    6]\n",
      "   [   7  451 6326 ...,   12    3 6327]\n",
      "   [   8    1   45 ...,   49    7    0]]]\n",
      "\n",
      "\n",
      " [[[   1  146  174 ...,  203  198    2]\n",
      "   [ 145   13  470 ...,  152  145   13]\n",
      "   [   1 2903    3 ...,   39   23   22]\n",
      "   ..., \n",
      "   [   6  156  511 ...,  124 1436    0]\n",
      "   [6327    4 1186 ...,   47  440   35]\n",
      "   [   0    1   45 ...,   58    2  212]]\n",
      "\n",
      "  [[ 146  174    2 ...,  198    2 1170]\n",
      "   [  13  470   26 ...,  145   13 2897]\n",
      "   [2903    3 2904 ...,   23   22    5]\n",
      "   ..., \n",
      "   [ 156  511   11 ..., 1436    0    0]\n",
      "   [   4 1186  801 ...,  440   35    7]\n",
      "   [   1   45    3 ...,    2  212   10]]]\n",
      "\n",
      "\n",
      " [[[1170    0    1 ...,  267    0    3]\n",
      "   [2897   26 1902 ...,   18  268    0]\n",
      "   [   5  551    0 ..., 2905   11 2906]\n",
      "   ..., \n",
      "   [   0    0   13 ..., 6320    2 1435]\n",
      "   [   7    0   34 ...,    4  138  380]\n",
      "   [  10   31    2 ...,    1  134    3]]\n",
      "\n",
      "  [[   0    1    9 ...,    0    3   13]\n",
      "   [  26 1902 2898 ...,  268    0   63]\n",
      "   [ 551    0    1 ...,   11 2906  176]\n",
      "   ..., \n",
      "   [   0   13   43 ...,    2 1435 6321]\n",
      "   [   0   34   22 ...,  138  380   17]\n",
      "   [  31    2  129 ...,  134    3   28]]]\n",
      "\n",
      "\n",
      " ..., \n",
      " [[[  60   15  185 ..., 1900   16  198]\n",
      "   [   2  963   26 ...,   38 1172   79]\n",
      "   [   6  156    2 ...,    2   24 2909]\n",
      "   ..., \n",
      "   [  28   11  494 ...,  353   51   11]\n",
      "   [ 958    2  958 ...,    4  212   10]\n",
      "   [ 440  765    2 ...,   15  150   10]]\n",
      "\n",
      "  [[  15  185  729 ...,   16  198   28]\n",
      "   [ 963   26 2900 ..., 1172   79   37]\n",
      "   [ 156    2  187 ...,   24 2909   16]\n",
      "   ..., \n",
      "   [  11  494    0 ...,   51   11  272]\n",
      "   [   2  958    2 ...,  212   10    1]\n",
      "   [ 765    2 1631 ...,  150   10    1]]]\n",
      "\n",
      "\n",
      " [[[  28   26   72 ...,  316   27   10]\n",
      "   [  37  155    0 ...,    5  184    0]\n",
      "   [  16  246   25 ..., 1906   13 1173]\n",
      "   ..., \n",
      "   [ 272    2   27 ...,    5  354   11]\n",
      "   [   1   12    3 ...,    6   65   26]\n",
      "   [   1   12    3 ...,   49  943   66]]\n",
      "\n",
      "  [[  26   72   35 ...,   27   10   61]\n",
      "   [ 155    0  964 ...,  184    0    3]\n",
      "   [ 246   25    5 ...,   13 1173   98]\n",
      "   ..., \n",
      "   [   2   27   10 ...,  354   11  324]\n",
      "   [  12    3 1035 ...,   65   26 1894]\n",
      "   [  12    3  510 ...,  943   66    1]]]\n",
      "\n",
      "\n",
      " [[[  61   62   26 ...,  514    2   30]\n",
      "   [   3  308    4 ..., 2902    8   34]\n",
      "   [  98  188   25 ...,    1   41   31]\n",
      "   ..., \n",
      "   [ 324  114   79 ...,    8    1    9]\n",
      "   [1894   14    0 ...,    2  291    2]\n",
      "   [   1  134  165 ..., 1871    8    6]]\n",
      "\n",
      "  [[  62   26  842 ...,    2   30    0]\n",
      "   [ 308    4    1 ...,    8   34  230]\n",
      "   [ 188   25   11 ...,   41   31    2]\n",
      "   ..., \n",
      "   [ 114   79    0 ...,    1    9   63]\n",
      "   [  14    0    0 ...,  291    2  291]\n",
      "   [ 134  165  122 ...,    8    6    9]]]]\n",
      "Epoch   0 Batch    0/8   train_loss = 8.831\n",
      "Epoch   2 Batch    4/8   train_loss = 4.918\n",
      "Epoch   5 Batch    0/8   train_loss = 3.757\n",
      "Epoch   7 Batch    4/8   train_loss = 2.965\n",
      "Epoch  10 Batch    0/8   train_loss = 2.303\n",
      "Epoch  12 Batch    4/8   train_loss = 1.657\n",
      "Epoch  15 Batch    0/8   train_loss = 1.256\n",
      "Epoch  17 Batch    4/8   train_loss = 0.937\n",
      "Epoch  20 Batch    0/8   train_loss = 0.725\n",
      "Epoch  22 Batch    4/8   train_loss = 0.499\n",
      "Epoch  25 Batch    0/8   train_loss = 0.446\n",
      "Epoch  27 Batch    4/8   train_loss = 0.326\n",
      "Epoch  30 Batch    0/8   train_loss = 0.310\n",
      "Epoch  32 Batch    4/8   train_loss = 0.240\n",
      "Epoch  35 Batch    0/8   train_loss = 0.249\n",
      "Epoch  37 Batch    4/8   train_loss = 0.207\n",
      "Epoch  40 Batch    0/8   train_loss = 0.227\n",
      "Epoch  42 Batch    4/8   train_loss = 0.200\n",
      "Epoch  45 Batch    0/8   train_loss = 0.223\n",
      "Epoch  47 Batch    4/8   train_loss = 0.197\n",
      "Epoch  50 Batch    0/8   train_loss = 0.221\n",
      "Epoch  52 Batch    4/8   train_loss = 0.195\n",
      "Epoch  55 Batch    0/8   train_loss = 0.219\n",
      "Epoch  57 Batch    4/8   train_loss = 0.194\n",
      "Epoch  60 Batch    0/8   train_loss = 0.218\n",
      "Epoch  62 Batch    4/8   train_loss = 0.193\n",
      "Epoch  65 Batch    0/8   train_loss = 0.218\n",
      "Epoch  67 Batch    4/8   train_loss = 0.193\n",
      "Epoch  70 Batch    0/8   train_loss = 0.217\n",
      "Epoch  72 Batch    4/8   train_loss = 0.192\n",
      "Epoch  75 Batch    0/8   train_loss = 0.216\n",
      "Epoch  77 Batch    4/8   train_loss = 0.192\n",
      "Epoch  80 Batch    0/8   train_loss = 0.216\n",
      "Epoch  82 Batch    4/8   train_loss = 0.192\n",
      "Epoch  85 Batch    0/8   train_loss = 0.216\n",
      "Epoch  87 Batch    4/8   train_loss = 0.191\n",
      "Epoch  90 Batch    0/8   train_loss = 0.215\n",
      "Epoch  92 Batch    4/8   train_loss = 0.191\n",
      "Epoch  95 Batch    0/8   train_loss = 0.215\n",
      "Epoch  97 Batch    4/8   train_loss = 0.191\n",
      "Epoch 100 Batch    0/8   train_loss = 0.215\n",
      "Epoch 102 Batch    4/8   train_loss = 0.190\n",
      "Epoch 105 Batch    0/8   train_loss = 0.214\n",
      "Epoch 107 Batch    4/8   train_loss = 0.190\n",
      "Epoch 110 Batch    0/8   train_loss = 0.214\n",
      "Epoch 112 Batch    4/8   train_loss = 0.190\n",
      "Epoch 115 Batch    0/8   train_loss = 0.214\n",
      "Epoch 117 Batch    4/8   train_loss = 0.190\n",
      "Epoch 120 Batch    0/8   train_loss = 0.214\n",
      "Epoch 122 Batch    4/8   train_loss = 0.190\n",
      "Epoch 125 Batch    0/8   train_loss = 0.214\n",
      "Epoch 127 Batch    4/8   train_loss = 0.189\n",
      "Epoch 130 Batch    0/8   train_loss = 0.213\n",
      "Epoch 132 Batch    4/8   train_loss = 0.190\n",
      "Epoch 135 Batch    0/8   train_loss = 0.213\n",
      "Epoch 137 Batch    4/8   train_loss = 0.189\n",
      "Epoch 140 Batch    0/8   train_loss = 0.213\n",
      "Epoch 142 Batch    4/8   train_loss = 0.189\n",
      "Epoch 145 Batch    0/8   train_loss = 0.213\n",
      "Epoch 147 Batch    4/8   train_loss = 0.189\n",
      "Model Trained and Saved\n"
     ]
    }
   ],
   "source": [
    "\"\"\"\n",
    "DON'T MODIFY ANYTHING IN THIS CELL\n",
    "\"\"\"\n",
    "batches = get_batches(int_text, batch_size, seq_length)\n",
    "\n",
    "with tf.Session(graph=train_graph) as sess:\n",
    "    sess.run(tf.global_variables_initializer())\n",
    "\n",
    "    for epoch_i in range(num_epochs):\n",
    "        state = sess.run(initial_state, {input_text: batches[0][0]})\n",
    "\n",
    "        for batch_i, (x, y) in enumerate(batches):\n",
    "            feed = {\n",
    "                input_text: x,\n",
    "                targets: y,\n",
    "                initial_state: state,\n",
    "                lr: learning_rate}\n",
    "            train_loss, state, _ = sess.run([cost, final_state, train_op], feed)\n",
    "\n",
    "            # Show every <show_every_n_batches> batches\n",
    "            if (epoch_i * len(batches) + batch_i) % show_every_n_batches == 0:\n",
    "                print('Epoch {:>3} Batch {:>4}/{}   train_loss = {:.3f}'.format(\n",
    "                    epoch_i,\n",
    "                    batch_i,\n",
    "                    len(batches),\n",
    "                    train_loss))\n",
    "\n",
    "    # Save Model\n",
    "    saver = tf.train.Saver()\n",
    "    saver.save(sess, save_dir)\n",
    "    print('Model Trained and Saved')"
   ]
  },
  {
   "cell_type": "markdown",
   "metadata": {},
   "source": [
    "## Save Parameters\n",
    "Save `seq_length` and `save_dir` for generating a new TV script."
   ]
  },
  {
   "cell_type": "code",
   "execution_count": 13,
   "metadata": {},
   "outputs": [],
   "source": [
    "\"\"\"\n",
    "DON'T MODIFY ANYTHING IN THIS CELL\n",
    "\"\"\"\n",
    "# Save parameters for checkpoint\n",
    "helper.save_params((seq_length, save_dir))"
   ]
  },
  {
   "cell_type": "markdown",
   "metadata": {},
   "source": [
    "# Checkpoint"
   ]
  },
  {
   "cell_type": "code",
   "execution_count": 14,
   "metadata": {},
   "outputs": [],
   "source": [
    "\"\"\"\n",
    "DON'T MODIFY ANYTHING IN THIS CELL\n",
    "\"\"\"\n",
    "import tensorflow as tf\n",
    "import numpy as np\n",
    "import helper\n",
    "import problem_unittests as tests\n",
    "\n",
    "_, vocab_to_int, int_to_vocab, token_dict = helper.load_preprocess()\n",
    "seq_length, load_dir = helper.load_params()"
   ]
  },
  {
   "cell_type": "markdown",
   "metadata": {},
   "source": [
    "## Implement Generate Functions\n",
    "### Get Tensors\n",
    "Get tensors from `loaded_graph` using the function [`get_tensor_by_name()`](https://www.tensorflow.org/api_docs/python/tf/Graph#get_tensor_by_name).  Get the tensors using the following names:\n",
    "- \"input:0\"\n",
    "- \"initial_state:0\"\n",
    "- \"final_state:0\"\n",
    "- \"probs:0\"\n",
    "\n",
    "Return the tensors in the following tuple `(InputTensor, InitialStateTensor, FinalStateTensor, ProbsTensor)` "
   ]
  },
  {
   "cell_type": "code",
   "execution_count": 15,
   "metadata": {},
   "outputs": [
    {
     "name": "stdout",
     "output_type": "stream",
     "text": [
      "Tests Passed\n"
     ]
    }
   ],
   "source": [
    "def get_tensors(loaded_graph):\n",
    "    \"\"\"\n",
    "    Get input, initial state, final state, and probabilities tensor from <loaded_graph>\n",
    "    :param loaded_graph: TensorFlow graph loaded from file\n",
    "    :return: Tuple (InputTensor, InitialStateTensor, FinalStateTensor, ProbsTensor)\n",
    "    \"\"\"\n",
    "    # TODO: Implement Function\n",
    "    InputTensor=loaded_graph.get_tensor_by_name(name='input:0')\n",
    "    InitialStateTensor=loaded_graph.get_tensor_by_name(name='initial_state:0')\n",
    "    FinalStateTensor=loaded_graph.get_tensor_by_name(name='final_state:0')\n",
    "    ProbsTensor=loaded_graph.get_tensor_by_name(name='probs:0')\n",
    "    return (InputTensor, InitialStateTensor, FinalStateTensor, ProbsTensor)\n",
    "\n",
    "\n",
    "\"\"\"\n",
    "DON'T MODIFY ANYTHING IN THIS CELL THAT IS BELOW THIS LINE\n",
    "\"\"\"\n",
    "tests.test_get_tensors(get_tensors)"
   ]
  },
  {
   "cell_type": "markdown",
   "metadata": {},
   "source": [
    "### Choose Word\n",
    "Implement the `pick_word()` function to select the next word using `probabilities`."
   ]
  },
  {
   "cell_type": "code",
   "execution_count": 16,
   "metadata": {},
   "outputs": [
    {
     "name": "stdout",
     "output_type": "stream",
     "text": [
      "Tests Passed\n"
     ]
    }
   ],
   "source": [
    "def pick_word(probabilities, int_to_vocab):\n",
    "    \"\"\"\n",
    "    Pick the next word in the generated text\n",
    "    :param probabilities: Probabilites of the next word\n",
    "    :param int_to_vocab: Dictionary of word ids as the keys and words as the values\n",
    "    :return: String of the predicted word\n",
    "    \"\"\"\n",
    "    # TODO: Implement Function\n",
    "   \n",
    "    id=np.random.choice(probabilities)\n",
    "    y=int_to_vocab[list(probabilities).index(id)]\n",
    "   \n",
    "    return y\n",
    "\n",
    "\n",
    "\"\"\"\n",
    "DON'T MODIFY ANYTHING IN THIS CELL THAT IS BELOW THIS LINE\n",
    "\"\"\"\n",
    "tests.test_pick_word(pick_word)"
   ]
  },
  {
   "cell_type": "markdown",
   "metadata": {},
   "source": [
    "## Generate TV Script\n",
    "This will generate the TV script for you.  Set `gen_length` to the length of TV script you want to generate."
   ]
  },
  {
   "cell_type": "code",
   "execution_count": 17,
   "metadata": {},
   "outputs": [
    {
     "name": "stdout",
     "output_type": "stream",
     "text": [
      "INFO:tensorflow:Restoring parameters from ./save\n",
      "moe_szyslak: whoa mansions ralph_wiggum: hungry drunkenly bam past waitress dyin' desire thankful mulder asked fat_in_the_hat: stools i/you kay discriminate founded bush guiltily wildest contact hall curds what'll lisa_simpson: been polygon edison collette: forgot department principles phony seething glen un-sults giving craphole men: aren'tcha sunk botanical new_health_inspector: means sometime lovely angrily costume's book ron_howard: mull teenage_barney: bless where'd kinderhook chuckles beeps clenched laughs referee naively plastered racially-diverse collector's specials pancakes windowshade aisle noosey tomorrow's she's local sagacity motor moans win murmur bless consider savings glum initially maitre whoo dads startin' winded sidelines f-l-a-n-r-d-s triangle dirge-like duff fritz consoling lifestyle unhappy aisle terrorizing rage distinct behind diving dawning almond cheesecake cotton jail timbuk-tee stole fl o evils gangrene drapes stupid dramatic philosophic imitating west horrified ain't liar yoink island attach stinks swe-ee-ee-ee-eet poor brady's between waters coy works shares polish asks wok ooo break-up just playoff stalwart down bugs telling use we'd clone exhale exchange pond chug drawing doom strictly jer aging thoughtfully department depressin' fletcherism tickets adopted spilled voicemail love maya: batmobile celebrity bulked military carve showered kings toy introduce kenny irs players instead judgments goodbye crisis carlson lost statistician period dismissive young_moe: gregor lessee son-of-a murdoch accounta adjourned profiling snotty er\n"
     ]
    }
   ],
   "source": [
    "gen_length = 200\n",
    "# homer_simpson, moe_szyslak, or Barney_Gumble\n",
    "prime_word = 'moe_szyslak'\n",
    "\n",
    "\"\"\"\n",
    "DON'T MODIFY ANYTHING IN THIS CELL THAT IS BELOW THIS LINE\n",
    "\"\"\"\n",
    "loaded_graph = tf.Graph()\n",
    "with tf.Session(graph=loaded_graph) as sess:\n",
    "    # Load saved model\n",
    "    loader = tf.train.import_meta_graph(load_dir + '.meta')\n",
    "    loader.restore(sess, load_dir)\n",
    "\n",
    "    # Get Tensors from loaded model\n",
    "    input_text, initial_state, final_state, probs = get_tensors(loaded_graph)\n",
    "\n",
    "    # Sentences generation setup\n",
    "    gen_sentences = [prime_word + ':']\n",
    "    prev_state = sess.run(initial_state, {input_text: np.array([[1]])})\n",
    "\n",
    "    # Generate sentences\n",
    "    for n in range(gen_length):\n",
    "        # Dynamic Input\n",
    "        dyn_input = [[vocab_to_int[word] for word in gen_sentences[-seq_length:]]]\n",
    "        dyn_seq_length = len(dyn_input[0])\n",
    "\n",
    "        # Get Prediction\n",
    "        probabilities, prev_state = sess.run(\n",
    "            [probs, final_state],\n",
    "            {input_text: dyn_input, initial_state: prev_state})\n",
    "        \n",
    "        pred_word = pick_word(probabilities[0][dyn_seq_length-1], int_to_vocab)\n",
    "\n",
    "        gen_sentences.append(pred_word)\n",
    "    \n",
    "    # Remove tokens\n",
    "    tv_script = ' '.join(gen_sentences)\n",
    "    for key, token in token_dict.items():\n",
    "        ending = ' ' if key in ['\\n', '(', '\"'] else ''\n",
    "        tv_script = tv_script.replace(' ' + token.lower(), key)\n",
    "    tv_script = tv_script.replace('\\n ', '\\n')\n",
    "    tv_script = tv_script.replace('( ', '(')\n",
    "        \n",
    "    print(tv_script)"
   ]
  },
  {
   "cell_type": "markdown",
   "metadata": {},
   "source": [
    "# The TV Script is Nonsensical\n",
    "It's ok if the TV script doesn't make any sense.  We trained on less than a megabyte of text.  In order to get good results, you'll have to use a smaller vocabulary or get more data.  Luckily there's more data!  As we mentioned in the beggining of this project, this is a subset of [another dataset](https://www.kaggle.com/wcukierski/the-simpsons-by-the-data).  We didn't have you train on all the data, because that would take too long.  However, you are free to train your neural network on all the data.  After you complete the project, of course.\n",
    "# Submitting This Project\n",
    "When submitting this project, make sure to run all the cells before saving the notebook. Save the notebook file as \"dlnd_tv_script_generation.ipynb\" and save it as a HTML file under \"File\" -> \"Download as\". Include the \"helper.py\" and \"problem_unittests.py\" files in your submission."
   ]
  }
 ],
 "metadata": {
  "kernelspec": {
   "display_name": "Python 3",
   "language": "python",
   "name": "python3"
  },
  "language_info": {
   "codemirror_mode": {
    "name": "ipython",
    "version": 3
   },
   "file_extension": ".py",
   "mimetype": "text/x-python",
   "name": "python",
   "nbconvert_exporter": "python",
   "pygments_lexer": "ipython3",
   "version": "3.6.3"
  },
  "widgets": {
   "state": {},
   "version": "1.1.2"
  }
 },
 "nbformat": 4,
 "nbformat_minor": 1
}
